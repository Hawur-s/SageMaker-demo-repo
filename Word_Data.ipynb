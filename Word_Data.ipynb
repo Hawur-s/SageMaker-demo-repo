{
 "cells": [
  {
   "cell_type": "code",
   "execution_count": 1,
   "id": "upper-clearance",
   "metadata": {},
   "outputs": [
    {
     "data": {
      "text/html": [
       "        <script type=\"text/javascript\">\n",
       "        window.PlotlyConfig = {MathJaxConfig: 'local'};\n",
       "        if (window.MathJax) {MathJax.Hub.Config({SVG: {font: \"STIX-Web\"}});}\n",
       "        if (typeof require !== 'undefined') {\n",
       "        require.undef(\"plotly\");\n",
       "        requirejs.config({\n",
       "            paths: {\n",
       "                'plotly': ['https://cdn.plot.ly/plotly-latest.min']\n",
       "            }\n",
       "        });\n",
       "        require(['plotly'], function(Plotly) {\n",
       "            window._Plotly = Plotly;\n",
       "        });\n",
       "        }\n",
       "        </script>\n",
       "        "
      ]
     },
     "metadata": {},
     "output_type": "display_data"
    }
   ],
   "source": [
    "from bs4 import BeautifulSoup as soup\n",
    "from urllib.request import Request, urlopen\n",
    "import pandas as pd\n",
    "import numpy as np\n",
    "from datetime import date, datetime\n",
    "import matplotlib.pyplot as plt\n",
    "import gc #garbage collector\n",
    "import plotly.graph_objects as go\n",
    "import plotly.offline as py\n",
    "py.init_notebook_mode(connected=True)\n",
    "import seaborn as sns"
   ]
  },
  {
   "cell_type": "code",
   "execution_count": 3,
   "id": "tired-rebel",
   "metadata": {},
   "outputs": [],
   "source": [
    "fname = 'https://www.worldometers.info/coronavirus/#countries'\n",
    "req = Request(fname, headers={'User-Agent': 'Mozilla/5.0'})\n",
    "webpage = urlopen(req)\n",
    "page_soup = soup(webpage, \"html.parser\")\n",
    "today = datetime.now()\n",
    "today_str = \"%s %d, %d\" % (date.today().strftime(\"%b\"), today.day, today.year)\n",
    "yesterday_str = \"%s %d, %d\" % (date.today().strftime(\"%b\"), today.day-1, today.year)\n",
    "clean = True"
   ]
  },
  {
   "cell_type": "code",
   "execution_count": 4,
   "id": "democratic-turkish",
   "metadata": {},
   "outputs": [
    {
     "name": "stdout",
     "output_type": "stream",
     "text": [
      "This version of the notebook is being run on Mar 18, 2021.\n"
     ]
    }
   ],
   "source": [
    "print(\"This version of the notebook is being run on %s.\" % today_str)\n"
   ]
  },
  {
   "cell_type": "code",
   "execution_count": 5,
   "id": "broken-companion",
   "metadata": {},
   "outputs": [],
   "source": [
    "table = page_soup.findAll(\"table\", {\"id\": \"main_table_countries_yesterday\"})\n",
    "containers = table[0].findAll(\"tr\", {\"style\": \"\"})\n",
    "del containers[0]\n",
    "\n",
    "all_data = []\n",
    "for country in containers:\n",
    "    country_data = []\n",
    "    country_container = country.findAll(\"td\")\n",
    "    if country_container[1].text == 'China':\n",
    "        continue\n",
    "    for i in range(1, len(country_container)):\n",
    "        final_feature = country_container[i].text\n",
    "        if clean:\n",
    "            if i != 1 and i != len(country_container)-1:\n",
    "                final_feature = final_feature.replace(',', '')\n",
    "                if final_feature.find('+') != -1:\n",
    "                    final_feature = final_feature.replace('+', '')\n",
    "                    final_feature = float(final_feature)\n",
    "                elif final_feature.find('-') != -1:\n",
    "                    final_feature = final_feature.replace('-', '')\n",
    "                    final_feature = float(final_feature)*-1\n",
    "        if final_feature == 'N/A':\n",
    "            final_feature = 0\n",
    "        elif final_feature == '' or final_feature == ' ':\n",
    "            final_feature = -1 #None\n",
    "        country_data.append(final_feature)\n",
    "    all_data.append(country_data)"
   ]
  },
  {
   "cell_type": "code",
   "execution_count": 6,
   "id": "spread-appendix",
   "metadata": {},
   "outputs": [],
   "source": [
    "df = pd.DataFrame(all_data)\n",
    "\n",
    "df = df.drop([8, 9, 10, 11, 12, 15, 16, 17], axis=1) # Get rid of unnecessary data"
   ]
  },
  {
   "cell_type": "code",
   "execution_count": 7,
   "id": "heavy-climate",
   "metadata": {},
   "outputs": [],
   "source": [
    "df\n",
    "column_labels = [\"Country\", \"Total Cases\", \"New Cases\", \"Total Deaths\", \"New Deaths\", \"Total Recovered\", \"New Recovered\", \"Active Cases\",\n",
    "                \"Population\", \"Continent\"]\n",
    "df.columns = column_labels\n"
   ]
  },
  {
   "cell_type": "code",
   "execution_count": 8,
   "id": "ambient-interpretation",
   "metadata": {},
   "outputs": [],
   "source": [
    "country_labels = page_soup.findAll(\"a\", {\"class\": \"mt_a\"})\n",
    "c_label = []\n",
    "for country in country_labels:\n",
    "    c_label.append(country.text)\n",
    "c_label = set(c_label)\n",
    "\n",
    "not_counted = []\n",
    "sorted_countries = set(df['Country']) #Increase computational speed\n",
    "for country in c_label:\n",
    "    if country not in sorted_countries:\n",
    "        not_counted.append(country)"
   ]
  },
  {
   "cell_type": "code",
   "execution_count": 9,
   "id": "graduate-slovenia",
   "metadata": {},
   "outputs": [],
   "source": [
    "for label in df.columns:\n",
    "    if label != 'Country' and label != 'Continent':\n",
    "        df[label] = pd.to_numeric(df[label])"
   ]
  },
  {
   "cell_type": "code",
   "execution_count": 10,
   "id": "bronze-wisconsin",
   "metadata": {
    "scrolled": true
   },
   "outputs": [
    {
     "data": {
      "text/html": [
       "<div>\n",
       "<style scoped>\n",
       "    .dataframe tbody tr th:only-of-type {\n",
       "        vertical-align: middle;\n",
       "    }\n",
       "\n",
       "    .dataframe tbody tr th {\n",
       "        vertical-align: top;\n",
       "    }\n",
       "\n",
       "    .dataframe thead th {\n",
       "        text-align: right;\n",
       "    }\n",
       "</style>\n",
       "<table border=\"1\" class=\"dataframe\">\n",
       "  <thead>\n",
       "    <tr style=\"text-align: right;\">\n",
       "      <th></th>\n",
       "      <th>Country</th>\n",
       "      <th>Total Cases</th>\n",
       "      <th>New Cases</th>\n",
       "      <th>Total Deaths</th>\n",
       "      <th>New Deaths</th>\n",
       "      <th>Total Recovered</th>\n",
       "      <th>New Recovered</th>\n",
       "      <th>Active Cases</th>\n",
       "      <th>Population</th>\n",
       "      <th>Continent</th>\n",
       "    </tr>\n",
       "  </thead>\n",
       "  <tbody>\n",
       "    <tr>\n",
       "      <th>0</th>\n",
       "      <td>World</td>\n",
       "      <td>121803968</td>\n",
       "      <td>528845.0</td>\n",
       "      <td>2691812</td>\n",
       "      <td>9712.0</td>\n",
       "      <td>98198310</td>\n",
       "      <td>397934.0</td>\n",
       "      <td>20913846.0</td>\n",
       "      <td>-1</td>\n",
       "      <td>All</td>\n",
       "    </tr>\n",
       "    <tr>\n",
       "      <th>1</th>\n",
       "      <td>USA</td>\n",
       "      <td>30294798</td>\n",
       "      <td>62794.0</td>\n",
       "      <td>550649</td>\n",
       "      <td>1288.0</td>\n",
       "      <td>22447275</td>\n",
       "      <td>88740.0</td>\n",
       "      <td>7296874.0</td>\n",
       "      <td>332378543</td>\n",
       "      <td>North America</td>\n",
       "    </tr>\n",
       "    <tr>\n",
       "      <th>2</th>\n",
       "      <td>Brazil</td>\n",
       "      <td>11700431</td>\n",
       "      <td>90830.0</td>\n",
       "      <td>285136</td>\n",
       "      <td>2736.0</td>\n",
       "      <td>10287057</td>\n",
       "      <td>82516.0</td>\n",
       "      <td>1128238.0</td>\n",
       "      <td>213629898</td>\n",
       "      <td>South America</td>\n",
       "    </tr>\n",
       "    <tr>\n",
       "      <th>3</th>\n",
       "      <td>India</td>\n",
       "      <td>11474302</td>\n",
       "      <td>35838.0</td>\n",
       "      <td>159250</td>\n",
       "      <td>171.0</td>\n",
       "      <td>11061170</td>\n",
       "      <td>17793.0</td>\n",
       "      <td>253882.0</td>\n",
       "      <td>1389604984</td>\n",
       "      <td>Asia</td>\n",
       "    </tr>\n",
       "    <tr>\n",
       "      <th>4</th>\n",
       "      <td>Russia</td>\n",
       "      <td>4418436</td>\n",
       "      <td>8998.0</td>\n",
       "      <td>93364</td>\n",
       "      <td>427.0</td>\n",
       "      <td>4024975</td>\n",
       "      <td>10755.0</td>\n",
       "      <td>300097.0</td>\n",
       "      <td>145978921</td>\n",
       "      <td>Europe</td>\n",
       "    </tr>\n",
       "    <tr>\n",
       "      <th>5</th>\n",
       "      <td>UK</td>\n",
       "      <td>4274579</td>\n",
       "      <td>5758.0</td>\n",
       "      <td>125831</td>\n",
       "      <td>141.0</td>\n",
       "      <td>3568271</td>\n",
       "      <td>19540.0</td>\n",
       "      <td>580477.0</td>\n",
       "      <td>68138862</td>\n",
       "      <td>Europe</td>\n",
       "    </tr>\n",
       "    <tr>\n",
       "      <th>6</th>\n",
       "      <td>France</td>\n",
       "      <td>4146609</td>\n",
       "      <td>38501.0</td>\n",
       "      <td>91437</td>\n",
       "      <td>267.0</td>\n",
       "      <td>275360</td>\n",
       "      <td>-1.0</td>\n",
       "      <td>3779812.0</td>\n",
       "      <td>65376055</td>\n",
       "      <td>Europe</td>\n",
       "    </tr>\n",
       "    <tr>\n",
       "      <th>7</th>\n",
       "      <td>Italy</td>\n",
       "      <td>3281810</td>\n",
       "      <td>23059.0</td>\n",
       "      <td>103432</td>\n",
       "      <td>431.0</td>\n",
       "      <td>2639370</td>\n",
       "      <td>19716.0</td>\n",
       "      <td>539008.0</td>\n",
       "      <td>60398612</td>\n",
       "      <td>Europe</td>\n",
       "    </tr>\n",
       "    <tr>\n",
       "      <th>8</th>\n",
       "      <td>Spain</td>\n",
       "      <td>3206116</td>\n",
       "      <td>6092.0</td>\n",
       "      <td>72793</td>\n",
       "      <td>228.0</td>\n",
       "      <td>2857714</td>\n",
       "      <td>-1.0</td>\n",
       "      <td>275609.0</td>\n",
       "      <td>46767645</td>\n",
       "      <td>Europe</td>\n",
       "    </tr>\n",
       "    <tr>\n",
       "      <th>9</th>\n",
       "      <td>Turkey</td>\n",
       "      <td>2930554</td>\n",
       "      <td>18912.0</td>\n",
       "      <td>29696</td>\n",
       "      <td>73.0</td>\n",
       "      <td>2752023</td>\n",
       "      <td>17161.0</td>\n",
       "      <td>148835.0</td>\n",
       "      <td>84980970</td>\n",
       "      <td>Asia</td>\n",
       "    </tr>\n",
       "    <tr>\n",
       "      <th>10</th>\n",
       "      <td>Germany</td>\n",
       "      <td>2610769</td>\n",
       "      <td>16094.0</td>\n",
       "      <td>74677</td>\n",
       "      <td>246.0</td>\n",
       "      <td>2383600</td>\n",
       "      <td>9400.0</td>\n",
       "      <td>152492.0</td>\n",
       "      <td>83974064</td>\n",
       "      <td>Europe</td>\n",
       "    </tr>\n",
       "    <tr>\n",
       "      <th>11</th>\n",
       "      <td>Colombia</td>\n",
       "      <td>2314154</td>\n",
       "      <td>4554.0</td>\n",
       "      <td>61498</td>\n",
       "      <td>130.0</td>\n",
       "      <td>2212512</td>\n",
       "      <td>3288.0</td>\n",
       "      <td>40144.0</td>\n",
       "      <td>51266512</td>\n",
       "      <td>South America</td>\n",
       "    </tr>\n",
       "    <tr>\n",
       "      <th>12</th>\n",
       "      <td>Argentina</td>\n",
       "      <td>2218425</td>\n",
       "      <td>8304.0</td>\n",
       "      <td>54231</td>\n",
       "      <td>195.0</td>\n",
       "      <td>2003121</td>\n",
       "      <td>4527.0</td>\n",
       "      <td>161073.0</td>\n",
       "      <td>45489326</td>\n",
       "      <td>South America</td>\n",
       "    </tr>\n",
       "    <tr>\n",
       "      <th>13</th>\n",
       "      <td>Mexico</td>\n",
       "      <td>2169007</td>\n",
       "      <td>1278.0</td>\n",
       "      <td>195119</td>\n",
       "      <td>175.0</td>\n",
       "      <td>1716135</td>\n",
       "      <td>4204.0</td>\n",
       "      <td>257753.0</td>\n",
       "      <td>129891000</td>\n",
       "      <td>North America</td>\n",
       "    </tr>\n",
       "    <tr>\n",
       "      <th>14</th>\n",
       "      <td>Poland</td>\n",
       "      <td>1956974</td>\n",
       "      <td>25052.0</td>\n",
       "      <td>48032</td>\n",
       "      <td>453.0</td>\n",
       "      <td>1593165</td>\n",
       "      <td>6001.0</td>\n",
       "      <td>315777.0</td>\n",
       "      <td>37817143</td>\n",
       "      <td>Europe</td>\n",
       "    </tr>\n",
       "    <tr>\n",
       "      <th>15</th>\n",
       "      <td>Iran</td>\n",
       "      <td>1771115</td>\n",
       "      <td>7802.0</td>\n",
       "      <td>61492</td>\n",
       "      <td>65.0</td>\n",
       "      <td>1514061</td>\n",
       "      <td>7701.0</td>\n",
       "      <td>195562.0</td>\n",
       "      <td>84752633</td>\n",
       "      <td>Asia</td>\n",
       "    </tr>\n",
       "    <tr>\n",
       "      <th>16</th>\n",
       "      <td>South Africa</td>\n",
       "      <td>1532497</td>\n",
       "      <td>1531.0</td>\n",
       "      <td>51634</td>\n",
       "      <td>74.0</td>\n",
       "      <td>1459056</td>\n",
       "      <td>1055.0</td>\n",
       "      <td>21807.0</td>\n",
       "      <td>59837137</td>\n",
       "      <td>Africa</td>\n",
       "    </tr>\n",
       "    <tr>\n",
       "      <th>17</th>\n",
       "      <td>Ukraine</td>\n",
       "      <td>1489023</td>\n",
       "      <td>11833.0</td>\n",
       "      <td>28986</td>\n",
       "      <td>289.0</td>\n",
       "      <td>1237676</td>\n",
       "      <td>5467.0</td>\n",
       "      <td>222361.0</td>\n",
       "      <td>43546615</td>\n",
       "      <td>Europe</td>\n",
       "    </tr>\n",
       "    <tr>\n",
       "      <th>18</th>\n",
       "      <td>Indonesia</td>\n",
       "      <td>1437283</td>\n",
       "      <td>6825.0</td>\n",
       "      <td>38915</td>\n",
       "      <td>162.0</td>\n",
       "      <td>1266673</td>\n",
       "      <td>9010.0</td>\n",
       "      <td>131695.0</td>\n",
       "      <td>275569565</td>\n",
       "      <td>Asia</td>\n",
       "    </tr>\n",
       "    <tr>\n",
       "      <th>19</th>\n",
       "      <td>Peru</td>\n",
       "      <td>1435598</td>\n",
       "      <td>8534.0</td>\n",
       "      <td>49523</td>\n",
       "      <td>193.0</td>\n",
       "      <td>1347160</td>\n",
       "      <td>8682.0</td>\n",
       "      <td>38915.0</td>\n",
       "      <td>33296240</td>\n",
       "      <td>South America</td>\n",
       "    </tr>\n",
       "    <tr>\n",
       "      <th>20</th>\n",
       "      <td>Czechia</td>\n",
       "      <td>1426991</td>\n",
       "      <td>13934.0</td>\n",
       "      <td>23902</td>\n",
       "      <td>114.0</td>\n",
       "      <td>1215077</td>\n",
       "      <td>379.0</td>\n",
       "      <td>188012.0</td>\n",
       "      <td>10723088</td>\n",
       "      <td>Europe</td>\n",
       "    </tr>\n",
       "    <tr>\n",
       "      <th>21</th>\n",
       "      <td>Netherlands</td>\n",
       "      <td>1173487</td>\n",
       "      <td>5924.0</td>\n",
       "      <td>16165</td>\n",
       "      <td>46.0</td>\n",
       "      <td>0</td>\n",
       "      <td>0.0</td>\n",
       "      <td>0.0</td>\n",
       "      <td>17161789</td>\n",
       "      <td>Europe</td>\n",
       "    </tr>\n",
       "    <tr>\n",
       "      <th>22</th>\n",
       "      <td>Canada</td>\n",
       "      <td>919239</td>\n",
       "      <td>3371.0</td>\n",
       "      <td>22554</td>\n",
       "      <td>35.0</td>\n",
       "      <td>865085</td>\n",
       "      <td>3253.0</td>\n",
       "      <td>31600.0</td>\n",
       "      <td>37976427</td>\n",
       "      <td>North America</td>\n",
       "    </tr>\n",
       "    <tr>\n",
       "      <th>23</th>\n",
       "      <td>Chile</td>\n",
       "      <td>905212</td>\n",
       "      <td>4430.0</td>\n",
       "      <td>21816</td>\n",
       "      <td>27.0</td>\n",
       "      <td>851154</td>\n",
       "      <td>5442.0</td>\n",
       "      <td>32242.0</td>\n",
       "      <td>19232380</td>\n",
       "      <td>South America</td>\n",
       "    </tr>\n",
       "    <tr>\n",
       "      <th>24</th>\n",
       "      <td>Romania</td>\n",
       "      <td>874985</td>\n",
       "      <td>6186.0</td>\n",
       "      <td>21787</td>\n",
       "      <td>89.0</td>\n",
       "      <td>790813</td>\n",
       "      <td>1711.0</td>\n",
       "      <td>62385.0</td>\n",
       "      <td>19146259</td>\n",
       "      <td>Europe</td>\n",
       "    </tr>\n",
       "    <tr>\n",
       "      <th>25</th>\n",
       "      <td>Israel</td>\n",
       "      <td>824178</td>\n",
       "      <td>1475.0</td>\n",
       "      <td>6057</td>\n",
       "      <td>9.0</td>\n",
       "      <td>793940</td>\n",
       "      <td>3383.0</td>\n",
       "      <td>24181.0</td>\n",
       "      <td>9197590</td>\n",
       "      <td>Asia</td>\n",
       "    </tr>\n",
       "    <tr>\n",
       "      <th>26</th>\n",
       "      <td>Portugal</td>\n",
       "      <td>815570</td>\n",
       "      <td>673.0</td>\n",
       "      <td>16722</td>\n",
       "      <td>15.0</td>\n",
       "      <td>764019</td>\n",
       "      <td>1058.0</td>\n",
       "      <td>34829.0</td>\n",
       "      <td>10175557</td>\n",
       "      <td>Europe</td>\n",
       "    </tr>\n",
       "    <tr>\n",
       "      <th>27</th>\n",
       "      <td>Belgium</td>\n",
       "      <td>813026</td>\n",
       "      <td>3165.0</td>\n",
       "      <td>22572</td>\n",
       "      <td>27.0</td>\n",
       "      <td>54703</td>\n",
       "      <td>61.0</td>\n",
       "      <td>735751.0</td>\n",
       "      <td>11625400</td>\n",
       "      <td>Europe</td>\n",
       "    </tr>\n",
       "    <tr>\n",
       "      <th>28</th>\n",
       "      <td>Iraq</td>\n",
       "      <td>774015</td>\n",
       "      <td>5663.0</td>\n",
       "      <td>13860</td>\n",
       "      <td>33.0</td>\n",
       "      <td>698775</td>\n",
       "      <td>3591.0</td>\n",
       "      <td>61380.0</td>\n",
       "      <td>40857296</td>\n",
       "      <td>Asia</td>\n",
       "    </tr>\n",
       "    <tr>\n",
       "      <th>29</th>\n",
       "      <td>Sweden</td>\n",
       "      <td>732070</td>\n",
       "      <td>-1.0</td>\n",
       "      <td>13228</td>\n",
       "      <td>34.0</td>\n",
       "      <td>0</td>\n",
       "      <td>0.0</td>\n",
       "      <td>0.0</td>\n",
       "      <td>10143897</td>\n",
       "      <td>Europe</td>\n",
       "    </tr>\n",
       "    <tr>\n",
       "      <th>30</th>\n",
       "      <td>Philippines</td>\n",
       "      <td>635698</td>\n",
       "      <td>4387.0</td>\n",
       "      <td>12866</td>\n",
       "      <td>18.0</td>\n",
       "      <td>561099</td>\n",
       "      <td>374.0</td>\n",
       "      <td>61733.0</td>\n",
       "      <td>110611457</td>\n",
       "      <td>Asia</td>\n",
       "    </tr>\n",
       "    <tr>\n",
       "      <th>31</th>\n",
       "      <td>Pakistan</td>\n",
       "      <td>612315</td>\n",
       "      <td>2351.0</td>\n",
       "      <td>13656</td>\n",
       "      <td>61.0</td>\n",
       "      <td>575867</td>\n",
       "      <td>2853.0</td>\n",
       "      <td>22792.0</td>\n",
       "      <td>223913491</td>\n",
       "      <td>Asia</td>\n",
       "    </tr>\n",
       "    <tr>\n",
       "      <th>32</th>\n",
       "      <td>Switzerland</td>\n",
       "      <td>577111</td>\n",
       "      <td>1858.0</td>\n",
       "      <td>10163</td>\n",
       "      <td>16.0</td>\n",
       "      <td>533151</td>\n",
       "      <td>820.0</td>\n",
       "      <td>33797.0</td>\n",
       "      <td>8699459</td>\n",
       "      <td>Europe</td>\n",
       "    </tr>\n",
       "    <tr>\n",
       "      <th>33</th>\n",
       "      <td>Bangladesh</td>\n",
       "      <td>562752</td>\n",
       "      <td>1865.0</td>\n",
       "      <td>8608</td>\n",
       "      <td>11.0</td>\n",
       "      <td>515989</td>\n",
       "      <td>1510.0</td>\n",
       "      <td>38155.0</td>\n",
       "      <td>165850331</td>\n",
       "      <td>Asia</td>\n",
       "    </tr>\n",
       "    <tr>\n",
       "      <th>34</th>\n",
       "      <td>Hungary</td>\n",
       "      <td>532578</td>\n",
       "      <td>3456.0</td>\n",
       "      <td>17421</td>\n",
       "      <td>195.0</td>\n",
       "      <td>359061</td>\n",
       "      <td>2382.0</td>\n",
       "      <td>156096.0</td>\n",
       "      <td>9642902</td>\n",
       "      <td>Europe</td>\n",
       "    </tr>\n",
       "    <tr>\n",
       "      <th>35</th>\n",
       "      <td>Serbia</td>\n",
       "      <td>531558</td>\n",
       "      <td>5446.0</td>\n",
       "      <td>4810</td>\n",
       "      <td>32.0</td>\n",
       "      <td>451672</td>\n",
       "      <td>3179.0</td>\n",
       "      <td>75076.0</td>\n",
       "      <td>8712322</td>\n",
       "      <td>Europe</td>\n",
       "    </tr>\n",
       "    <tr>\n",
       "      <th>36</th>\n",
       "      <td>Jordan</td>\n",
       "      <td>504915</td>\n",
       "      <td>9535.0</td>\n",
       "      <td>5553</td>\n",
       "      <td>56.0</td>\n",
       "      <td>412387</td>\n",
       "      <td>5733.0</td>\n",
       "      <td>86975.0</td>\n",
       "      <td>10274805</td>\n",
       "      <td>Asia</td>\n",
       "    </tr>\n",
       "    <tr>\n",
       "      <th>37</th>\n",
       "      <td>Austria</td>\n",
       "      <td>501224</td>\n",
       "      <td>3239.0</td>\n",
       "      <td>8956</td>\n",
       "      <td>31.0</td>\n",
       "      <td>463714</td>\n",
       "      <td>2055.0</td>\n",
       "      <td>28554.0</td>\n",
       "      <td>9042828</td>\n",
       "      <td>Europe</td>\n",
       "    </tr>\n",
       "    <tr>\n",
       "      <th>38</th>\n",
       "      <td>Morocco</td>\n",
       "      <td>490088</td>\n",
       "      <td>466.0</td>\n",
       "      <td>8745</td>\n",
       "      <td>8.0</td>\n",
       "      <td>477305</td>\n",
       "      <td>578.0</td>\n",
       "      <td>4038.0</td>\n",
       "      <td>37219847</td>\n",
       "      <td>Africa</td>\n",
       "    </tr>\n",
       "    <tr>\n",
       "      <th>39</th>\n",
       "      <td>Japan</td>\n",
       "      <td>449713</td>\n",
       "      <td>1025.0</td>\n",
       "      <td>8678</td>\n",
       "      <td>56.0</td>\n",
       "      <td>428783</td>\n",
       "      <td>1201.0</td>\n",
       "      <td>12252.0</td>\n",
       "      <td>126200994</td>\n",
       "      <td>Asia</td>\n",
       "    </tr>\n",
       "    <tr>\n",
       "      <th>40</th>\n",
       "      <td>UAE</td>\n",
       "      <td>432364</td>\n",
       "      <td>2051.0</td>\n",
       "      <td>1414</td>\n",
       "      <td>8.0</td>\n",
       "      <td>413477</td>\n",
       "      <td>2741.0</td>\n",
       "      <td>17473.0</td>\n",
       "      <td>9974872</td>\n",
       "      <td>Asia</td>\n",
       "    </tr>\n",
       "    <tr>\n",
       "      <th>41</th>\n",
       "      <td>Lebanon</td>\n",
       "      <td>426977</td>\n",
       "      <td>3544.0</td>\n",
       "      <td>5536</td>\n",
       "      <td>62.0</td>\n",
       "      <td>335333</td>\n",
       "      <td>1685.0</td>\n",
       "      <td>86108.0</td>\n",
       "      <td>6803687</td>\n",
       "      <td>Asia</td>\n",
       "    </tr>\n",
       "    <tr>\n",
       "      <th>42</th>\n",
       "      <td>Saudi Arabia</td>\n",
       "      <td>383499</td>\n",
       "      <td>393.0</td>\n",
       "      <td>6585</td>\n",
       "      <td>7.0</td>\n",
       "      <td>373361</td>\n",
       "      <td>231.0</td>\n",
       "      <td>3553.0</td>\n",
       "      <td>35196485</td>\n",
       "      <td>Asia</td>\n",
       "    </tr>\n",
       "    <tr>\n",
       "      <th>43</th>\n",
       "      <td>Panama</td>\n",
       "      <td>349020</td>\n",
       "      <td>440.0</td>\n",
       "      <td>6018</td>\n",
       "      <td>9.0</td>\n",
       "      <td>337630</td>\n",
       "      <td>620.0</td>\n",
       "      <td>5372.0</td>\n",
       "      <td>4362696</td>\n",
       "      <td>North America</td>\n",
       "    </tr>\n",
       "    <tr>\n",
       "      <th>44</th>\n",
       "      <td>Slovakia</td>\n",
       "      <td>342430</td>\n",
       "      <td>2892.0</td>\n",
       "      <td>8738</td>\n",
       "      <td>69.0</td>\n",
       "      <td>255300</td>\n",
       "      <td>-1.0</td>\n",
       "      <td>78392.0</td>\n",
       "      <td>5461521</td>\n",
       "      <td>Europe</td>\n",
       "    </tr>\n",
       "    <tr>\n",
       "      <th>45</th>\n",
       "      <td>Malaysia</td>\n",
       "      <td>327253</td>\n",
       "      <td>1219.0</td>\n",
       "      <td>1220</td>\n",
       "      <td>2.0</td>\n",
       "      <td>310958</td>\n",
       "      <td>1346.0</td>\n",
       "      <td>15075.0</td>\n",
       "      <td>32659029</td>\n",
       "      <td>Asia</td>\n",
       "    </tr>\n",
       "    <tr>\n",
       "      <th>46</th>\n",
       "      <td>Ecuador</td>\n",
       "      <td>305598</td>\n",
       "      <td>2744.0</td>\n",
       "      <td>16300</td>\n",
       "      <td>41.0</td>\n",
       "      <td>263164</td>\n",
       "      <td>-1.0</td>\n",
       "      <td>26134.0</td>\n",
       "      <td>17832152</td>\n",
       "      <td>South America</td>\n",
       "    </tr>\n",
       "    <tr>\n",
       "      <th>47</th>\n",
       "      <td>Belarus</td>\n",
       "      <td>305270</td>\n",
       "      <td>1124.0</td>\n",
       "      <td>2121</td>\n",
       "      <td>9.0</td>\n",
       "      <td>296183</td>\n",
       "      <td>1305.0</td>\n",
       "      <td>6966.0</td>\n",
       "      <td>9447114</td>\n",
       "      <td>Europe</td>\n",
       "    </tr>\n",
       "    <tr>\n",
       "      <th>48</th>\n",
       "      <td>Bulgaria</td>\n",
       "      <td>291769</td>\n",
       "      <td>4201.0</td>\n",
       "      <td>11715</td>\n",
       "      <td>136.0</td>\n",
       "      <td>230457</td>\n",
       "      <td>1641.0</td>\n",
       "      <td>49597.0</td>\n",
       "      <td>6911167</td>\n",
       "      <td>Europe</td>\n",
       "    </tr>\n",
       "    <tr>\n",
       "      <th>49</th>\n",
       "      <td>Georgia</td>\n",
       "      <td>276067</td>\n",
       "      <td>382.0</td>\n",
       "      <td>3665</td>\n",
       "      <td>7.0</td>\n",
       "      <td>269006</td>\n",
       "      <td>313.0</td>\n",
       "      <td>3396.0</td>\n",
       "      <td>3983722</td>\n",
       "      <td>Asia</td>\n",
       "    </tr>\n",
       "    <tr>\n",
       "      <th>50</th>\n",
       "      <td>Nepal</td>\n",
       "      <td>275518</td>\n",
       "      <td>94.0</td>\n",
       "      <td>3014</td>\n",
       "      <td>-1.0</td>\n",
       "      <td>271550</td>\n",
       "      <td>55.0</td>\n",
       "      <td>954.0</td>\n",
       "      <td>29506199</td>\n",
       "      <td>Asia</td>\n",
       "    </tr>\n",
       "    <tr>\n",
       "      <th>51</th>\n",
       "      <td>Bolivia</td>\n",
       "      <td>260988</td>\n",
       "      <td>929.0</td>\n",
       "      <td>11997</td>\n",
       "      <td>23.0</td>\n",
       "      <td>206586</td>\n",
       "      <td>958.0</td>\n",
       "      <td>42405.0</td>\n",
       "      <td>11785493</td>\n",
       "      <td>South America</td>\n",
       "    </tr>\n",
       "    <tr>\n",
       "      <th>52</th>\n",
       "      <td>Croatia</td>\n",
       "      <td>253310</td>\n",
       "      <td>1445.0</td>\n",
       "      <td>5709</td>\n",
       "      <td>12.0</td>\n",
       "      <td>242111</td>\n",
       "      <td>418.0</td>\n",
       "      <td>5490.0</td>\n",
       "      <td>4087234</td>\n",
       "      <td>Europe</td>\n",
       "    </tr>\n",
       "    <tr>\n",
       "      <th>53</th>\n",
       "      <td>Dominican Republic</td>\n",
       "      <td>247364</td>\n",
       "      <td>570.0</td>\n",
       "      <td>3248</td>\n",
       "      <td>11.0</td>\n",
       "      <td>203656</td>\n",
       "      <td>586.0</td>\n",
       "      <td>40460.0</td>\n",
       "      <td>10924879</td>\n",
       "      <td>North America</td>\n",
       "    </tr>\n",
       "    <tr>\n",
       "      <th>54</th>\n",
       "      <td>Tunisia</td>\n",
       "      <td>243439</td>\n",
       "      <td>766.0</td>\n",
       "      <td>8463</td>\n",
       "      <td>34.0</td>\n",
       "      <td>210375</td>\n",
       "      <td>620.0</td>\n",
       "      <td>24601.0</td>\n",
       "      <td>11906101</td>\n",
       "      <td>Africa</td>\n",
       "    </tr>\n",
       "    <tr>\n",
       "      <th>55</th>\n",
       "      <td>Azerbaijan</td>\n",
       "      <td>242491</td>\n",
       "      <td>840.0</td>\n",
       "      <td>3307</td>\n",
       "      <td>9.0</td>\n",
       "      <td>231638</td>\n",
       "      <td>268.0</td>\n",
       "      <td>7546.0</td>\n",
       "      <td>10203869</td>\n",
       "      <td>Asia</td>\n",
       "    </tr>\n",
       "    <tr>\n",
       "      <th>56</th>\n",
       "      <td>Ireland</td>\n",
       "      <td>228215</td>\n",
       "      <td>552.0</td>\n",
       "      <td>4566</td>\n",
       "      <td>14.0</td>\n",
       "      <td>23364</td>\n",
       "      <td>-1.0</td>\n",
       "      <td>200285.0</td>\n",
       "      <td>4976791</td>\n",
       "      <td>Europe</td>\n",
       "    </tr>\n",
       "    <tr>\n",
       "      <th>57</th>\n",
       "      <td>Greece</td>\n",
       "      <td>227247</td>\n",
       "      <td>3458.0</td>\n",
       "      <td>7252</td>\n",
       "      <td>56.0</td>\n",
       "      <td>194481</td>\n",
       "      <td>4293.0</td>\n",
       "      <td>25514.0</td>\n",
       "      <td>10386806</td>\n",
       "      <td>Europe</td>\n",
       "    </tr>\n",
       "    <tr>\n",
       "      <th>58</th>\n",
       "      <td>Kazakhstan</td>\n",
       "      <td>226767</td>\n",
       "      <td>1082.0</td>\n",
       "      <td>2873</td>\n",
       "      <td>-1.0</td>\n",
       "      <td>208074</td>\n",
       "      <td>703.0</td>\n",
       "      <td>15820.0</td>\n",
       "      <td>18935477</td>\n",
       "      <td>Asia</td>\n",
       "    </tr>\n",
       "    <tr>\n",
       "      <th>59</th>\n",
       "      <td>Denmark</td>\n",
       "      <td>222629</td>\n",
       "      <td>787.0</td>\n",
       "      <td>2396</td>\n",
       "      <td>1.0</td>\n",
       "      <td>211356</td>\n",
       "      <td>628.0</td>\n",
       "      <td>8877.0</td>\n",
       "      <td>5806675</td>\n",
       "      <td>Europe</td>\n",
       "    </tr>\n",
       "    <tr>\n",
       "      <th>60</th>\n",
       "      <td>Palestine</td>\n",
       "      <td>215984</td>\n",
       "      <td>2193.0</td>\n",
       "      <td>2343</td>\n",
       "      <td>29.0</td>\n",
       "      <td>191839</td>\n",
       "      <td>2080.0</td>\n",
       "      <td>21802.0</td>\n",
       "      <td>5184785</td>\n",
       "      <td>Asia</td>\n",
       "    </tr>\n",
       "    <tr>\n",
       "      <th>61</th>\n",
       "      <td>Kuwait</td>\n",
       "      <td>213673</td>\n",
       "      <td>1504.0</td>\n",
       "      <td>1194</td>\n",
       "      <td>8.0</td>\n",
       "      <td>198273</td>\n",
       "      <td>1452.0</td>\n",
       "      <td>14206.0</td>\n",
       "      <td>4315158</td>\n",
       "      <td>Asia</td>\n",
       "    </tr>\n",
       "    <tr>\n",
       "      <th>62</th>\n",
       "      <td>Costa Rica</td>\n",
       "      <td>210447</td>\n",
       "      <td>-1.0</td>\n",
       "      <td>2886</td>\n",
       "      <td>-1.0</td>\n",
       "      <td>189682</td>\n",
       "      <td>-1.0</td>\n",
       "      <td>17879.0</td>\n",
       "      <td>5127044</td>\n",
       "      <td>North America</td>\n",
       "    </tr>\n",
       "    <tr>\n",
       "      <th>63</th>\n",
       "      <td>Moldova</td>\n",
       "      <td>208928</td>\n",
       "      <td>1916.0</td>\n",
       "      <td>4436</td>\n",
       "      <td>34.0</td>\n",
       "      <td>182108</td>\n",
       "      <td>1345.0</td>\n",
       "      <td>22384.0</td>\n",
       "      <td>4027295</td>\n",
       "      <td>Europe</td>\n",
       "    </tr>\n",
       "    <tr>\n",
       "      <th>64</th>\n",
       "      <td>Lithuania</td>\n",
       "      <td>206889</td>\n",
       "      <td>570.0</td>\n",
       "      <td>3427</td>\n",
       "      <td>8.0</td>\n",
       "      <td>192484</td>\n",
       "      <td>366.0</td>\n",
       "      <td>10978.0</td>\n",
       "      <td>2695154</td>\n",
       "      <td>Europe</td>\n",
       "    </tr>\n",
       "    <tr>\n",
       "      <th>65</th>\n",
       "      <td>Slovenia</td>\n",
       "      <td>202573</td>\n",
       "      <td>1112.0</td>\n",
       "      <td>3948</td>\n",
       "      <td>7.0</td>\n",
       "      <td>188315</td>\n",
       "      <td>1203.0</td>\n",
       "      <td>10310.0</td>\n",
       "      <td>2079141</td>\n",
       "      <td>Europe</td>\n",
       "    </tr>\n",
       "    <tr>\n",
       "      <th>66</th>\n",
       "      <td>Egypt</td>\n",
       "      <td>192840</td>\n",
       "      <td>645.0</td>\n",
       "      <td>11431</td>\n",
       "      <td>47.0</td>\n",
       "      <td>148424</td>\n",
       "      <td>335.0</td>\n",
       "      <td>32985.0</td>\n",
       "      <td>103694304</td>\n",
       "      <td>Africa</td>\n",
       "    </tr>\n",
       "    <tr>\n",
       "      <th>67</th>\n",
       "      <td>Paraguay</td>\n",
       "      <td>185888</td>\n",
       "      <td>2540.0</td>\n",
       "      <td>3588</td>\n",
       "      <td>34.0</td>\n",
       "      <td>153781</td>\n",
       "      <td>1501.0</td>\n",
       "      <td>28519.0</td>\n",
       "      <td>7194464</td>\n",
       "      <td>South America</td>\n",
       "    </tr>\n",
       "    <tr>\n",
       "      <th>68</th>\n",
       "      <td>Guatemala</td>\n",
       "      <td>184934</td>\n",
       "      <td>949.0</td>\n",
       "      <td>6619</td>\n",
       "      <td>20.0</td>\n",
       "      <td>169624</td>\n",
       "      <td>475.0</td>\n",
       "      <td>8691.0</td>\n",
       "      <td>18149108</td>\n",
       "      <td>North America</td>\n",
       "    </tr>\n",
       "    <tr>\n",
       "      <th>69</th>\n",
       "      <td>Armenia</td>\n",
       "      <td>180141</td>\n",
       "      <td>854.0</td>\n",
       "      <td>3282</td>\n",
       "      <td>5.0</td>\n",
       "      <td>166913</td>\n",
       "      <td>211.0</td>\n",
       "      <td>9946.0</td>\n",
       "      <td>2967176</td>\n",
       "      <td>Asia</td>\n",
       "    </tr>\n",
       "    <tr>\n",
       "      <th>70</th>\n",
       "      <td>Ethiopia</td>\n",
       "      <td>179812</td>\n",
       "      <td>1704.0</td>\n",
       "      <td>2592</td>\n",
       "      <td>19.0</td>\n",
       "      <td>145019</td>\n",
       "      <td>531.0</td>\n",
       "      <td>32201.0</td>\n",
       "      <td>116964025</td>\n",
       "      <td>Africa</td>\n",
       "    </tr>\n",
       "    <tr>\n",
       "      <th>71</th>\n",
       "      <td>Honduras</td>\n",
       "      <td>179515</td>\n",
       "      <td>590.0</td>\n",
       "      <td>4373</td>\n",
       "      <td>13.0</td>\n",
       "      <td>68892</td>\n",
       "      <td>167.0</td>\n",
       "      <td>106250.0</td>\n",
       "      <td>10015758</td>\n",
       "      <td>North America</td>\n",
       "    </tr>\n",
       "    <tr>\n",
       "      <th>72</th>\n",
       "      <td>Qatar</td>\n",
       "      <td>171701</td>\n",
       "      <td>489.0</td>\n",
       "      <td>270</td>\n",
       "      <td>2.0</td>\n",
       "      <td>159141</td>\n",
       "      <td>288.0</td>\n",
       "      <td>12290.0</td>\n",
       "      <td>2807805</td>\n",
       "      <td>Asia</td>\n",
       "    </tr>\n",
       "    <tr>\n",
       "      <th>73</th>\n",
       "      <td>Nigeria</td>\n",
       "      <td>161261</td>\n",
       "      <td>187.0</td>\n",
       "      <td>2027</td>\n",
       "      <td>9.0</td>\n",
       "      <td>146395</td>\n",
       "      <td>323.0</td>\n",
       "      <td>12839.0</td>\n",
       "      <td>209728688</td>\n",
       "      <td>Africa</td>\n",
       "    </tr>\n",
       "    <tr>\n",
       "      <th>74</th>\n",
       "      <td>Oman</td>\n",
       "      <td>148558</td>\n",
       "      <td>548.0</td>\n",
       "      <td>1617</td>\n",
       "      <td>3.0</td>\n",
       "      <td>137544</td>\n",
       "      <td>516.0</td>\n",
       "      <td>9397.0</td>\n",
       "      <td>5197830</td>\n",
       "      <td>Asia</td>\n",
       "    </tr>\n",
       "    <tr>\n",
       "      <th>75</th>\n",
       "      <td>Libya</td>\n",
       "      <td>148175</td>\n",
       "      <td>1054.0</td>\n",
       "      <td>2422</td>\n",
       "      <td>16.0</td>\n",
       "      <td>134923</td>\n",
       "      <td>1155.0</td>\n",
       "      <td>10830.0</td>\n",
       "      <td>6937293</td>\n",
       "      <td>Africa</td>\n",
       "    </tr>\n",
       "    <tr>\n",
       "      <th>76</th>\n",
       "      <td>Bosnia and Herzegovina</td>\n",
       "      <td>148163</td>\n",
       "      <td>1726.0</td>\n",
       "      <td>5672</td>\n",
       "      <td>35.0</td>\n",
       "      <td>122680</td>\n",
       "      <td>573.0</td>\n",
       "      <td>19811.0</td>\n",
       "      <td>3266282</td>\n",
       "      <td>Europe</td>\n",
       "    </tr>\n",
       "    <tr>\n",
       "      <th>77</th>\n",
       "      <td>Venezuela</td>\n",
       "      <td>147577</td>\n",
       "      <td>549.0</td>\n",
       "      <td>1459</td>\n",
       "      <td>8.0</td>\n",
       "      <td>138841</td>\n",
       "      <td>430.0</td>\n",
       "      <td>7277.0</td>\n",
       "      <td>28378622</td>\n",
       "      <td>South America</td>\n",
       "    </tr>\n",
       "    <tr>\n",
       "      <th>78</th>\n",
       "      <td>Myanmar</td>\n",
       "      <td>142190</td>\n",
       "      <td>11.0</td>\n",
       "      <td>3203</td>\n",
       "      <td>-1.0</td>\n",
       "      <td>131751</td>\n",
       "      <td>3.0</td>\n",
       "      <td>7236.0</td>\n",
       "      <td>54668265</td>\n",
       "      <td>Asia</td>\n",
       "    </tr>\n",
       "    <tr>\n",
       "      <th>79</th>\n",
       "      <td>Bahrain</td>\n",
       "      <td>133137</td>\n",
       "      <td>768.0</td>\n",
       "      <td>489</td>\n",
       "      <td>2.0</td>\n",
       "      <td>126080</td>\n",
       "      <td>577.0</td>\n",
       "      <td>6568.0</td>\n",
       "      <td>1742911</td>\n",
       "      <td>Asia</td>\n",
       "    </tr>\n",
       "    <tr>\n",
       "      <th>80</th>\n",
       "      <td>Albania</td>\n",
       "      <td>118938</td>\n",
       "      <td>446.0</td>\n",
       "      <td>2092</td>\n",
       "      <td>15.0</td>\n",
       "      <td>82554</td>\n",
       "      <td>744.0</td>\n",
       "      <td>34292.0</td>\n",
       "      <td>2875563</td>\n",
       "      <td>Europe</td>\n",
       "    </tr>\n",
       "    <tr>\n",
       "      <th>81</th>\n",
       "      <td>Kenya</td>\n",
       "      <td>116310</td>\n",
       "      <td>1279.0</td>\n",
       "      <td>1937</td>\n",
       "      <td>12.0</td>\n",
       "      <td>89061</td>\n",
       "      <td>280.0</td>\n",
       "      <td>25312.0</td>\n",
       "      <td>54604492</td>\n",
       "      <td>Africa</td>\n",
       "    </tr>\n",
       "    <tr>\n",
       "      <th>82</th>\n",
       "      <td>Algeria</td>\n",
       "      <td>115688</td>\n",
       "      <td>148.0</td>\n",
       "      <td>3048</td>\n",
       "      <td>3.0</td>\n",
       "      <td>80219</td>\n",
       "      <td>116.0</td>\n",
       "      <td>32421.0</td>\n",
       "      <td>44409167</td>\n",
       "      <td>Africa</td>\n",
       "    </tr>\n",
       "    <tr>\n",
       "      <th>83</th>\n",
       "      <td>North Macedonia</td>\n",
       "      <td>115222</td>\n",
       "      <td>1293.0</td>\n",
       "      <td>3388</td>\n",
       "      <td>24.0</td>\n",
       "      <td>99015</td>\n",
       "      <td>339.0</td>\n",
       "      <td>12819.0</td>\n",
       "      <td>2083313</td>\n",
       "      <td>Europe</td>\n",
       "    </tr>\n",
       "    <tr>\n",
       "      <th>84</th>\n",
       "      <td>S. Korea</td>\n",
       "      <td>96849</td>\n",
       "      <td>469.0</td>\n",
       "      <td>1686</td>\n",
       "      <td>8.0</td>\n",
       "      <td>88814</td>\n",
       "      <td>559.0</td>\n",
       "      <td>6349.0</td>\n",
       "      <td>51300528</td>\n",
       "      <td>Asia</td>\n",
       "    </tr>\n",
       "    <tr>\n",
       "      <th>85</th>\n",
       "      <td>Latvia</td>\n",
       "      <td>95420</td>\n",
       "      <td>818.0</td>\n",
       "      <td>1789</td>\n",
       "      <td>12.0</td>\n",
       "      <td>85465</td>\n",
       "      <td>-1.0</td>\n",
       "      <td>8166.0</td>\n",
       "      <td>1871316</td>\n",
       "      <td>Europe</td>\n",
       "    </tr>\n",
       "    <tr>\n",
       "      <th>86</th>\n",
       "      <td>Estonia</td>\n",
       "      <td>89331</td>\n",
       "      <td>1784.0</td>\n",
       "      <td>745</td>\n",
       "      <td>6.0</td>\n",
       "      <td>60743</td>\n",
       "      <td>367.0</td>\n",
       "      <td>27843.0</td>\n",
       "      <td>1327169</td>\n",
       "      <td>Europe</td>\n",
       "    </tr>\n",
       "    <tr>\n",
       "      <th>87</th>\n",
       "      <td>Sri Lanka</td>\n",
       "      <td>88862</td>\n",
       "      <td>470.0</td>\n",
       "      <td>537</td>\n",
       "      <td>5.0</td>\n",
       "      <td>85725</td>\n",
       "      <td>756.0</td>\n",
       "      <td>2600.0</td>\n",
       "      <td>21476939</td>\n",
       "      <td>Asia</td>\n",
       "    </tr>\n",
       "    <tr>\n",
       "      <th>88</th>\n",
       "      <td>Ghana</td>\n",
       "      <td>88421</td>\n",
       "      <td>193.0</td>\n",
       "      <td>705</td>\n",
       "      <td>7.0</td>\n",
       "      <td>84095</td>\n",
       "      <td>266.0</td>\n",
       "      <td>3621.0</td>\n",
       "      <td>31529475</td>\n",
       "      <td>Africa</td>\n",
       "    </tr>\n",
       "    <tr>\n",
       "      <th>89</th>\n",
       "      <td>Kyrgyzstan</td>\n",
       "      <td>87045</td>\n",
       "      <td>55.0</td>\n",
       "      <td>1485</td>\n",
       "      <td>1.0</td>\n",
       "      <td>83980</td>\n",
       "      <td>56.0</td>\n",
       "      <td>1580.0</td>\n",
       "      <td>6600122</td>\n",
       "      <td>Asia</td>\n",
       "    </tr>\n",
       "    <tr>\n",
       "      <th>90</th>\n",
       "      <td>Zambia</td>\n",
       "      <td>85502</td>\n",
       "      <td>262.0</td>\n",
       "      <td>1170</td>\n",
       "      <td>3.0</td>\n",
       "      <td>82457</td>\n",
       "      <td>25.0</td>\n",
       "      <td>1875.0</td>\n",
       "      <td>18745039</td>\n",
       "      <td>Africa</td>\n",
       "    </tr>\n",
       "    <tr>\n",
       "      <th>91</th>\n",
       "      <td>Montenegro</td>\n",
       "      <td>85253</td>\n",
       "      <td>553.0</td>\n",
       "      <td>1169</td>\n",
       "      <td>18.0</td>\n",
       "      <td>75503</td>\n",
       "      <td>651.0</td>\n",
       "      <td>8581.0</td>\n",
       "      <td>628122</td>\n",
       "      <td>Europe</td>\n",
       "    </tr>\n",
       "    <tr>\n",
       "      <th>92</th>\n",
       "      <td>Norway</td>\n",
       "      <td>83519</td>\n",
       "      <td>1064.0</td>\n",
       "      <td>648</td>\n",
       "      <td>7.0</td>\n",
       "      <td>70224</td>\n",
       "      <td>-1.0</td>\n",
       "      <td>12647.0</td>\n",
       "      <td>5451264</td>\n",
       "      <td>Europe</td>\n",
       "    </tr>\n",
       "    <tr>\n",
       "      <th>93</th>\n",
       "      <td>Uzbekistan</td>\n",
       "      <td>80858</td>\n",
       "      <td>115.0</td>\n",
       "      <td>622</td>\n",
       "      <td>-1.0</td>\n",
       "      <td>79450</td>\n",
       "      <td>79.0</td>\n",
       "      <td>786.0</td>\n",
       "      <td>33811688</td>\n",
       "      <td>Asia</td>\n",
       "    </tr>\n",
       "    <tr>\n",
       "      <th>94</th>\n",
       "      <td>Uruguay</td>\n",
       "      <td>75138</td>\n",
       "      <td>1368.0</td>\n",
       "      <td>740</td>\n",
       "      <td>15.0</td>\n",
       "      <td>63475</td>\n",
       "      <td>891.0</td>\n",
       "      <td>10923.0</td>\n",
       "      <td>3482272</td>\n",
       "      <td>South America</td>\n",
       "    </tr>\n",
       "    <tr>\n",
       "      <th>95</th>\n",
       "      <td>Finland</td>\n",
       "      <td>68693</td>\n",
       "      <td>842.0</td>\n",
       "      <td>804</td>\n",
       "      <td>3.0</td>\n",
       "      <td>46000</td>\n",
       "      <td>-1.0</td>\n",
       "      <td>21889.0</td>\n",
       "      <td>5546833</td>\n",
       "      <td>Europe</td>\n",
       "    </tr>\n",
       "    <tr>\n",
       "      <th>96</th>\n",
       "      <td>Mozambique</td>\n",
       "      <td>65197</td>\n",
       "      <td>268.0</td>\n",
       "      <td>733</td>\n",
       "      <td>1.0</td>\n",
       "      <td>51376</td>\n",
       "      <td>532.0</td>\n",
       "      <td>13088.0</td>\n",
       "      <td>31869564</td>\n",
       "      <td>Africa</td>\n",
       "    </tr>\n",
       "    <tr>\n",
       "      <th>97</th>\n",
       "      <td>Cuba</td>\n",
       "      <td>63725</td>\n",
       "      <td>727.0</td>\n",
       "      <td>380</td>\n",
       "      <td>4.0</td>\n",
       "      <td>59550</td>\n",
       "      <td>940.0</td>\n",
       "      <td>3795.0</td>\n",
       "      <td>11321702</td>\n",
       "      <td>North America</td>\n",
       "    </tr>\n",
       "    <tr>\n",
       "      <th>98</th>\n",
       "      <td>El Salvador</td>\n",
       "      <td>62531</td>\n",
       "      <td>-1.0</td>\n",
       "      <td>1962</td>\n",
       "      <td>4.0</td>\n",
       "      <td>59576</td>\n",
       "      <td>-1.0</td>\n",
       "      <td>993.0</td>\n",
       "      <td>6509413</td>\n",
       "      <td>North America</td>\n",
       "    </tr>\n",
       "    <tr>\n",
       "      <th>99</th>\n",
       "      <td>Singapore</td>\n",
       "      <td>60137</td>\n",
       "      <td>9.0</td>\n",
       "      <td>30</td>\n",
       "      <td>-1.0</td>\n",
       "      <td>60001</td>\n",
       "      <td>17.0</td>\n",
       "      <td>106.0</td>\n",
       "      <td>5882929</td>\n",
       "      <td>Asia</td>\n",
       "    </tr>\n",
       "    <tr>\n",
       "      <th>100</th>\n",
       "      <td>Luxembourg</td>\n",
       "      <td>58408</td>\n",
       "      <td>297.0</td>\n",
       "      <td>704</td>\n",
       "      <td>7.0</td>\n",
       "      <td>54666</td>\n",
       "      <td>138.0</td>\n",
       "      <td>3038.0</td>\n",
       "      <td>633162</td>\n",
       "      <td>Europe</td>\n",
       "    </tr>\n",
       "    <tr>\n",
       "      <th>101</th>\n",
       "      <td>Afghanistan</td>\n",
       "      <td>56044</td>\n",
       "      <td>28.0</td>\n",
       "      <td>2462</td>\n",
       "      <td>2.0</td>\n",
       "      <td>49536</td>\n",
       "      <td>37.0</td>\n",
       "      <td>4046.0</td>\n",
       "      <td>39544919</td>\n",
       "      <td>Asia</td>\n",
       "    </tr>\n",
       "    <tr>\n",
       "      <th>102</th>\n",
       "      <td>Namibia</td>\n",
       "      <td>41546</td>\n",
       "      <td>80.0</td>\n",
       "      <td>477</td>\n",
       "      <td>3.0</td>\n",
       "      <td>38942</td>\n",
       "      <td>149.0</td>\n",
       "      <td>2127.0</td>\n",
       "      <td>2573338</td>\n",
       "      <td>Africa</td>\n",
       "    </tr>\n",
       "    <tr>\n",
       "      <th>103</th>\n",
       "      <td>Cyprus</td>\n",
       "      <td>40726</td>\n",
       "      <td>382.0</td>\n",
       "      <td>241</td>\n",
       "      <td>-1.0</td>\n",
       "      <td>2057</td>\n",
       "      <td>-1.0</td>\n",
       "      <td>38428.0</td>\n",
       "      <td>1213585</td>\n",
       "      <td>Asia</td>\n",
       "    </tr>\n",
       "    <tr>\n",
       "      <th>104</th>\n",
       "      <td>Cameroon</td>\n",
       "      <td>40622</td>\n",
       "      <td>-1.0</td>\n",
       "      <td>601</td>\n",
       "      <td>-1.0</td>\n",
       "      <td>35261</td>\n",
       "      <td>-1.0</td>\n",
       "      <td>4760.0</td>\n",
       "      <td>27010027</td>\n",
       "      <td>Africa</td>\n",
       "    </tr>\n",
       "    <tr>\n",
       "      <th>105</th>\n",
       "      <td>Uganda</td>\n",
       "      <td>40607</td>\n",
       "      <td>14.0</td>\n",
       "      <td>334</td>\n",
       "      <td>-1.0</td>\n",
       "      <td>15099</td>\n",
       "      <td>-1.0</td>\n",
       "      <td>25174.0</td>\n",
       "      <td>46752247</td>\n",
       "      <td>Africa</td>\n",
       "    </tr>\n",
       "    <tr>\n",
       "      <th>106</th>\n",
       "      <td>Ivory Coast</td>\n",
       "      <td>38282</td>\n",
       "      <td>162.0</td>\n",
       "      <td>214</td>\n",
       "      <td>-1.0</td>\n",
       "      <td>35487</td>\n",
       "      <td>376.0</td>\n",
       "      <td>2581.0</td>\n",
       "      <td>26837139</td>\n",
       "      <td>Africa</td>\n",
       "    </tr>\n",
       "    <tr>\n",
       "      <th>107</th>\n",
       "      <td>Senegal</td>\n",
       "      <td>37254</td>\n",
       "      <td>192.0</td>\n",
       "      <td>990</td>\n",
       "      <td>9.0</td>\n",
       "      <td>33326</td>\n",
       "      <td>283.0</td>\n",
       "      <td>2938.0</td>\n",
       "      <td>17053642</td>\n",
       "      <td>Africa</td>\n",
       "    </tr>\n",
       "    <tr>\n",
       "      <th>108</th>\n",
       "      <td>Zimbabwe</td>\n",
       "      <td>36552</td>\n",
       "      <td>17.0</td>\n",
       "      <td>1508</td>\n",
       "      <td>1.0</td>\n",
       "      <td>34136</td>\n",
       "      <td>12.0</td>\n",
       "      <td>908.0</td>\n",
       "      <td>15015686</td>\n",
       "      <td>Africa</td>\n",
       "    </tr>\n",
       "    <tr>\n",
       "      <th>109</th>\n",
       "      <td>Botswana</td>\n",
       "      <td>34999</td>\n",
       "      <td>-1.0</td>\n",
       "      <td>447</td>\n",
       "      <td>-1.0</td>\n",
       "      <td>29916</td>\n",
       "      <td>-1.0</td>\n",
       "      <td>4636.0</td>\n",
       "      <td>2385059</td>\n",
       "      <td>Africa</td>\n",
       "    </tr>\n",
       "    <tr>\n",
       "      <th>110</th>\n",
       "      <td>Malawi</td>\n",
       "      <td>32970</td>\n",
       "      <td>76.0</td>\n",
       "      <td>1088</td>\n",
       "      <td>-1.0</td>\n",
       "      <td>27184</td>\n",
       "      <td>294.0</td>\n",
       "      <td>4698.0</td>\n",
       "      <td>19477018</td>\n",
       "      <td>Africa</td>\n",
       "    </tr>\n",
       "    <tr>\n",
       "      <th>111</th>\n",
       "      <td>Jamaica</td>\n",
       "      <td>32728</td>\n",
       "      <td>821.0</td>\n",
       "      <td>507</td>\n",
       "      <td>13.0</td>\n",
       "      <td>15473</td>\n",
       "      <td>102.0</td>\n",
       "      <td>16748.0</td>\n",
       "      <td>2970335</td>\n",
       "      <td>North America</td>\n",
       "    </tr>\n",
       "    <tr>\n",
       "      <th>112</th>\n",
       "      <td>Australia</td>\n",
       "      <td>29154</td>\n",
       "      <td>17.0</td>\n",
       "      <td>909</td>\n",
       "      <td>-1.0</td>\n",
       "      <td>26233</td>\n",
       "      <td>2.0</td>\n",
       "      <td>2012.0</td>\n",
       "      <td>25709071</td>\n",
       "      <td>Australia/Oceania</td>\n",
       "    </tr>\n",
       "    <tr>\n",
       "      <th>113</th>\n",
       "      <td>Sudan</td>\n",
       "      <td>29135</td>\n",
       "      <td>-1.0</td>\n",
       "      <td>1959</td>\n",
       "      <td>-1.0</td>\n",
       "      <td>23583</td>\n",
       "      <td>-1.0</td>\n",
       "      <td>3593.0</td>\n",
       "      <td>44568986</td>\n",
       "      <td>Africa</td>\n",
       "    </tr>\n",
       "    <tr>\n",
       "      <th>114</th>\n",
       "      <td>Thailand</td>\n",
       "      <td>27402</td>\n",
       "      <td>248.0</td>\n",
       "      <td>88</td>\n",
       "      <td>1.0</td>\n",
       "      <td>26339</td>\n",
       "      <td>40.0</td>\n",
       "      <td>975.0</td>\n",
       "      <td>69924310</td>\n",
       "      <td>Asia</td>\n",
       "    </tr>\n",
       "    <tr>\n",
       "      <th>115</th>\n",
       "      <td>Malta</td>\n",
       "      <td>27272</td>\n",
       "      <td>211.0</td>\n",
       "      <td>361</td>\n",
       "      <td>4.0</td>\n",
       "      <td>23784</td>\n",
       "      <td>193.0</td>\n",
       "      <td>3127.0</td>\n",
       "      <td>442378</td>\n",
       "      <td>Europe</td>\n",
       "    </tr>\n",
       "    <tr>\n",
       "      <th>116</th>\n",
       "      <td>DRC</td>\n",
       "      <td>27252</td>\n",
       "      <td>152.0</td>\n",
       "      <td>722</td>\n",
       "      <td>-1.0</td>\n",
       "      <td>23759</td>\n",
       "      <td>-1.0</td>\n",
       "      <td>2771.0</td>\n",
       "      <td>91468661</td>\n",
       "      <td>Africa</td>\n",
       "    </tr>\n",
       "    <tr>\n",
       "      <th>117</th>\n",
       "      <td>Maldives</td>\n",
       "      <td>21961</td>\n",
       "      <td>142.0</td>\n",
       "      <td>64</td>\n",
       "      <td>-1.0</td>\n",
       "      <td>19519</td>\n",
       "      <td>177.0</td>\n",
       "      <td>2378.0</td>\n",
       "      <td>547256</td>\n",
       "      <td>Asia</td>\n",
       "    </tr>\n",
       "    <tr>\n",
       "      <th>118</th>\n",
       "      <td>Madagascar</td>\n",
       "      <td>21826</td>\n",
       "      <td>138.0</td>\n",
       "      <td>337</td>\n",
       "      <td>2.0</td>\n",
       "      <td>20670</td>\n",
       "      <td>56.0</td>\n",
       "      <td>819.0</td>\n",
       "      <td>28190863</td>\n",
       "      <td>Africa</td>\n",
       "    </tr>\n",
       "    <tr>\n",
       "      <th>119</th>\n",
       "      <td>Angola</td>\n",
       "      <td>21489</td>\n",
       "      <td>43.0</td>\n",
       "      <td>522</td>\n",
       "      <td>-1.0</td>\n",
       "      <td>20028</td>\n",
       "      <td>57.0</td>\n",
       "      <td>939.0</td>\n",
       "      <td>33582142</td>\n",
       "      <td>Africa</td>\n",
       "    </tr>\n",
       "    <tr>\n",
       "      <th>120</th>\n",
       "      <td>Rwanda</td>\n",
       "      <td>20480</td>\n",
       "      <td>68.0</td>\n",
       "      <td>283</td>\n",
       "      <td>1.0</td>\n",
       "      <td>18906</td>\n",
       "      <td>102.0</td>\n",
       "      <td>1291.0</td>\n",
       "      <td>13177762</td>\n",
       "      <td>Africa</td>\n",
       "    </tr>\n",
       "    <tr>\n",
       "      <th>121</th>\n",
       "      <td>Mayotte</td>\n",
       "      <td>18922</td>\n",
       "      <td>77.0</td>\n",
       "      <td>142</td>\n",
       "      <td>5.0</td>\n",
       "      <td>2964</td>\n",
       "      <td>-1.0</td>\n",
       "      <td>15816.0</td>\n",
       "      <td>277441</td>\n",
       "      <td>Africa</td>\n",
       "    </tr>\n",
       "    <tr>\n",
       "      <th>122</th>\n",
       "      <td>French Polynesia</td>\n",
       "      <td>18566</td>\n",
       "      <td>5.0</td>\n",
       "      <td>141</td>\n",
       "      <td>-1.0</td>\n",
       "      <td>4842</td>\n",
       "      <td>-1.0</td>\n",
       "      <td>13583.0</td>\n",
       "      <td>282059</td>\n",
       "      <td>Australia/Oceania</td>\n",
       "    </tr>\n",
       "    <tr>\n",
       "      <th>123</th>\n",
       "      <td>Guinea</td>\n",
       "      <td>18285</td>\n",
       "      <td>303.0</td>\n",
       "      <td>106</td>\n",
       "      <td>2.0</td>\n",
       "      <td>15801</td>\n",
       "      <td>82.0</td>\n",
       "      <td>2378.0</td>\n",
       "      <td>13382736</td>\n",
       "      <td>Africa</td>\n",
       "    </tr>\n",
       "    <tr>\n",
       "      <th>124</th>\n",
       "      <td>Mauritania</td>\n",
       "      <td>17521</td>\n",
       "      <td>34.0</td>\n",
       "      <td>445</td>\n",
       "      <td>1.0</td>\n",
       "      <td>16821</td>\n",
       "      <td>15.0</td>\n",
       "      <td>255.0</td>\n",
       "      <td>4735448</td>\n",
       "      <td>Africa</td>\n",
       "    </tr>\n",
       "    <tr>\n",
       "      <th>125</th>\n",
       "      <td>Gabon</td>\n",
       "      <td>17297</td>\n",
       "      <td>352.0</td>\n",
       "      <td>105</td>\n",
       "      <td>4.0</td>\n",
       "      <td>15102</td>\n",
       "      <td>322.0</td>\n",
       "      <td>2090.0</td>\n",
       "      <td>2262649</td>\n",
       "      <td>Africa</td>\n",
       "    </tr>\n",
       "    <tr>\n",
       "      <th>126</th>\n",
       "      <td>Eswatini</td>\n",
       "      <td>17257</td>\n",
       "      <td>14.0</td>\n",
       "      <td>663</td>\n",
       "      <td>-1.0</td>\n",
       "      <td>15885</td>\n",
       "      <td>44.0</td>\n",
       "      <td>709.0</td>\n",
       "      <td>1168662</td>\n",
       "      <td>Africa</td>\n",
       "    </tr>\n",
       "    <tr>\n",
       "      <th>127</th>\n",
       "      <td>Syria</td>\n",
       "      <td>16776</td>\n",
       "      <td>120.0</td>\n",
       "      <td>1120</td>\n",
       "      <td>10.0</td>\n",
       "      <td>11231</td>\n",
       "      <td>90.0</td>\n",
       "      <td>4425.0</td>\n",
       "      <td>17799379</td>\n",
       "      <td>Asia</td>\n",
       "    </tr>\n",
       "    <tr>\n",
       "      <th>128</th>\n",
       "      <td>French Guiana</td>\n",
       "      <td>16764</td>\n",
       "      <td>-1.0</td>\n",
       "      <td>87</td>\n",
       "      <td>-1.0</td>\n",
       "      <td>9995</td>\n",
       "      <td>-1.0</td>\n",
       "      <td>6682.0</td>\n",
       "      <td>304117</td>\n",
       "      <td>South America</td>\n",
       "    </tr>\n",
       "    <tr>\n",
       "      <th>129</th>\n",
       "      <td>Cabo Verde</td>\n",
       "      <td>16250</td>\n",
       "      <td>96.0</td>\n",
       "      <td>158</td>\n",
       "      <td>1.0</td>\n",
       "      <td>15599</td>\n",
       "      <td>50.0</td>\n",
       "      <td>493.0</td>\n",
       "      <td>560258</td>\n",
       "      <td>Africa</td>\n",
       "    </tr>\n",
       "    <tr>\n",
       "      <th>130</th>\n",
       "      <td>Réunion</td>\n",
       "      <td>13801</td>\n",
       "      <td>-1.0</td>\n",
       "      <td>71</td>\n",
       "      <td>-1.0</td>\n",
       "      <td>12389</td>\n",
       "      <td>-1.0</td>\n",
       "      <td>1341.0</td>\n",
       "      <td>899839</td>\n",
       "      <td>Africa</td>\n",
       "    </tr>\n",
       "    <tr>\n",
       "      <th>131</th>\n",
       "      <td>Haiti</td>\n",
       "      <td>12686</td>\n",
       "      <td>17.0</td>\n",
       "      <td>251</td>\n",
       "      <td>1.0</td>\n",
       "      <td>10331</td>\n",
       "      <td>127.0</td>\n",
       "      <td>2104.0</td>\n",
       "      <td>11500781</td>\n",
       "      <td>North America</td>\n",
       "    </tr>\n",
       "    <tr>\n",
       "      <th>132</th>\n",
       "      <td>Burkina Faso</td>\n",
       "      <td>12399</td>\n",
       "      <td>21.0</td>\n",
       "      <td>144</td>\n",
       "      <td>-1.0</td>\n",
       "      <td>11978</td>\n",
       "      <td>4.0</td>\n",
       "      <td>277.0</td>\n",
       "      <td>21305384</td>\n",
       "      <td>Africa</td>\n",
       "    </tr>\n",
       "    <tr>\n",
       "      <th>133</th>\n",
       "      <td>Belize</td>\n",
       "      <td>12396</td>\n",
       "      <td>7.0</td>\n",
       "      <td>316</td>\n",
       "      <td>-1.0</td>\n",
       "      <td>12020</td>\n",
       "      <td>10.0</td>\n",
       "      <td>60.0</td>\n",
       "      <td>402716</td>\n",
       "      <td>North America</td>\n",
       "    </tr>\n",
       "    <tr>\n",
       "      <th>134</th>\n",
       "      <td>Andorra</td>\n",
       "      <td>11360</td>\n",
       "      <td>41.0</td>\n",
       "      <td>113</td>\n",
       "      <td>-1.0</td>\n",
       "      <td>10883</td>\n",
       "      <td>22.0</td>\n",
       "      <td>364.0</td>\n",
       "      <td>77353</td>\n",
       "      <td>Europe</td>\n",
       "    </tr>\n",
       "    <tr>\n",
       "      <th>135</th>\n",
       "      <td>Hong Kong</td>\n",
       "      <td>11341</td>\n",
       "      <td>11.0</td>\n",
       "      <td>203</td>\n",
       "      <td>-1.0</td>\n",
       "      <td>10809</td>\n",
       "      <td>23.0</td>\n",
       "      <td>329.0</td>\n",
       "      <td>7540053</td>\n",
       "      <td>Asia</td>\n",
       "    </tr>\n",
       "    <tr>\n",
       "      <th>136</th>\n",
       "      <td>Guadeloupe</td>\n",
       "      <td>10976</td>\n",
       "      <td>362.0</td>\n",
       "      <td>165</td>\n",
       "      <td>3.0</td>\n",
       "      <td>2242</td>\n",
       "      <td>-1.0</td>\n",
       "      <td>8569.0</td>\n",
       "      <td>400173</td>\n",
       "      <td>North America</td>\n",
       "    </tr>\n",
       "    <tr>\n",
       "      <th>137</th>\n",
       "      <td>Lesotho</td>\n",
       "      <td>10530</td>\n",
       "      <td>-1.0</td>\n",
       "      <td>309</td>\n",
       "      <td>-1.0</td>\n",
       "      <td>3922</td>\n",
       "      <td>-1.0</td>\n",
       "      <td>6299.0</td>\n",
       "      <td>2154276</td>\n",
       "      <td>Africa</td>\n",
       "    </tr>\n",
       "    <tr>\n",
       "      <th>138</th>\n",
       "      <td>South Sudan</td>\n",
       "      <td>9694</td>\n",
       "      <td>81.0</td>\n",
       "      <td>106</td>\n",
       "      <td>-1.0</td>\n",
       "      <td>8215</td>\n",
       "      <td>309.0</td>\n",
       "      <td>1373.0</td>\n",
       "      <td>11286508</td>\n",
       "      <td>Africa</td>\n",
       "    </tr>\n",
       "    <tr>\n",
       "      <th>139</th>\n",
       "      <td>Somalia</td>\n",
       "      <td>9600</td>\n",
       "      <td>163.0</td>\n",
       "      <td>392</td>\n",
       "      <td>7.0</td>\n",
       "      <td>4329</td>\n",
       "      <td>23.0</td>\n",
       "      <td>4879.0</td>\n",
       "      <td>16204213</td>\n",
       "      <td>Africa</td>\n",
       "    </tr>\n",
       "    <tr>\n",
       "      <th>140</th>\n",
       "      <td>Congo</td>\n",
       "      <td>9329</td>\n",
       "      <td>-1.0</td>\n",
       "      <td>131</td>\n",
       "      <td>-1.0</td>\n",
       "      <td>7514</td>\n",
       "      <td>-1.0</td>\n",
       "      <td>1684.0</td>\n",
       "      <td>5613507</td>\n",
       "      <td>Africa</td>\n",
       "    </tr>\n",
       "    <tr>\n",
       "      <th>141</th>\n",
       "      <td>Guyana</td>\n",
       "      <td>9322</td>\n",
       "      <td>84.0</td>\n",
       "      <td>209</td>\n",
       "      <td>1.0</td>\n",
       "      <td>8381</td>\n",
       "      <td>22.0</td>\n",
       "      <td>732.0</td>\n",
       "      <td>789244</td>\n",
       "      <td>South America</td>\n",
       "    </tr>\n",
       "    <tr>\n",
       "      <th>142</th>\n",
       "      <td>Mali</td>\n",
       "      <td>9066</td>\n",
       "      <td>48.0</td>\n",
       "      <td>365</td>\n",
       "      <td>1.0</td>\n",
       "      <td>6556</td>\n",
       "      <td>30.0</td>\n",
       "      <td>2145.0</td>\n",
       "      <td>20659740</td>\n",
       "      <td>Africa</td>\n",
       "    </tr>\n",
       "    <tr>\n",
       "      <th>143</th>\n",
       "      <td>Suriname</td>\n",
       "      <td>9042</td>\n",
       "      <td>8.0</td>\n",
       "      <td>176</td>\n",
       "      <td>-1.0</td>\n",
       "      <td>8532</td>\n",
       "      <td>4.0</td>\n",
       "      <td>334.0</td>\n",
       "      <td>590353</td>\n",
       "      <td>South America</td>\n",
       "    </tr>\n",
       "    <tr>\n",
       "      <th>144</th>\n",
       "      <td>Bahamas</td>\n",
       "      <td>8800</td>\n",
       "      <td>24.0</td>\n",
       "      <td>186</td>\n",
       "      <td>-1.0</td>\n",
       "      <td>7676</td>\n",
       "      <td>24.0</td>\n",
       "      <td>938.0</td>\n",
       "      <td>395903</td>\n",
       "      <td>North America</td>\n",
       "    </tr>\n",
       "    <tr>\n",
       "      <th>145</th>\n",
       "      <td>Aruba</td>\n",
       "      <td>8551</td>\n",
       "      <td>69.0</td>\n",
       "      <td>81</td>\n",
       "      <td>1.0</td>\n",
       "      <td>8143</td>\n",
       "      <td>49.0</td>\n",
       "      <td>327.0</td>\n",
       "      <td>107088</td>\n",
       "      <td>North America</td>\n",
       "    </tr>\n",
       "    <tr>\n",
       "      <th>146</th>\n",
       "      <td>Togo</td>\n",
       "      <td>8472</td>\n",
       "      <td>150.0</td>\n",
       "      <td>98</td>\n",
       "      <td>1.0</td>\n",
       "      <td>7026</td>\n",
       "      <td>86.0</td>\n",
       "      <td>1348.0</td>\n",
       "      <td>8415119</td>\n",
       "      <td>Africa</td>\n",
       "    </tr>\n",
       "    <tr>\n",
       "      <th>147</th>\n",
       "      <td>Trinidad and Tobago</td>\n",
       "      <td>7807</td>\n",
       "      <td>17.0</td>\n",
       "      <td>140</td>\n",
       "      <td>-1.0</td>\n",
       "      <td>7546</td>\n",
       "      <td>2.0</td>\n",
       "      <td>121.0</td>\n",
       "      <td>1402704</td>\n",
       "      <td>North America</td>\n",
       "    </tr>\n",
       "    <tr>\n",
       "      <th>148</th>\n",
       "      <td>Martinique</td>\n",
       "      <td>7309</td>\n",
       "      <td>-1.0</td>\n",
       "      <td>47</td>\n",
       "      <td>-1.0</td>\n",
       "      <td>98</td>\n",
       "      <td>-1.0</td>\n",
       "      <td>7164.0</td>\n",
       "      <td>375058</td>\n",
       "      <td>North America</td>\n",
       "    </tr>\n",
       "    <tr>\n",
       "      <th>149</th>\n",
       "      <td>Equatorial Guinea</td>\n",
       "      <td>6603</td>\n",
       "      <td>-1.0</td>\n",
       "      <td>100</td>\n",
       "      <td>-1.0</td>\n",
       "      <td>5994</td>\n",
       "      <td>-1.0</td>\n",
       "      <td>509.0</td>\n",
       "      <td>1435231</td>\n",
       "      <td>Africa</td>\n",
       "    </tr>\n",
       "    <tr>\n",
       "      <th>150</th>\n",
       "      <td>Nicaragua</td>\n",
       "      <td>6582</td>\n",
       "      <td>-1.0</td>\n",
       "      <td>176</td>\n",
       "      <td>-1.0</td>\n",
       "      <td>4225</td>\n",
       "      <td>-1.0</td>\n",
       "      <td>2181.0</td>\n",
       "      <td>6680272</td>\n",
       "      <td>North America</td>\n",
       "    </tr>\n",
       "    <tr>\n",
       "      <th>151</th>\n",
       "      <td>Benin</td>\n",
       "      <td>6501</td>\n",
       "      <td>-1.0</td>\n",
       "      <td>81</td>\n",
       "      <td>-1.0</td>\n",
       "      <td>5552</td>\n",
       "      <td>-1.0</td>\n",
       "      <td>868.0</td>\n",
       "      <td>12346105</td>\n",
       "      <td>Africa</td>\n",
       "    </tr>\n",
       "    <tr>\n",
       "      <th>152</th>\n",
       "      <td>Djibouti</td>\n",
       "      <td>6385</td>\n",
       "      <td>49.0</td>\n",
       "      <td>63</td>\n",
       "      <td>-1.0</td>\n",
       "      <td>6007</td>\n",
       "      <td>9.0</td>\n",
       "      <td>315.0</td>\n",
       "      <td>998144</td>\n",
       "      <td>Africa</td>\n",
       "    </tr>\n",
       "    <tr>\n",
       "      <th>153</th>\n",
       "      <td>Iceland</td>\n",
       "      <td>6089</td>\n",
       "      <td>2.0</td>\n",
       "      <td>29</td>\n",
       "      <td>-1.0</td>\n",
       "      <td>6029</td>\n",
       "      <td>1.0</td>\n",
       "      <td>31.0</td>\n",
       "      <td>342812</td>\n",
       "      <td>Europe</td>\n",
       "    </tr>\n",
       "    <tr>\n",
       "      <th>154</th>\n",
       "      <td>Curaçao</td>\n",
       "      <td>5380</td>\n",
       "      <td>142.0</td>\n",
       "      <td>22</td>\n",
       "      <td>-1.0</td>\n",
       "      <td>4747</td>\n",
       "      <td>17.0</td>\n",
       "      <td>611.0</td>\n",
       "      <td>164569</td>\n",
       "      <td>North America</td>\n",
       "    </tr>\n",
       "    <tr>\n",
       "      <th>155</th>\n",
       "      <td>Gambia</td>\n",
       "      <td>5085</td>\n",
       "      <td>66.0</td>\n",
       "      <td>158</td>\n",
       "      <td>5.0</td>\n",
       "      <td>4620</td>\n",
       "      <td>95.0</td>\n",
       "      <td>307.0</td>\n",
       "      <td>2464281</td>\n",
       "      <td>Africa</td>\n",
       "    </tr>\n",
       "    <tr>\n",
       "      <th>156</th>\n",
       "      <td>CAR</td>\n",
       "      <td>5064</td>\n",
       "      <td>39.0</td>\n",
       "      <td>63</td>\n",
       "      <td>-1.0</td>\n",
       "      <td>4920</td>\n",
       "      <td>-1.0</td>\n",
       "      <td>81.0</td>\n",
       "      <td>4888975</td>\n",
       "      <td>Africa</td>\n",
       "    </tr>\n",
       "    <tr>\n",
       "      <th>157</th>\n",
       "      <td>Niger</td>\n",
       "      <td>4904</td>\n",
       "      <td>34.0</td>\n",
       "      <td>185</td>\n",
       "      <td>2.0</td>\n",
       "      <td>4525</td>\n",
       "      <td>9.0</td>\n",
       "      <td>194.0</td>\n",
       "      <td>24818579</td>\n",
       "      <td>Africa</td>\n",
       "    </tr>\n",
       "    <tr>\n",
       "      <th>158</th>\n",
       "      <td>Chad</td>\n",
       "      <td>4357</td>\n",
       "      <td>13.0</td>\n",
       "      <td>156</td>\n",
       "      <td>1.0</td>\n",
       "      <td>3836</td>\n",
       "      <td>18.0</td>\n",
       "      <td>365.0</td>\n",
       "      <td>16756310</td>\n",
       "      <td>Africa</td>\n",
       "    </tr>\n",
       "    <tr>\n",
       "      <th>159</th>\n",
       "      <td>Mongolia</td>\n",
       "      <td>4340</td>\n",
       "      <td>130.0</td>\n",
       "      <td>4</td>\n",
       "      <td>-1.0</td>\n",
       "      <td>3131</td>\n",
       "      <td>48.0</td>\n",
       "      <td>1205.0</td>\n",
       "      <td>3315536</td>\n",
       "      <td>Asia</td>\n",
       "    </tr>\n",
       "    <tr>\n",
       "      <th>160</th>\n",
       "      <td>Gibraltar</td>\n",
       "      <td>4270</td>\n",
       "      <td>-1.0</td>\n",
       "      <td>94</td>\n",
       "      <td>-1.0</td>\n",
       "      <td>4143</td>\n",
       "      <td>-1.0</td>\n",
       "      <td>33.0</td>\n",
       "      <td>33684</td>\n",
       "      <td>Europe</td>\n",
       "    </tr>\n",
       "    <tr>\n",
       "      <th>161</th>\n",
       "      <td>San Marino</td>\n",
       "      <td>4249</td>\n",
       "      <td>45.0</td>\n",
       "      <td>77</td>\n",
       "      <td>-1.0</td>\n",
       "      <td>3729</td>\n",
       "      <td>38.0</td>\n",
       "      <td>443.0</td>\n",
       "      <td>33982</td>\n",
       "      <td>Europe</td>\n",
       "    </tr>\n",
       "    <tr>\n",
       "      <th>162</th>\n",
       "      <td>Saint Lucia</td>\n",
       "      <td>4083</td>\n",
       "      <td>14.0</td>\n",
       "      <td>55</td>\n",
       "      <td>-1.0</td>\n",
       "      <td>3865</td>\n",
       "      <td>17.0</td>\n",
       "      <td>163.0</td>\n",
       "      <td>184222</td>\n",
       "      <td>North America</td>\n",
       "    </tr>\n",
       "    <tr>\n",
       "      <th>163</th>\n",
       "      <td>Channel Islands</td>\n",
       "      <td>4045</td>\n",
       "      <td>-1.0</td>\n",
       "      <td>86</td>\n",
       "      <td>-1.0</td>\n",
       "      <td>3965</td>\n",
       "      <td>-1.0</td>\n",
       "      <td>-6.0</td>\n",
       "      <td>174997</td>\n",
       "      <td>Europe</td>\n",
       "    </tr>\n",
       "    <tr>\n",
       "      <th>164</th>\n",
       "      <td>Sierra Leone</td>\n",
       "      <td>3942</td>\n",
       "      <td>3.0</td>\n",
       "      <td>79</td>\n",
       "      <td>-1.0</td>\n",
       "      <td>2783</td>\n",
       "      <td>1.0</td>\n",
       "      <td>1080.0</td>\n",
       "      <td>8091193</td>\n",
       "      <td>Africa</td>\n",
       "    </tr>\n",
       "    <tr>\n",
       "      <th>165</th>\n",
       "      <td>Comoros</td>\n",
       "      <td>3652</td>\n",
       "      <td>5.0</td>\n",
       "      <td>146</td>\n",
       "      <td>-1.0</td>\n",
       "      <td>3459</td>\n",
       "      <td>6.0</td>\n",
       "      <td>47.0</td>\n",
       "      <td>882637</td>\n",
       "      <td>Africa</td>\n",
       "    </tr>\n",
       "    <tr>\n",
       "      <th>166</th>\n",
       "      <td>Guinea-Bissau</td>\n",
       "      <td>3488</td>\n",
       "      <td>19.0</td>\n",
       "      <td>54</td>\n",
       "      <td>2.0</td>\n",
       "      <td>2791</td>\n",
       "      <td>15.0</td>\n",
       "      <td>643.0</td>\n",
       "      <td>2000695</td>\n",
       "      <td>Africa</td>\n",
       "    </tr>\n",
       "    <tr>\n",
       "      <th>167</th>\n",
       "      <td>Seychelles</td>\n",
       "      <td>3486</td>\n",
       "      <td>132.0</td>\n",
       "      <td>16</td>\n",
       "      <td>-1.0</td>\n",
       "      <td>2957</td>\n",
       "      <td>17.0</td>\n",
       "      <td>513.0</td>\n",
       "      <td>98779</td>\n",
       "      <td>Africa</td>\n",
       "    </tr>\n",
       "    <tr>\n",
       "      <th>168</th>\n",
       "      <td>Barbados</td>\n",
       "      <td>3471</td>\n",
       "      <td>13.0</td>\n",
       "      <td>39</td>\n",
       "      <td>-1.0</td>\n",
       "      <td>3285</td>\n",
       "      <td>31.0</td>\n",
       "      <td>147.0</td>\n",
       "      <td>287625</td>\n",
       "      <td>North America</td>\n",
       "    </tr>\n",
       "    <tr>\n",
       "      <th>169</th>\n",
       "      <td>Eritrea</td>\n",
       "      <td>3078</td>\n",
       "      <td>16.0</td>\n",
       "      <td>7</td>\n",
       "      <td>-1.0</td>\n",
       "      <td>2770</td>\n",
       "      <td>39.0</td>\n",
       "      <td>301.0</td>\n",
       "      <td>3581088</td>\n",
       "      <td>Africa</td>\n",
       "    </tr>\n",
       "    <tr>\n",
       "      <th>170</th>\n",
       "      <td>Yemen</td>\n",
       "      <td>3037</td>\n",
       "      <td>68.0</td>\n",
       "      <td>713</td>\n",
       "      <td>6.0</td>\n",
       "      <td>1508</td>\n",
       "      <td>1.0</td>\n",
       "      <td>816.0</td>\n",
       "      <td>30288061</td>\n",
       "      <td>Asia</td>\n",
       "    </tr>\n",
       "    <tr>\n",
       "      <th>171</th>\n",
       "      <td>Liechtenstein</td>\n",
       "      <td>2616</td>\n",
       "      <td>1.0</td>\n",
       "      <td>56</td>\n",
       "      <td>-1.0</td>\n",
       "      <td>2525</td>\n",
       "      <td>2.0</td>\n",
       "      <td>35.0</td>\n",
       "      <td>38206</td>\n",
       "      <td>Europe</td>\n",
       "    </tr>\n",
       "    <tr>\n",
       "      <th>172</th>\n",
       "      <td>Vietnam</td>\n",
       "      <td>2567</td>\n",
       "      <td>7.0</td>\n",
       "      <td>35</td>\n",
       "      <td>-1.0</td>\n",
       "      <td>2198</td>\n",
       "      <td>40.0</td>\n",
       "      <td>334.0</td>\n",
       "      <td>97958548</td>\n",
       "      <td>Asia</td>\n",
       "    </tr>\n",
       "    <tr>\n",
       "      <th>173</th>\n",
       "      <td>Burundi</td>\n",
       "      <td>2461</td>\n",
       "      <td>-1.0</td>\n",
       "      <td>3</td>\n",
       "      <td>-1.0</td>\n",
       "      <td>773</td>\n",
       "      <td>-1.0</td>\n",
       "      <td>1685.0</td>\n",
       "      <td>12138927</td>\n",
       "      <td>Africa</td>\n",
       "    </tr>\n",
       "    <tr>\n",
       "      <th>174</th>\n",
       "      <td>New Zealand</td>\n",
       "      <td>2434</td>\n",
       "      <td>2.0</td>\n",
       "      <td>26</td>\n",
       "      <td>-1.0</td>\n",
       "      <td>2311</td>\n",
       "      <td>-1.0</td>\n",
       "      <td>97.0</td>\n",
       "      <td>5002100</td>\n",
       "      <td>Australia/Oceania</td>\n",
       "    </tr>\n",
       "    <tr>\n",
       "      <th>175</th>\n",
       "      <td>Papua New Guinea</td>\n",
       "      <td>2351</td>\n",
       "      <td>-1.0</td>\n",
       "      <td>26</td>\n",
       "      <td>-1.0</td>\n",
       "      <td>846</td>\n",
       "      <td>-1.0</td>\n",
       "      <td>1479.0</td>\n",
       "      <td>9066430</td>\n",
       "      <td>Australia/Oceania</td>\n",
       "    </tr>\n",
       "    <tr>\n",
       "      <th>176</th>\n",
       "      <td>Turks and Caicos</td>\n",
       "      <td>2253</td>\n",
       "      <td>3.0</td>\n",
       "      <td>15</td>\n",
       "      <td>-1.0</td>\n",
       "      <td>2109</td>\n",
       "      <td>-1.0</td>\n",
       "      <td>129.0</td>\n",
       "      <td>39087</td>\n",
       "      <td>North America</td>\n",
       "    </tr>\n",
       "    <tr>\n",
       "      <th>177</th>\n",
       "      <td>Monaco</td>\n",
       "      <td>2141</td>\n",
       "      <td>6.0</td>\n",
       "      <td>27</td>\n",
       "      <td>-1.0</td>\n",
       "      <td>1945</td>\n",
       "      <td>13.0</td>\n",
       "      <td>169.0</td>\n",
       "      <td>39439</td>\n",
       "      <td>Europe</td>\n",
       "    </tr>\n",
       "    <tr>\n",
       "      <th>178</th>\n",
       "      <td>Sao Tome and Principe</td>\n",
       "      <td>2107</td>\n",
       "      <td>22.0</td>\n",
       "      <td>33</td>\n",
       "      <td>1.0</td>\n",
       "      <td>1893</td>\n",
       "      <td>13.0</td>\n",
       "      <td>181.0</td>\n",
       "      <td>222027</td>\n",
       "      <td>Africa</td>\n",
       "    </tr>\n",
       "    <tr>\n",
       "      <th>179</th>\n",
       "      <td>Sint Maarten</td>\n",
       "      <td>2093</td>\n",
       "      <td>5.0</td>\n",
       "      <td>27</td>\n",
       "      <td>-1.0</td>\n",
       "      <td>2051</td>\n",
       "      <td>-1.0</td>\n",
       "      <td>15.0</td>\n",
       "      <td>43220</td>\n",
       "      <td>North America</td>\n",
       "    </tr>\n",
       "    <tr>\n",
       "      <th>180</th>\n",
       "      <td>Liberia</td>\n",
       "      <td>2042</td>\n",
       "      <td>2.0</td>\n",
       "      <td>85</td>\n",
       "      <td>-1.0</td>\n",
       "      <td>1899</td>\n",
       "      <td>-1.0</td>\n",
       "      <td>58.0</td>\n",
       "      <td>5141242</td>\n",
       "      <td>Africa</td>\n",
       "    </tr>\n",
       "    <tr>\n",
       "      <th>181</th>\n",
       "      <td>St. Vincent Grenadines</td>\n",
       "      <td>1681</td>\n",
       "      <td>-1.0</td>\n",
       "      <td>9</td>\n",
       "      <td>-1.0</td>\n",
       "      <td>1504</td>\n",
       "      <td>375.0</td>\n",
       "      <td>168.0</td>\n",
       "      <td>111190</td>\n",
       "      <td>North America</td>\n",
       "    </tr>\n",
       "    <tr>\n",
       "      <th>182</th>\n",
       "      <td>Saint Martin</td>\n",
       "      <td>1602</td>\n",
       "      <td>-1.0</td>\n",
       "      <td>12</td>\n",
       "      <td>-1.0</td>\n",
       "      <td>1399</td>\n",
       "      <td>-1.0</td>\n",
       "      <td>191.0</td>\n",
       "      <td>39131</td>\n",
       "      <td>North America</td>\n",
       "    </tr>\n",
       "    <tr>\n",
       "      <th>183</th>\n",
       "      <td>Cambodia</td>\n",
       "      <td>1505</td>\n",
       "      <td>75.0</td>\n",
       "      <td>1</td>\n",
       "      <td>-1.0</td>\n",
       "      <td>840</td>\n",
       "      <td>22.0</td>\n",
       "      <td>664.0</td>\n",
       "      <td>16882387</td>\n",
       "      <td>Asia</td>\n",
       "    </tr>\n",
       "    <tr>\n",
       "      <th>184</th>\n",
       "      <td>Isle of Man</td>\n",
       "      <td>1383</td>\n",
       "      <td>32.0</td>\n",
       "      <td>26</td>\n",
       "      <td>-1.0</td>\n",
       "      <td>470</td>\n",
       "      <td>40.0</td>\n",
       "      <td>887.0</td>\n",
       "      <td>85352</td>\n",
       "      <td>Europe</td>\n",
       "    </tr>\n",
       "    <tr>\n",
       "      <th>185</th>\n",
       "      <td>Antigua and Barbuda</td>\n",
       "      <td>992</td>\n",
       "      <td>-1.0</td>\n",
       "      <td>27</td>\n",
       "      <td>-1.0</td>\n",
       "      <td>598</td>\n",
       "      <td>-1.0</td>\n",
       "      <td>367.0</td>\n",
       "      <td>98503</td>\n",
       "      <td>North America</td>\n",
       "    </tr>\n",
       "    <tr>\n",
       "      <th>186</th>\n",
       "      <td>Taiwan</td>\n",
       "      <td>990</td>\n",
       "      <td>-1.0</td>\n",
       "      <td>10</td>\n",
       "      <td>-1.0</td>\n",
       "      <td>956</td>\n",
       "      <td>5.0</td>\n",
       "      <td>24.0</td>\n",
       "      <td>23847385</td>\n",
       "      <td>Asia</td>\n",
       "    </tr>\n",
       "    <tr>\n",
       "      <th>187</th>\n",
       "      <td>Caribbean Netherlands</td>\n",
       "      <td>905</td>\n",
       "      <td>39.0</td>\n",
       "      <td>6</td>\n",
       "      <td>-1.0</td>\n",
       "      <td>571</td>\n",
       "      <td>9.0</td>\n",
       "      <td>328.0</td>\n",
       "      <td>26396</td>\n",
       "      <td>North America</td>\n",
       "    </tr>\n",
       "    <tr>\n",
       "      <th>188</th>\n",
       "      <td>Bhutan</td>\n",
       "      <td>868</td>\n",
       "      <td>-1.0</td>\n",
       "      <td>1</td>\n",
       "      <td>-1.0</td>\n",
       "      <td>866</td>\n",
       "      <td>-1.0</td>\n",
       "      <td>1.0</td>\n",
       "      <td>777617</td>\n",
       "      <td>Asia</td>\n",
       "    </tr>\n",
       "    <tr>\n",
       "      <th>189</th>\n",
       "      <td>Mauritius</td>\n",
       "      <td>762</td>\n",
       "      <td>4.0</td>\n",
       "      <td>10</td>\n",
       "      <td>-1.0</td>\n",
       "      <td>592</td>\n",
       "      <td>-1.0</td>\n",
       "      <td>160.0</td>\n",
       "      <td>1273267</td>\n",
       "      <td>Africa</td>\n",
       "    </tr>\n",
       "    <tr>\n",
       "      <th>190</th>\n",
       "      <td>Bermuda</td>\n",
       "      <td>740</td>\n",
       "      <td>-1.0</td>\n",
       "      <td>12</td>\n",
       "      <td>-1.0</td>\n",
       "      <td>699</td>\n",
       "      <td>-1.0</td>\n",
       "      <td>29.0</td>\n",
       "      <td>62114</td>\n",
       "      <td>North America</td>\n",
       "    </tr>\n",
       "    <tr>\n",
       "      <th>191</th>\n",
       "      <td>St. Barth</td>\n",
       "      <td>712</td>\n",
       "      <td>-1.0</td>\n",
       "      <td>1</td>\n",
       "      <td>-1.0</td>\n",
       "      <td>462</td>\n",
       "      <td>-1.0</td>\n",
       "      <td>249.0</td>\n",
       "      <td>9898</td>\n",
       "      <td>North America</td>\n",
       "    </tr>\n",
       "    <tr>\n",
       "      <th>192</th>\n",
       "      <td>Faeroe Islands</td>\n",
       "      <td>661</td>\n",
       "      <td>-1.0</td>\n",
       "      <td>1</td>\n",
       "      <td>-1.0</td>\n",
       "      <td>657</td>\n",
       "      <td>-1.0</td>\n",
       "      <td>3.0</td>\n",
       "      <td>48995</td>\n",
       "      <td>Europe</td>\n",
       "    </tr>\n",
       "    <tr>\n",
       "      <th>193</th>\n",
       "      <td>Tanzania</td>\n",
       "      <td>509</td>\n",
       "      <td>-1.0</td>\n",
       "      <td>21</td>\n",
       "      <td>-1.0</td>\n",
       "      <td>183</td>\n",
       "      <td>-1.0</td>\n",
       "      <td>305.0</td>\n",
       "      <td>60927190</td>\n",
       "      <td>Africa</td>\n",
       "    </tr>\n",
       "    <tr>\n",
       "      <th>194</th>\n",
       "      <td>Cayman Islands</td>\n",
       "      <td>474</td>\n",
       "      <td>-1.0</td>\n",
       "      <td>2</td>\n",
       "      <td>-1.0</td>\n",
       "      <td>441</td>\n",
       "      <td>-1.0</td>\n",
       "      <td>31.0</td>\n",
       "      <td>66268</td>\n",
       "      <td>North America</td>\n",
       "    </tr>\n",
       "    <tr>\n",
       "      <th>195</th>\n",
       "      <td>Wallis and Futuna</td>\n",
       "      <td>261</td>\n",
       "      <td>28.0</td>\n",
       "      <td>-1</td>\n",
       "      <td>-1.0</td>\n",
       "      <td>7</td>\n",
       "      <td>-1.0</td>\n",
       "      <td>254.0</td>\n",
       "      <td>11098</td>\n",
       "      <td>Australia/Oceania</td>\n",
       "    </tr>\n",
       "    <tr>\n",
       "      <th>196</th>\n",
       "      <td>Timor-Leste</td>\n",
       "      <td>216</td>\n",
       "      <td>8.0</td>\n",
       "      <td>-1</td>\n",
       "      <td>-1.0</td>\n",
       "      <td>109</td>\n",
       "      <td>5.0</td>\n",
       "      <td>107.0</td>\n",
       "      <td>1336136</td>\n",
       "      <td>Asia</td>\n",
       "    </tr>\n",
       "    <tr>\n",
       "      <th>197</th>\n",
       "      <td>Brunei</td>\n",
       "      <td>203</td>\n",
       "      <td>1.0</td>\n",
       "      <td>3</td>\n",
       "      <td>-1.0</td>\n",
       "      <td>186</td>\n",
       "      <td>-1.0</td>\n",
       "      <td>14.0</td>\n",
       "      <td>440444</td>\n",
       "      <td>Asia</td>\n",
       "    </tr>\n",
       "    <tr>\n",
       "      <th>198</th>\n",
       "      <td>Dominica</td>\n",
       "      <td>156</td>\n",
       "      <td>-1.0</td>\n",
       "      <td>-1</td>\n",
       "      <td>-1.0</td>\n",
       "      <td>141</td>\n",
       "      <td>-1.0</td>\n",
       "      <td>15.0</td>\n",
       "      <td>72113</td>\n",
       "      <td>North America</td>\n",
       "    </tr>\n",
       "    <tr>\n",
       "      <th>199</th>\n",
       "      <td>Grenada</td>\n",
       "      <td>154</td>\n",
       "      <td>-1.0</td>\n",
       "      <td>1</td>\n",
       "      <td>-1.0</td>\n",
       "      <td>151</td>\n",
       "      <td>-1.0</td>\n",
       "      <td>2.0</td>\n",
       "      <td>112893</td>\n",
       "      <td>North America</td>\n",
       "    </tr>\n",
       "    <tr>\n",
       "      <th>200</th>\n",
       "      <td>British Virgin Islands</td>\n",
       "      <td>153</td>\n",
       "      <td>-1.0</td>\n",
       "      <td>1</td>\n",
       "      <td>-1.0</td>\n",
       "      <td>131</td>\n",
       "      <td>-1.0</td>\n",
       "      <td>21.0</td>\n",
       "      <td>30374</td>\n",
       "      <td>North America</td>\n",
       "    </tr>\n",
       "    <tr>\n",
       "      <th>201</th>\n",
       "      <td>New Caledonia</td>\n",
       "      <td>95</td>\n",
       "      <td>-1.0</td>\n",
       "      <td>-1</td>\n",
       "      <td>-1.0</td>\n",
       "      <td>58</td>\n",
       "      <td>-1.0</td>\n",
       "      <td>37.0</td>\n",
       "      <td>287440</td>\n",
       "      <td>Australia/Oceania</td>\n",
       "    </tr>\n",
       "    <tr>\n",
       "      <th>202</th>\n",
       "      <td>Fiji</td>\n",
       "      <td>66</td>\n",
       "      <td>-1.0</td>\n",
       "      <td>2</td>\n",
       "      <td>-1.0</td>\n",
       "      <td>60</td>\n",
       "      <td>-1.0</td>\n",
       "      <td>4.0</td>\n",
       "      <td>901047</td>\n",
       "      <td>Australia/Oceania</td>\n",
       "    </tr>\n",
       "    <tr>\n",
       "      <th>203</th>\n",
       "      <td>Laos</td>\n",
       "      <td>49</td>\n",
       "      <td>1.0</td>\n",
       "      <td>-1</td>\n",
       "      <td>-1.0</td>\n",
       "      <td>45</td>\n",
       "      <td>3.0</td>\n",
       "      <td>4.0</td>\n",
       "      <td>7350103</td>\n",
       "      <td>Asia</td>\n",
       "    </tr>\n",
       "    <tr>\n",
       "      <th>204</th>\n",
       "      <td>Macao</td>\n",
       "      <td>48</td>\n",
       "      <td>-1.0</td>\n",
       "      <td>-1</td>\n",
       "      <td>-1.0</td>\n",
       "      <td>47</td>\n",
       "      <td>-1.0</td>\n",
       "      <td>1.0</td>\n",
       "      <td>655587</td>\n",
       "      <td>Asia</td>\n",
       "    </tr>\n",
       "    <tr>\n",
       "      <th>205</th>\n",
       "      <td>Saint Kitts and Nevis</td>\n",
       "      <td>43</td>\n",
       "      <td>-1.0</td>\n",
       "      <td>-1</td>\n",
       "      <td>-1.0</td>\n",
       "      <td>41</td>\n",
       "      <td>-1.0</td>\n",
       "      <td>2.0</td>\n",
       "      <td>53466</td>\n",
       "      <td>North America</td>\n",
       "    </tr>\n",
       "    <tr>\n",
       "      <th>206</th>\n",
       "      <td>Vatican City</td>\n",
       "      <td>27</td>\n",
       "      <td>-1.0</td>\n",
       "      <td>-1</td>\n",
       "      <td>-1.0</td>\n",
       "      <td>15</td>\n",
       "      <td>-1.0</td>\n",
       "      <td>12.0</td>\n",
       "      <td>802</td>\n",
       "      <td>Europe</td>\n",
       "    </tr>\n",
       "    <tr>\n",
       "      <th>207</th>\n",
       "      <td>Anguilla</td>\n",
       "      <td>21</td>\n",
       "      <td>-1.0</td>\n",
       "      <td>-1</td>\n",
       "      <td>-1.0</td>\n",
       "      <td>18</td>\n",
       "      <td>-1.0</td>\n",
       "      <td>3.0</td>\n",
       "      <td>15098</td>\n",
       "      <td>North America</td>\n",
       "    </tr>\n",
       "    <tr>\n",
       "      <th>208</th>\n",
       "      <td>Solomon Islands</td>\n",
       "      <td>18</td>\n",
       "      <td>-1.0</td>\n",
       "      <td>-1</td>\n",
       "      <td>-1.0</td>\n",
       "      <td>16</td>\n",
       "      <td>-1.0</td>\n",
       "      <td>2.0</td>\n",
       "      <td>698718</td>\n",
       "      <td>Australia/Oceania</td>\n",
       "    </tr>\n",
       "    <tr>\n",
       "      <th>209</th>\n",
       "      <td>Western Sahara</td>\n",
       "      <td>10</td>\n",
       "      <td>-1.0</td>\n",
       "      <td>1</td>\n",
       "      <td>-1.0</td>\n",
       "      <td>8</td>\n",
       "      <td>-1.0</td>\n",
       "      <td>1.0</td>\n",
       "      <td>607657</td>\n",
       "      <td>Africa</td>\n",
       "    </tr>\n",
       "    <tr>\n",
       "      <th>210</th>\n",
       "      <td>Samoa</td>\n",
       "      <td>3</td>\n",
       "      <td>-1.0</td>\n",
       "      <td>-1</td>\n",
       "      <td>-1.0</td>\n",
       "      <td>2</td>\n",
       "      <td>-1.0</td>\n",
       "      <td>1.0</td>\n",
       "      <td>199348</td>\n",
       "      <td>Australia/Oceania</td>\n",
       "    </tr>\n",
       "    <tr>\n",
       "      <th>211</th>\n",
       "      <td>Vanuatu</td>\n",
       "      <td>3</td>\n",
       "      <td>-1.0</td>\n",
       "      <td>-1</td>\n",
       "      <td>-1.0</td>\n",
       "      <td>1</td>\n",
       "      <td>-1.0</td>\n",
       "      <td>2.0</td>\n",
       "      <td>312190</td>\n",
       "      <td>Australia/Oceania</td>\n",
       "    </tr>\n",
       "    <tr>\n",
       "      <th>212</th>\n",
       "      <td>Total:</td>\n",
       "      <td>121803968</td>\n",
       "      <td>528845.0</td>\n",
       "      <td>2691812</td>\n",
       "      <td>9712.0</td>\n",
       "      <td>98198310</td>\n",
       "      <td>397934.0</td>\n",
       "      <td>20913846.0</td>\n",
       "      <td>-1</td>\n",
       "      <td>All</td>\n",
       "    </tr>\n",
       "  </tbody>\n",
       "</table>\n",
       "</div>"
      ],
      "text/plain": [
       "                    Country  Total Cases  New Cases  Total Deaths  New Deaths  \\\n",
       "0                     World    121803968   528845.0       2691812      9712.0   \n",
       "1                       USA     30294798    62794.0        550649      1288.0   \n",
       "2                    Brazil     11700431    90830.0        285136      2736.0   \n",
       "3                     India     11474302    35838.0        159250       171.0   \n",
       "4                    Russia      4418436     8998.0         93364       427.0   \n",
       "5                        UK      4274579     5758.0        125831       141.0   \n",
       "6                    France      4146609    38501.0         91437       267.0   \n",
       "7                     Italy      3281810    23059.0        103432       431.0   \n",
       "8                     Spain      3206116     6092.0         72793       228.0   \n",
       "9                    Turkey      2930554    18912.0         29696        73.0   \n",
       "10                  Germany      2610769    16094.0         74677       246.0   \n",
       "11                 Colombia      2314154     4554.0         61498       130.0   \n",
       "12                Argentina      2218425     8304.0         54231       195.0   \n",
       "13                   Mexico      2169007     1278.0        195119       175.0   \n",
       "14                   Poland      1956974    25052.0         48032       453.0   \n",
       "15                     Iran      1771115     7802.0         61492        65.0   \n",
       "16             South Africa      1532497     1531.0         51634        74.0   \n",
       "17                  Ukraine      1489023    11833.0         28986       289.0   \n",
       "18                Indonesia      1437283     6825.0         38915       162.0   \n",
       "19                     Peru      1435598     8534.0         49523       193.0   \n",
       "20                  Czechia      1426991    13934.0         23902       114.0   \n",
       "21              Netherlands      1173487     5924.0         16165        46.0   \n",
       "22                   Canada       919239     3371.0         22554        35.0   \n",
       "23                    Chile       905212     4430.0         21816        27.0   \n",
       "24                  Romania       874985     6186.0         21787        89.0   \n",
       "25                   Israel       824178     1475.0          6057         9.0   \n",
       "26                 Portugal       815570      673.0         16722        15.0   \n",
       "27                  Belgium       813026     3165.0         22572        27.0   \n",
       "28                     Iraq       774015     5663.0         13860        33.0   \n",
       "29                   Sweden       732070       -1.0         13228        34.0   \n",
       "30              Philippines       635698     4387.0         12866        18.0   \n",
       "31                 Pakistan       612315     2351.0         13656        61.0   \n",
       "32              Switzerland       577111     1858.0         10163        16.0   \n",
       "33               Bangladesh       562752     1865.0          8608        11.0   \n",
       "34                  Hungary       532578     3456.0         17421       195.0   \n",
       "35                   Serbia       531558     5446.0          4810        32.0   \n",
       "36                   Jordan       504915     9535.0          5553        56.0   \n",
       "37                  Austria       501224     3239.0          8956        31.0   \n",
       "38                  Morocco       490088      466.0          8745         8.0   \n",
       "39                    Japan       449713     1025.0          8678        56.0   \n",
       "40                      UAE       432364     2051.0          1414         8.0   \n",
       "41                  Lebanon       426977     3544.0          5536        62.0   \n",
       "42             Saudi Arabia       383499      393.0          6585         7.0   \n",
       "43                   Panama       349020      440.0          6018         9.0   \n",
       "44                 Slovakia       342430     2892.0          8738        69.0   \n",
       "45                 Malaysia       327253     1219.0          1220         2.0   \n",
       "46                  Ecuador       305598     2744.0         16300        41.0   \n",
       "47                  Belarus       305270     1124.0          2121         9.0   \n",
       "48                 Bulgaria       291769     4201.0         11715       136.0   \n",
       "49                  Georgia       276067      382.0          3665         7.0   \n",
       "50                    Nepal       275518       94.0          3014        -1.0   \n",
       "51                  Bolivia       260988      929.0         11997        23.0   \n",
       "52                  Croatia       253310     1445.0          5709        12.0   \n",
       "53       Dominican Republic       247364      570.0          3248        11.0   \n",
       "54                  Tunisia       243439      766.0          8463        34.0   \n",
       "55               Azerbaijan       242491      840.0          3307         9.0   \n",
       "56                  Ireland       228215      552.0          4566        14.0   \n",
       "57                   Greece       227247     3458.0          7252        56.0   \n",
       "58               Kazakhstan       226767     1082.0          2873        -1.0   \n",
       "59                  Denmark       222629      787.0          2396         1.0   \n",
       "60                Palestine       215984     2193.0          2343        29.0   \n",
       "61                   Kuwait       213673     1504.0          1194         8.0   \n",
       "62               Costa Rica       210447       -1.0          2886        -1.0   \n",
       "63                  Moldova       208928     1916.0          4436        34.0   \n",
       "64                Lithuania       206889      570.0          3427         8.0   \n",
       "65                 Slovenia       202573     1112.0          3948         7.0   \n",
       "66                    Egypt       192840      645.0         11431        47.0   \n",
       "67                 Paraguay       185888     2540.0          3588        34.0   \n",
       "68                Guatemala       184934      949.0          6619        20.0   \n",
       "69                  Armenia       180141      854.0          3282         5.0   \n",
       "70                 Ethiopia       179812     1704.0          2592        19.0   \n",
       "71                 Honduras       179515      590.0          4373        13.0   \n",
       "72                    Qatar       171701      489.0           270         2.0   \n",
       "73                  Nigeria       161261      187.0          2027         9.0   \n",
       "74                     Oman       148558      548.0          1617         3.0   \n",
       "75                    Libya       148175     1054.0          2422        16.0   \n",
       "76   Bosnia and Herzegovina       148163     1726.0          5672        35.0   \n",
       "77                Venezuela       147577      549.0          1459         8.0   \n",
       "78                  Myanmar       142190       11.0          3203        -1.0   \n",
       "79                  Bahrain       133137      768.0           489         2.0   \n",
       "80                  Albania       118938      446.0          2092        15.0   \n",
       "81                    Kenya       116310     1279.0          1937        12.0   \n",
       "82                  Algeria       115688      148.0          3048         3.0   \n",
       "83          North Macedonia       115222     1293.0          3388        24.0   \n",
       "84                 S. Korea        96849      469.0          1686         8.0   \n",
       "85                   Latvia        95420      818.0          1789        12.0   \n",
       "86                  Estonia        89331     1784.0           745         6.0   \n",
       "87                Sri Lanka        88862      470.0           537         5.0   \n",
       "88                    Ghana        88421      193.0           705         7.0   \n",
       "89               Kyrgyzstan        87045       55.0          1485         1.0   \n",
       "90                   Zambia        85502      262.0          1170         3.0   \n",
       "91               Montenegro        85253      553.0          1169        18.0   \n",
       "92                   Norway        83519     1064.0           648         7.0   \n",
       "93               Uzbekistan        80858      115.0           622        -1.0   \n",
       "94                  Uruguay        75138     1368.0           740        15.0   \n",
       "95                  Finland        68693      842.0           804         3.0   \n",
       "96               Mozambique        65197      268.0           733         1.0   \n",
       "97                     Cuba        63725      727.0           380         4.0   \n",
       "98              El Salvador        62531       -1.0          1962         4.0   \n",
       "99                Singapore        60137        9.0            30        -1.0   \n",
       "100              Luxembourg        58408      297.0           704         7.0   \n",
       "101             Afghanistan        56044       28.0          2462         2.0   \n",
       "102                 Namibia        41546       80.0           477         3.0   \n",
       "103                  Cyprus        40726      382.0           241        -1.0   \n",
       "104                Cameroon        40622       -1.0           601        -1.0   \n",
       "105                  Uganda        40607       14.0           334        -1.0   \n",
       "106             Ivory Coast        38282      162.0           214        -1.0   \n",
       "107                 Senegal        37254      192.0           990         9.0   \n",
       "108                Zimbabwe        36552       17.0          1508         1.0   \n",
       "109                Botswana        34999       -1.0           447        -1.0   \n",
       "110                  Malawi        32970       76.0          1088        -1.0   \n",
       "111                 Jamaica        32728      821.0           507        13.0   \n",
       "112               Australia        29154       17.0           909        -1.0   \n",
       "113                   Sudan        29135       -1.0          1959        -1.0   \n",
       "114                Thailand        27402      248.0            88         1.0   \n",
       "115                   Malta        27272      211.0           361         4.0   \n",
       "116                     DRC        27252      152.0           722        -1.0   \n",
       "117                Maldives        21961      142.0            64        -1.0   \n",
       "118              Madagascar        21826      138.0           337         2.0   \n",
       "119                  Angola        21489       43.0           522        -1.0   \n",
       "120                  Rwanda        20480       68.0           283         1.0   \n",
       "121                 Mayotte        18922       77.0           142         5.0   \n",
       "122        French Polynesia        18566        5.0           141        -1.0   \n",
       "123                  Guinea        18285      303.0           106         2.0   \n",
       "124              Mauritania        17521       34.0           445         1.0   \n",
       "125                   Gabon        17297      352.0           105         4.0   \n",
       "126                Eswatini        17257       14.0           663        -1.0   \n",
       "127                   Syria        16776      120.0          1120        10.0   \n",
       "128           French Guiana        16764       -1.0            87        -1.0   \n",
       "129              Cabo Verde        16250       96.0           158         1.0   \n",
       "130                 Réunion        13801       -1.0            71        -1.0   \n",
       "131                   Haiti        12686       17.0           251         1.0   \n",
       "132            Burkina Faso        12399       21.0           144        -1.0   \n",
       "133                  Belize        12396        7.0           316        -1.0   \n",
       "134                 Andorra        11360       41.0           113        -1.0   \n",
       "135               Hong Kong        11341       11.0           203        -1.0   \n",
       "136              Guadeloupe        10976      362.0           165         3.0   \n",
       "137                 Lesotho        10530       -1.0           309        -1.0   \n",
       "138             South Sudan         9694       81.0           106        -1.0   \n",
       "139                 Somalia         9600      163.0           392         7.0   \n",
       "140                   Congo         9329       -1.0           131        -1.0   \n",
       "141                  Guyana         9322       84.0           209         1.0   \n",
       "142                    Mali         9066       48.0           365         1.0   \n",
       "143                Suriname         9042        8.0           176        -1.0   \n",
       "144                 Bahamas         8800       24.0           186        -1.0   \n",
       "145                   Aruba         8551       69.0            81         1.0   \n",
       "146                    Togo         8472      150.0            98         1.0   \n",
       "147     Trinidad and Tobago         7807       17.0           140        -1.0   \n",
       "148              Martinique         7309       -1.0            47        -1.0   \n",
       "149       Equatorial Guinea         6603       -1.0           100        -1.0   \n",
       "150               Nicaragua         6582       -1.0           176        -1.0   \n",
       "151                   Benin         6501       -1.0            81        -1.0   \n",
       "152                Djibouti         6385       49.0            63        -1.0   \n",
       "153                 Iceland         6089        2.0            29        -1.0   \n",
       "154                 Curaçao         5380      142.0            22        -1.0   \n",
       "155                  Gambia         5085       66.0           158         5.0   \n",
       "156                     CAR         5064       39.0            63        -1.0   \n",
       "157                   Niger         4904       34.0           185         2.0   \n",
       "158                    Chad         4357       13.0           156         1.0   \n",
       "159                Mongolia         4340      130.0             4        -1.0   \n",
       "160               Gibraltar         4270       -1.0            94        -1.0   \n",
       "161              San Marino         4249       45.0            77        -1.0   \n",
       "162             Saint Lucia         4083       14.0            55        -1.0   \n",
       "163         Channel Islands         4045       -1.0            86        -1.0   \n",
       "164            Sierra Leone         3942        3.0            79        -1.0   \n",
       "165                 Comoros         3652        5.0           146        -1.0   \n",
       "166           Guinea-Bissau         3488       19.0            54         2.0   \n",
       "167              Seychelles         3486      132.0            16        -1.0   \n",
       "168                Barbados         3471       13.0            39        -1.0   \n",
       "169                 Eritrea         3078       16.0             7        -1.0   \n",
       "170                   Yemen         3037       68.0           713         6.0   \n",
       "171           Liechtenstein         2616        1.0            56        -1.0   \n",
       "172                 Vietnam         2567        7.0            35        -1.0   \n",
       "173                 Burundi         2461       -1.0             3        -1.0   \n",
       "174             New Zealand         2434        2.0            26        -1.0   \n",
       "175        Papua New Guinea         2351       -1.0            26        -1.0   \n",
       "176        Turks and Caicos         2253        3.0            15        -1.0   \n",
       "177                  Monaco         2141        6.0            27        -1.0   \n",
       "178   Sao Tome and Principe         2107       22.0            33         1.0   \n",
       "179            Sint Maarten         2093        5.0            27        -1.0   \n",
       "180                 Liberia         2042        2.0            85        -1.0   \n",
       "181  St. Vincent Grenadines         1681       -1.0             9        -1.0   \n",
       "182            Saint Martin         1602       -1.0            12        -1.0   \n",
       "183                Cambodia         1505       75.0             1        -1.0   \n",
       "184             Isle of Man         1383       32.0            26        -1.0   \n",
       "185     Antigua and Barbuda          992       -1.0            27        -1.0   \n",
       "186                  Taiwan          990       -1.0            10        -1.0   \n",
       "187   Caribbean Netherlands          905       39.0             6        -1.0   \n",
       "188                  Bhutan          868       -1.0             1        -1.0   \n",
       "189               Mauritius          762        4.0            10        -1.0   \n",
       "190                 Bermuda          740       -1.0            12        -1.0   \n",
       "191               St. Barth          712       -1.0             1        -1.0   \n",
       "192          Faeroe Islands          661       -1.0             1        -1.0   \n",
       "193                Tanzania          509       -1.0            21        -1.0   \n",
       "194          Cayman Islands          474       -1.0             2        -1.0   \n",
       "195       Wallis and Futuna          261       28.0            -1        -1.0   \n",
       "196             Timor-Leste          216        8.0            -1        -1.0   \n",
       "197                 Brunei           203        1.0             3        -1.0   \n",
       "198                Dominica          156       -1.0            -1        -1.0   \n",
       "199                 Grenada          154       -1.0             1        -1.0   \n",
       "200  British Virgin Islands          153       -1.0             1        -1.0   \n",
       "201           New Caledonia           95       -1.0            -1        -1.0   \n",
       "202                    Fiji           66       -1.0             2        -1.0   \n",
       "203                    Laos           49        1.0            -1        -1.0   \n",
       "204                   Macao           48       -1.0            -1        -1.0   \n",
       "205   Saint Kitts and Nevis           43       -1.0            -1        -1.0   \n",
       "206            Vatican City           27       -1.0            -1        -1.0   \n",
       "207                Anguilla           21       -1.0            -1        -1.0   \n",
       "208         Solomon Islands           18       -1.0            -1        -1.0   \n",
       "209          Western Sahara           10       -1.0             1        -1.0   \n",
       "210                   Samoa            3       -1.0            -1        -1.0   \n",
       "211                 Vanuatu            3       -1.0            -1        -1.0   \n",
       "212                  Total:    121803968   528845.0       2691812      9712.0   \n",
       "\n",
       "     Total Recovered  New Recovered  Active Cases  Population  \\\n",
       "0           98198310       397934.0    20913846.0          -1   \n",
       "1           22447275        88740.0     7296874.0   332378543   \n",
       "2           10287057        82516.0     1128238.0   213629898   \n",
       "3           11061170        17793.0      253882.0  1389604984   \n",
       "4            4024975        10755.0      300097.0   145978921   \n",
       "5            3568271        19540.0      580477.0    68138862   \n",
       "6             275360           -1.0     3779812.0    65376055   \n",
       "7            2639370        19716.0      539008.0    60398612   \n",
       "8            2857714           -1.0      275609.0    46767645   \n",
       "9            2752023        17161.0      148835.0    84980970   \n",
       "10           2383600         9400.0      152492.0    83974064   \n",
       "11           2212512         3288.0       40144.0    51266512   \n",
       "12           2003121         4527.0      161073.0    45489326   \n",
       "13           1716135         4204.0      257753.0   129891000   \n",
       "14           1593165         6001.0      315777.0    37817143   \n",
       "15           1514061         7701.0      195562.0    84752633   \n",
       "16           1459056         1055.0       21807.0    59837137   \n",
       "17           1237676         5467.0      222361.0    43546615   \n",
       "18           1266673         9010.0      131695.0   275569565   \n",
       "19           1347160         8682.0       38915.0    33296240   \n",
       "20           1215077          379.0      188012.0    10723088   \n",
       "21                 0            0.0           0.0    17161789   \n",
       "22            865085         3253.0       31600.0    37976427   \n",
       "23            851154         5442.0       32242.0    19232380   \n",
       "24            790813         1711.0       62385.0    19146259   \n",
       "25            793940         3383.0       24181.0     9197590   \n",
       "26            764019         1058.0       34829.0    10175557   \n",
       "27             54703           61.0      735751.0    11625400   \n",
       "28            698775         3591.0       61380.0    40857296   \n",
       "29                 0            0.0           0.0    10143897   \n",
       "30            561099          374.0       61733.0   110611457   \n",
       "31            575867         2853.0       22792.0   223913491   \n",
       "32            533151          820.0       33797.0     8699459   \n",
       "33            515989         1510.0       38155.0   165850331   \n",
       "34            359061         2382.0      156096.0     9642902   \n",
       "35            451672         3179.0       75076.0     8712322   \n",
       "36            412387         5733.0       86975.0    10274805   \n",
       "37            463714         2055.0       28554.0     9042828   \n",
       "38            477305          578.0        4038.0    37219847   \n",
       "39            428783         1201.0       12252.0   126200994   \n",
       "40            413477         2741.0       17473.0     9974872   \n",
       "41            335333         1685.0       86108.0     6803687   \n",
       "42            373361          231.0        3553.0    35196485   \n",
       "43            337630          620.0        5372.0     4362696   \n",
       "44            255300           -1.0       78392.0     5461521   \n",
       "45            310958         1346.0       15075.0    32659029   \n",
       "46            263164           -1.0       26134.0    17832152   \n",
       "47            296183         1305.0        6966.0     9447114   \n",
       "48            230457         1641.0       49597.0     6911167   \n",
       "49            269006          313.0        3396.0     3983722   \n",
       "50            271550           55.0         954.0    29506199   \n",
       "51            206586          958.0       42405.0    11785493   \n",
       "52            242111          418.0        5490.0     4087234   \n",
       "53            203656          586.0       40460.0    10924879   \n",
       "54            210375          620.0       24601.0    11906101   \n",
       "55            231638          268.0        7546.0    10203869   \n",
       "56             23364           -1.0      200285.0     4976791   \n",
       "57            194481         4293.0       25514.0    10386806   \n",
       "58            208074          703.0       15820.0    18935477   \n",
       "59            211356          628.0        8877.0     5806675   \n",
       "60            191839         2080.0       21802.0     5184785   \n",
       "61            198273         1452.0       14206.0     4315158   \n",
       "62            189682           -1.0       17879.0     5127044   \n",
       "63            182108         1345.0       22384.0     4027295   \n",
       "64            192484          366.0       10978.0     2695154   \n",
       "65            188315         1203.0       10310.0     2079141   \n",
       "66            148424          335.0       32985.0   103694304   \n",
       "67            153781         1501.0       28519.0     7194464   \n",
       "68            169624          475.0        8691.0    18149108   \n",
       "69            166913          211.0        9946.0     2967176   \n",
       "70            145019          531.0       32201.0   116964025   \n",
       "71             68892          167.0      106250.0    10015758   \n",
       "72            159141          288.0       12290.0     2807805   \n",
       "73            146395          323.0       12839.0   209728688   \n",
       "74            137544          516.0        9397.0     5197830   \n",
       "75            134923         1155.0       10830.0     6937293   \n",
       "76            122680          573.0       19811.0     3266282   \n",
       "77            138841          430.0        7277.0    28378622   \n",
       "78            131751            3.0        7236.0    54668265   \n",
       "79            126080          577.0        6568.0     1742911   \n",
       "80             82554          744.0       34292.0     2875563   \n",
       "81             89061          280.0       25312.0    54604492   \n",
       "82             80219          116.0       32421.0    44409167   \n",
       "83             99015          339.0       12819.0     2083313   \n",
       "84             88814          559.0        6349.0    51300528   \n",
       "85             85465           -1.0        8166.0     1871316   \n",
       "86             60743          367.0       27843.0     1327169   \n",
       "87             85725          756.0        2600.0    21476939   \n",
       "88             84095          266.0        3621.0    31529475   \n",
       "89             83980           56.0        1580.0     6600122   \n",
       "90             82457           25.0        1875.0    18745039   \n",
       "91             75503          651.0        8581.0      628122   \n",
       "92             70224           -1.0       12647.0     5451264   \n",
       "93             79450           79.0         786.0    33811688   \n",
       "94             63475          891.0       10923.0     3482272   \n",
       "95             46000           -1.0       21889.0     5546833   \n",
       "96             51376          532.0       13088.0    31869564   \n",
       "97             59550          940.0        3795.0    11321702   \n",
       "98             59576           -1.0         993.0     6509413   \n",
       "99             60001           17.0         106.0     5882929   \n",
       "100            54666          138.0        3038.0      633162   \n",
       "101            49536           37.0        4046.0    39544919   \n",
       "102            38942          149.0        2127.0     2573338   \n",
       "103             2057           -1.0       38428.0     1213585   \n",
       "104            35261           -1.0        4760.0    27010027   \n",
       "105            15099           -1.0       25174.0    46752247   \n",
       "106            35487          376.0        2581.0    26837139   \n",
       "107            33326          283.0        2938.0    17053642   \n",
       "108            34136           12.0         908.0    15015686   \n",
       "109            29916           -1.0        4636.0     2385059   \n",
       "110            27184          294.0        4698.0    19477018   \n",
       "111            15473          102.0       16748.0     2970335   \n",
       "112            26233            2.0        2012.0    25709071   \n",
       "113            23583           -1.0        3593.0    44568986   \n",
       "114            26339           40.0         975.0    69924310   \n",
       "115            23784          193.0        3127.0      442378   \n",
       "116            23759           -1.0        2771.0    91468661   \n",
       "117            19519          177.0        2378.0      547256   \n",
       "118            20670           56.0         819.0    28190863   \n",
       "119            20028           57.0         939.0    33582142   \n",
       "120            18906          102.0        1291.0    13177762   \n",
       "121             2964           -1.0       15816.0      277441   \n",
       "122             4842           -1.0       13583.0      282059   \n",
       "123            15801           82.0        2378.0    13382736   \n",
       "124            16821           15.0         255.0     4735448   \n",
       "125            15102          322.0        2090.0     2262649   \n",
       "126            15885           44.0         709.0     1168662   \n",
       "127            11231           90.0        4425.0    17799379   \n",
       "128             9995           -1.0        6682.0      304117   \n",
       "129            15599           50.0         493.0      560258   \n",
       "130            12389           -1.0        1341.0      899839   \n",
       "131            10331          127.0        2104.0    11500781   \n",
       "132            11978            4.0         277.0    21305384   \n",
       "133            12020           10.0          60.0      402716   \n",
       "134            10883           22.0         364.0       77353   \n",
       "135            10809           23.0         329.0     7540053   \n",
       "136             2242           -1.0        8569.0      400173   \n",
       "137             3922           -1.0        6299.0     2154276   \n",
       "138             8215          309.0        1373.0    11286508   \n",
       "139             4329           23.0        4879.0    16204213   \n",
       "140             7514           -1.0        1684.0     5613507   \n",
       "141             8381           22.0         732.0      789244   \n",
       "142             6556           30.0        2145.0    20659740   \n",
       "143             8532            4.0         334.0      590353   \n",
       "144             7676           24.0         938.0      395903   \n",
       "145             8143           49.0         327.0      107088   \n",
       "146             7026           86.0        1348.0     8415119   \n",
       "147             7546            2.0         121.0     1402704   \n",
       "148               98           -1.0        7164.0      375058   \n",
       "149             5994           -1.0         509.0     1435231   \n",
       "150             4225           -1.0        2181.0     6680272   \n",
       "151             5552           -1.0         868.0    12346105   \n",
       "152             6007            9.0         315.0      998144   \n",
       "153             6029            1.0          31.0      342812   \n",
       "154             4747           17.0         611.0      164569   \n",
       "155             4620           95.0         307.0     2464281   \n",
       "156             4920           -1.0          81.0     4888975   \n",
       "157             4525            9.0         194.0    24818579   \n",
       "158             3836           18.0         365.0    16756310   \n",
       "159             3131           48.0        1205.0     3315536   \n",
       "160             4143           -1.0          33.0       33684   \n",
       "161             3729           38.0         443.0       33982   \n",
       "162             3865           17.0         163.0      184222   \n",
       "163             3965           -1.0          -6.0      174997   \n",
       "164             2783            1.0        1080.0     8091193   \n",
       "165             3459            6.0          47.0      882637   \n",
       "166             2791           15.0         643.0     2000695   \n",
       "167             2957           17.0         513.0       98779   \n",
       "168             3285           31.0         147.0      287625   \n",
       "169             2770           39.0         301.0     3581088   \n",
       "170             1508            1.0         816.0    30288061   \n",
       "171             2525            2.0          35.0       38206   \n",
       "172             2198           40.0         334.0    97958548   \n",
       "173              773           -1.0        1685.0    12138927   \n",
       "174             2311           -1.0          97.0     5002100   \n",
       "175              846           -1.0        1479.0     9066430   \n",
       "176             2109           -1.0         129.0       39087   \n",
       "177             1945           13.0         169.0       39439   \n",
       "178             1893           13.0         181.0      222027   \n",
       "179             2051           -1.0          15.0       43220   \n",
       "180             1899           -1.0          58.0     5141242   \n",
       "181             1504          375.0         168.0      111190   \n",
       "182             1399           -1.0         191.0       39131   \n",
       "183              840           22.0         664.0    16882387   \n",
       "184              470           40.0         887.0       85352   \n",
       "185              598           -1.0         367.0       98503   \n",
       "186              956            5.0          24.0    23847385   \n",
       "187              571            9.0         328.0       26396   \n",
       "188              866           -1.0           1.0      777617   \n",
       "189              592           -1.0         160.0     1273267   \n",
       "190              699           -1.0          29.0       62114   \n",
       "191              462           -1.0         249.0        9898   \n",
       "192              657           -1.0           3.0       48995   \n",
       "193              183           -1.0         305.0    60927190   \n",
       "194              441           -1.0          31.0       66268   \n",
       "195                7           -1.0         254.0       11098   \n",
       "196              109            5.0         107.0     1336136   \n",
       "197              186           -1.0          14.0      440444   \n",
       "198              141           -1.0          15.0       72113   \n",
       "199              151           -1.0           2.0      112893   \n",
       "200              131           -1.0          21.0       30374   \n",
       "201               58           -1.0          37.0      287440   \n",
       "202               60           -1.0           4.0      901047   \n",
       "203               45            3.0           4.0     7350103   \n",
       "204               47           -1.0           1.0      655587   \n",
       "205               41           -1.0           2.0       53466   \n",
       "206               15           -1.0          12.0         802   \n",
       "207               18           -1.0           3.0       15098   \n",
       "208               16           -1.0           2.0      698718   \n",
       "209                8           -1.0           1.0      607657   \n",
       "210                2           -1.0           1.0      199348   \n",
       "211                1           -1.0           2.0      312190   \n",
       "212         98198310       397934.0    20913846.0          -1   \n",
       "\n",
       "             Continent  \n",
       "0                  All  \n",
       "1        North America  \n",
       "2        South America  \n",
       "3                 Asia  \n",
       "4               Europe  \n",
       "5               Europe  \n",
       "6               Europe  \n",
       "7               Europe  \n",
       "8               Europe  \n",
       "9                 Asia  \n",
       "10              Europe  \n",
       "11       South America  \n",
       "12       South America  \n",
       "13       North America  \n",
       "14              Europe  \n",
       "15                Asia  \n",
       "16              Africa  \n",
       "17              Europe  \n",
       "18                Asia  \n",
       "19       South America  \n",
       "20              Europe  \n",
       "21              Europe  \n",
       "22       North America  \n",
       "23       South America  \n",
       "24              Europe  \n",
       "25                Asia  \n",
       "26              Europe  \n",
       "27              Europe  \n",
       "28                Asia  \n",
       "29              Europe  \n",
       "30                Asia  \n",
       "31                Asia  \n",
       "32              Europe  \n",
       "33                Asia  \n",
       "34              Europe  \n",
       "35              Europe  \n",
       "36                Asia  \n",
       "37              Europe  \n",
       "38              Africa  \n",
       "39                Asia  \n",
       "40                Asia  \n",
       "41                Asia  \n",
       "42                Asia  \n",
       "43       North America  \n",
       "44              Europe  \n",
       "45                Asia  \n",
       "46       South America  \n",
       "47              Europe  \n",
       "48              Europe  \n",
       "49                Asia  \n",
       "50                Asia  \n",
       "51       South America  \n",
       "52              Europe  \n",
       "53       North America  \n",
       "54              Africa  \n",
       "55                Asia  \n",
       "56              Europe  \n",
       "57              Europe  \n",
       "58                Asia  \n",
       "59              Europe  \n",
       "60                Asia  \n",
       "61                Asia  \n",
       "62       North America  \n",
       "63              Europe  \n",
       "64              Europe  \n",
       "65              Europe  \n",
       "66              Africa  \n",
       "67       South America  \n",
       "68       North America  \n",
       "69                Asia  \n",
       "70              Africa  \n",
       "71       North America  \n",
       "72                Asia  \n",
       "73              Africa  \n",
       "74                Asia  \n",
       "75              Africa  \n",
       "76              Europe  \n",
       "77       South America  \n",
       "78                Asia  \n",
       "79                Asia  \n",
       "80              Europe  \n",
       "81              Africa  \n",
       "82              Africa  \n",
       "83              Europe  \n",
       "84                Asia  \n",
       "85              Europe  \n",
       "86              Europe  \n",
       "87                Asia  \n",
       "88              Africa  \n",
       "89                Asia  \n",
       "90              Africa  \n",
       "91              Europe  \n",
       "92              Europe  \n",
       "93                Asia  \n",
       "94       South America  \n",
       "95              Europe  \n",
       "96              Africa  \n",
       "97       North America  \n",
       "98       North America  \n",
       "99                Asia  \n",
       "100             Europe  \n",
       "101               Asia  \n",
       "102             Africa  \n",
       "103               Asia  \n",
       "104             Africa  \n",
       "105             Africa  \n",
       "106             Africa  \n",
       "107             Africa  \n",
       "108             Africa  \n",
       "109             Africa  \n",
       "110             Africa  \n",
       "111      North America  \n",
       "112  Australia/Oceania  \n",
       "113             Africa  \n",
       "114               Asia  \n",
       "115             Europe  \n",
       "116             Africa  \n",
       "117               Asia  \n",
       "118             Africa  \n",
       "119             Africa  \n",
       "120             Africa  \n",
       "121             Africa  \n",
       "122  Australia/Oceania  \n",
       "123             Africa  \n",
       "124             Africa  \n",
       "125             Africa  \n",
       "126             Africa  \n",
       "127               Asia  \n",
       "128      South America  \n",
       "129             Africa  \n",
       "130             Africa  \n",
       "131      North America  \n",
       "132             Africa  \n",
       "133      North America  \n",
       "134             Europe  \n",
       "135               Asia  \n",
       "136      North America  \n",
       "137             Africa  \n",
       "138             Africa  \n",
       "139             Africa  \n",
       "140             Africa  \n",
       "141      South America  \n",
       "142             Africa  \n",
       "143      South America  \n",
       "144      North America  \n",
       "145      North America  \n",
       "146             Africa  \n",
       "147      North America  \n",
       "148      North America  \n",
       "149             Africa  \n",
       "150      North America  \n",
       "151             Africa  \n",
       "152             Africa  \n",
       "153             Europe  \n",
       "154      North America  \n",
       "155             Africa  \n",
       "156             Africa  \n",
       "157             Africa  \n",
       "158             Africa  \n",
       "159               Asia  \n",
       "160             Europe  \n",
       "161             Europe  \n",
       "162      North America  \n",
       "163             Europe  \n",
       "164             Africa  \n",
       "165             Africa  \n",
       "166             Africa  \n",
       "167             Africa  \n",
       "168      North America  \n",
       "169             Africa  \n",
       "170               Asia  \n",
       "171             Europe  \n",
       "172               Asia  \n",
       "173             Africa  \n",
       "174  Australia/Oceania  \n",
       "175  Australia/Oceania  \n",
       "176      North America  \n",
       "177             Europe  \n",
       "178             Africa  \n",
       "179      North America  \n",
       "180             Africa  \n",
       "181      North America  \n",
       "182      North America  \n",
       "183               Asia  \n",
       "184             Europe  \n",
       "185      North America  \n",
       "186               Asia  \n",
       "187      North America  \n",
       "188               Asia  \n",
       "189             Africa  \n",
       "190      North America  \n",
       "191      North America  \n",
       "192             Europe  \n",
       "193             Africa  \n",
       "194      North America  \n",
       "195  Australia/Oceania  \n",
       "196               Asia  \n",
       "197               Asia  \n",
       "198      North America  \n",
       "199      North America  \n",
       "200      North America  \n",
       "201  Australia/Oceania  \n",
       "202  Australia/Oceania  \n",
       "203               Asia  \n",
       "204               Asia  \n",
       "205      North America  \n",
       "206             Europe  \n",
       "207      North America  \n",
       "208  Australia/Oceania  \n",
       "209             Africa  \n",
       "210  Australia/Oceania  \n",
       "211  Australia/Oceania  \n",
       "212                All  "
      ]
     },
     "execution_count": 10,
     "metadata": {},
     "output_type": "execute_result"
    }
   ],
   "source": [
    "pd.options.display.max_rows = None\n",
    "df"
   ]
  },
  {
   "cell_type": "code",
   "execution_count": 11,
   "id": "assigned-effects",
   "metadata": {},
   "outputs": [
    {
     "data": {
      "image/png": "[encoded data removed]",
      "text/plain": [
       "<Figure size 720x360 with 1 Axes>"
      ]
     },
     "metadata": {
      "needs_background": "light"
     },
     "output_type": "display_data"
    }
   ],
   "source": [
    "cases_df = df[[\"Total Recovered\", \"Active Cases\", \"Total Deaths\"]].loc[0]\n",
    "pd.DataFrame(cases_df).T.plot.bar(stacked=True, figsize=(10, 5))\n",
    "plt.xticks(np.arange(0, 0, 1)) # No Ticks\n",
    "plt.title(f\"Total Number of Cases, Recoveries, and Deaths on {yesterday_str}\", fontsize=20)\n",
    "plt.legend(prop={\"size\": 12})\n",
    "\n",
    "prev = 0\n",
    "total = cases_df.sum()\n",
    "for num in cases_df.cumsum():\n",
    "    val = round((num-prev)/total*100, 3)\n",
    "    plt.annotate(f\"{val}% ({num-prev})\", (0, (num-prev)/2+prev), fontsize=14, ha='center')\n",
    "    prev = num\n",
    "plt.show()"
   ]
  },
  {
   "cell_type": "code",
   "execution_count": 12,
   "id": "convenient-weight",
   "metadata": {},
   "outputs": [
    {
     "data": {
      "text/html": [
       "<div>\n",
       "<style scoped>\n",
       "    .dataframe tbody tr th:only-of-type {\n",
       "        vertical-align: middle;\n",
       "    }\n",
       "\n",
       "    .dataframe tbody tr th {\n",
       "        vertical-align: top;\n",
       "    }\n",
       "\n",
       "    .dataframe thead th {\n",
       "        text-align: right;\n",
       "    }\n",
       "</style>\n",
       "<table border=\"1\" class=\"dataframe\">\n",
       "  <thead>\n",
       "    <tr style=\"text-align: right;\">\n",
       "      <th></th>\n",
       "      <th>Continent</th>\n",
       "      <th>Total Cases</th>\n",
       "      <th>New Cases</th>\n",
       "      <th>Total Deaths</th>\n",
       "      <th>New Deaths</th>\n",
       "      <th>Total Recovered</th>\n",
       "      <th>New Recovered</th>\n",
       "      <th>Active Cases</th>\n",
       "      <th>Population</th>\n",
       "    </tr>\n",
       "  </thead>\n",
       "  <tbody>\n",
       "    <tr>\n",
       "      <th>0</th>\n",
       "      <td>Africa</td>\n",
       "      <td>4095103</td>\n",
       "      <td>11177.0</td>\n",
       "      <td>108885</td>\n",
       "      <td>255.0</td>\n",
       "      <td>3664665</td>\n",
       "      <td>8315.0</td>\n",
       "      <td>321553.0</td>\n",
       "      <td>1363135809</td>\n",
       "    </tr>\n",
       "    <tr>\n",
       "      <th>1</th>\n",
       "      <td>Asia</td>\n",
       "      <td>26374984</td>\n",
       "      <td>113986.0</td>\n",
       "      <td>407945</td>\n",
       "      <td>875.0</td>\n",
       "      <td>24633052</td>\n",
       "      <td>84733.0</td>\n",
       "      <td>1333984.0</td>\n",
       "      <td>3184454898</td>\n",
       "    </tr>\n",
       "    <tr>\n",
       "      <th>2</th>\n",
       "      <td>Australia/Oceania</td>\n",
       "      <td>52951</td>\n",
       "      <td>46.0</td>\n",
       "      <td>1099</td>\n",
       "      <td>-10.0</td>\n",
       "      <td>34376</td>\n",
       "      <td>-7.0</td>\n",
       "      <td>17471.0</td>\n",
       "      <td>42469501</td>\n",
       "    </tr>\n",
       "    <tr>\n",
       "      <th>3</th>\n",
       "      <td>Europe</td>\n",
       "      <td>36779236</td>\n",
       "      <td>206481.0</td>\n",
       "      <td>866466</td>\n",
       "      <td>3548.0</td>\n",
       "      <td>25983495</td>\n",
       "      <td>96833.0</td>\n",
       "      <td>8053110.0</td>\n",
       "      <td>747951340</td>\n",
       "    </tr>\n",
       "    <tr>\n",
       "      <th>4</th>\n",
       "      <td>North America</td>\n",
       "      <td>34813328</td>\n",
       "      <td>72237.0</td>\n",
       "      <td>795903</td>\n",
       "      <td>1554.0</td>\n",
       "      <td>26207072</td>\n",
       "      <td>99731.0</td>\n",
       "      <td>7810350.0</td>\n",
       "      <td>592307767</td>\n",
       "    </tr>\n",
       "    <tr>\n",
       "      <th>5</th>\n",
       "      <td>South America</td>\n",
       "      <td>19584137</td>\n",
       "      <td>124873.0</td>\n",
       "      <td>506760</td>\n",
       "      <td>3401.0</td>\n",
       "      <td>17553759</td>\n",
       "      <td>108259.0</td>\n",
       "      <td>1523618.0</td>\n",
       "      <td>433271073</td>\n",
       "    </tr>\n",
       "  </tbody>\n",
       "</table>\n",
       "</div>"
      ],
      "text/plain": [
       "           Continent  Total Cases  New Cases  Total Deaths  New Deaths  \\\n",
       "0             Africa      4095103    11177.0        108885       255.0   \n",
       "1               Asia     26374984   113986.0        407945       875.0   \n",
       "2  Australia/Oceania        52951       46.0          1099       -10.0   \n",
       "3             Europe     36779236   206481.0        866466      3548.0   \n",
       "4      North America     34813328    72237.0        795903      1554.0   \n",
       "5      South America     19584137   124873.0        506760      3401.0   \n",
       "\n",
       "   Total Recovered  New Recovered  Active Cases  Population  \n",
       "0          3664665         8315.0      321553.0  1363135809  \n",
       "1         24633052        84733.0     1333984.0  3184454898  \n",
       "2            34376           -7.0       17471.0    42469501  \n",
       "3         25983495        96833.0     8053110.0   747951340  \n",
       "4         26207072        99731.0     7810350.0   592307767  \n",
       "5         17553759       108259.0     1523618.0   433271073  "
      ]
     },
     "execution_count": 12,
     "metadata": {},
     "output_type": "execute_result"
    }
   ],
   "source": [
    "continent_df = df.groupby('Continent').sum().drop('All')\n",
    "continent_df = continent_df.reset_index()\n",
    "continent_df"
   ]
  },
  {
   "cell_type": "code",
   "execution_count": 13,
   "id": "documented-coach",
   "metadata": {},
   "outputs": [],
   "source": [
    "cases_vis_list = ['Total Cases', 'Active Cases', 'New Cases']\n",
    "deaths_vis_list = ['Total Deaths', 'New Deaths', 'Deaths/1M']\n",
    "recovered_vis_list = ['Total Recovered', 'New Recovered']\n",
    "tests_vis_list = ['Total Tests', 'Tests/1M']\n",
    "essentials = [['Total Cases', 'Active Cases', 'New Cases'], ['Total Deaths', 'New Deaths'], ['Total Recovered', 'New Recovered']]"
   ]
  },
  {
   "cell_type": "code",
   "execution_count": 14,
   "id": "boolean-mounting",
   "metadata": {},
   "outputs": [],
   "source": [
    "def continent_visualization(vis_list):\n",
    "    for label in vis_list:\n",
    "        pd.DataFrame(continent_df[label]).T.plot.bar(stacked=True, figsize=(10, 5))\n",
    "        plt.title(f\"{label} at the end of {yesterday_str}\", fontsize=24)\n",
    "        plt.xlabel(\"\")\n",
    "        plt.ylabel(f\"{label}\", fontsize=16)\n",
    "        plt.yticks(fontsize=16)\n",
    "        plt.legend(continent_df['Continent'])\n",
    "\n",
    "        prev = 0\n",
    "        total = continent_df[label].sum()\n",
    "        for num in continent_df[label].cumsum():\n",
    "            val = round((num-prev)/total*100, 3)\n",
    "            if val < 1:\n",
    "                continue\n",
    "            plt.annotate(f\"{val}% ({round(num-prev)})\", (0, (num-prev)/2+prev), fontsize=14, ha='center')\n",
    "            prev = num\n",
    "\n",
    "        plt.show()\n",
    "        gc.collect()"
   ]
  },
  {
   "cell_type": "code",
   "execution_count": 15,
   "id": "lyric-replacement",
   "metadata": {},
   "outputs": [
    {
     "data": {
      "image/png": "[encoded data removed]",
      "text/plain": [
       "<Figure size 720x360 with 1 Axes>"
      ]
     },
     "metadata": {
      "needs_background": "light"
     },
     "output_type": "display_data"
    },
    {
     "data": {
      "image/png": "[encoded data removed]",
      "text/plain": [
       "<Figure size 720x360 with 1 Axes>"
      ]
     },
     "metadata": {
      "needs_background": "light"
     },
     "output_type": "display_data"
    },
    {
     "data": {
      "image/png": "[encoded data removed]",
      "text/plain": [
       "<Figure size 720x360 with 1 Axes>"
      ]
     },
     "metadata": {
      "needs_background": "light"
     },
     "output_type": "display_data"
    }
   ],
   "source": [
    "continent_visualization(cases_vis_list)"
   ]
  },
  {
   "cell_type": "code",
   "execution_count": 16,
   "id": "essential-debate",
   "metadata": {},
   "outputs": [],
   "source": [
    "df = df.drop([len(df)-1])\n",
    "country_df = df.drop([0])"
   ]
  },
  {
   "cell_type": "code",
   "execution_count": 17,
   "id": "automated-alignment",
   "metadata": {},
   "outputs": [
    {
     "data": {
      "application/vnd.plotly.v1+json": {
       "config": {
        "plotlyServerURL": "https://plot.ly"
       },
       "data": [
        {
         "name": "USA",
         "type": "bar",
         "x": [
          "Total Cases",
          "New Cases",
          "Total Deaths",
          "New Deaths",
          "Total Recovered",
          "New Recovered",
          "Active Cases",
          "Population",
          "Continent"
         ],
         "y": [
          30294798,
          62794,
          550649,
          1288,
          22447275,
          88740,
          7296874,
          332378543,
          "North America"
         ]
        },
        {
         "name": "Brazil",
         "type": "bar",
         "x": [
          "Total Cases",
          "New Cases",
          "Total Deaths",
          "New Deaths",
          "Total Recovered",
          "New Recovered",
          "Active Cases",
          "Population",
          "Continent"
         ],
         "y": [
          11700431,
          90830,
          285136,
          2736,
          10287057,
          82516,
          1128238,
          213629898,
          "South America"
         ]
        },
        {
         "name": "India",
         "type": "bar",
         "x": [
          "Total Cases",
          "New Cases",
          "Total Deaths",
          "New Deaths",
          "Total Recovered",
          "New Recovered",
          "Active Cases",
          "Population",
          "Continent"
         ],
         "y": [
          11474302,
          35838,
          159250,
          171,
          11061170,
          17793,
          253882,
          1389604984,
          "Asia"
         ]
        },
        {
         "name": "Russia",
         "type": "bar",
         "x": [
          "Total Cases",
          "New Cases",
          "Total Deaths",
          "New Deaths",
          "Total Recovered",
          "New Recovered",
          "Active Cases",
          "Population",
          "Continent"
         ],
         "y": [
          4418436,
          8998,
          93364,
          427,
          4024975,
          10755,
          300097,
          145978921,
          "Europe"
         ]
        }
       ],
       "layout": {
        "template": {
         "data": {
          "bar": [
           {
            "error_x": {
             "color": "#2a3f5f"
            },
            "error_y": {
             "color": "#2a3f5f"
            },
            "marker": {
             "line": {
              "color": "#E5ECF6",
              "width": 0.5
             }
            },
            "type": "bar"
           }
          ],
          "barpolar": [
           {
            "marker": {
             "line": {
              "color": "#E5ECF6",
              "width": 0.5
             }
            },
            "type": "barpolar"
           }
          ],
          "carpet": [
           {
            "aaxis": {
             "endlinecolor": "#2a3f5f",
             "gridcolor": "white",
             "linecolor": "white",
             "minorgridcolor": "white",
             "startlinecolor": "#2a3f5f"
            },
            "baxis": {
             "endlinecolor": "#2a3f5f",
             "gridcolor": "white",
             "linecolor": "white",
             "minorgridcolor": "white",
             "startlinecolor": "#2a3f5f"
            },
            "type": "carpet"
           }
          ],
          "choropleth": [
           {
            "colorbar": {
             "outlinewidth": 0,
             "ticks": ""
            },
            "type": "choropleth"
           }
          ],
          "contour": [
           {
            "colorbar": {
             "outlinewidth": 0,
             "ticks": ""
            },
            "colorscale": [
             [
              0,
              "#0d0887"
             ],
             [
              0.1111111111111111,
              "#46039f"
             ],
             [
              0.2222222222222222,
              "#7201a8"
             ],
             [
              0.3333333333333333,
              "#9c179e"
             ],
             [
              0.4444444444444444,
              "#bd3786"
             ],
             [
              0.5555555555555556,
              "#d8576b"
             ],
             [
              0.6666666666666666,
              "#ed7953"
             ],
             [
              0.7777777777777778,
              "#fb9f3a"
             ],
             [
              0.8888888888888888,
              "#fdca26"
             ],
             [
              1,
              "#f0f921"
             ]
            ],
            "type": "contour"
           }
          ],
          "contourcarpet": [
           {
            "colorbar": {
             "outlinewidth": 0,
             "ticks": ""
            },
            "type": "contourcarpet"
           }
          ],
          "heatmap": [
           {
            "colorbar": {
             "outlinewidth": 0,
             "ticks": ""
            },
            "colorscale": [
             [
              0,
              "#0d0887"
             ],
             [
              0.1111111111111111,
              "#46039f"
             ],
             [
              0.2222222222222222,
              "#7201a8"
             ],
             [
              0.3333333333333333,
              "#9c179e"
             ],
             [
              0.4444444444444444,
              "#bd3786"
             ],
             [
              0.5555555555555556,
              "#d8576b"
             ],
             [
              0.6666666666666666,
              "#ed7953"
             ],
             [
              0.7777777777777778,
              "#fb9f3a"
             ],
             [
              0.8888888888888888,
              "#fdca26"
             ],
             [
              1,
              "#f0f921"
             ]
            ],
            "type": "heatmap"
           }
          ],
          "heatmapgl": [
           {
            "colorbar": {
             "outlinewidth": 0,
             "ticks": ""
            },
            "colorscale": [
             [
              0,
              "#0d0887"
             ],
             [
              0.1111111111111111,
              "#46039f"
             ],
             [
              0.2222222222222222,
              "#7201a8"
             ],
             [
              0.3333333333333333,
              "#9c179e"
             ],
             [
              0.4444444444444444,
              "#bd3786"
             ],
             [
              0.5555555555555556,
              "#d8576b"
             ],
             [
              0.6666666666666666,
              "#ed7953"
             ],
             [
              0.7777777777777778,
              "#fb9f3a"
             ],
             [
              0.8888888888888888,
              "#fdca26"
             ],
             [
              1,
              "#f0f921"
             ]
            ],
            "type": "heatmapgl"
           }
          ],
          "histogram": [
           {
            "marker": {
             "colorbar": {
              "outlinewidth": 0,
              "ticks": ""
             }
            },
            "type": "histogram"
           }
          ],
          "histogram2d": [
           {
            "colorbar": {
             "outlinewidth": 0,
             "ticks": ""
            },
            "colorscale": [
             [
              0,
              "#0d0887"
             ],
             [
              0.1111111111111111,
              "#46039f"
             ],
             [
              0.2222222222222222,
              "#7201a8"
             ],
             [
              0.3333333333333333,
              "#9c179e"
             ],
             [
              0.4444444444444444,
              "#bd3786"
             ],
             [
              0.5555555555555556,
              "#d8576b"
             ],
             [
              0.6666666666666666,
              "#ed7953"
             ],
             [
              0.7777777777777778,
              "#fb9f3a"
             ],
             [
              0.8888888888888888,
              "#fdca26"
             ],
             [
              1,
              "#f0f921"
             ]
            ],
            "type": "histogram2d"
           }
          ],
          "histogram2dcontour": [
           {
            "colorbar": {
             "outlinewidth": 0,
             "ticks": ""
            },
            "colorscale": [
             [
              0,
              "#0d0887"
             ],
             [
              0.1111111111111111,
              "#46039f"
             ],
             [
              0.2222222222222222,
              "#7201a8"
             ],
             [
              0.3333333333333333,
              "#9c179e"
             ],
             [
              0.4444444444444444,
              "#bd3786"
             ],
             [
              0.5555555555555556,
              "#d8576b"
             ],
             [
              0.6666666666666666,
              "#ed7953"
             ],
             [
              0.7777777777777778,
              "#fb9f3a"
             ],
             [
              0.8888888888888888,
              "#fdca26"
             ],
             [
              1,
              "#f0f921"
             ]
            ],
            "type": "histogram2dcontour"
           }
          ],
          "mesh3d": [
           {
            "colorbar": {
             "outlinewidth": 0,
             "ticks": ""
            },
            "type": "mesh3d"
           }
          ],
          "parcoords": [
           {
            "line": {
             "colorbar": {
              "outlinewidth": 0,
              "ticks": ""
             }
            },
            "type": "parcoords"
           }
          ],
          "pie": [
           {
            "automargin": true,
            "type": "pie"
           }
          ],
          "scatter": [
           {
            "marker": {
             "colorbar": {
              "outlinewidth": 0,
              "ticks": ""
             }
            },
            "type": "scatter"
           }
          ],
          "scatter3d": [
           {
            "line": {
             "colorbar": {
              "outlinewidth": 0,
              "ticks": ""
             }
            },
            "marker": {
             "colorbar": {
              "outlinewidth": 0,
              "ticks": ""
             }
            },
            "type": "scatter3d"
           }
          ],
          "scattercarpet": [
           {
            "marker": {
             "colorbar": {
              "outlinewidth": 0,
              "ticks": ""
             }
            },
            "type": "scattercarpet"
           }
          ],
          "scattergeo": [
           {
            "marker": {
             "colorbar": {
              "outlinewidth": 0,
              "ticks": ""
             }
            },
            "type": "scattergeo"
           }
          ],
          "scattergl": [
           {
            "marker": {
             "colorbar": {
              "outlinewidth": 0,
              "ticks": ""
             }
            },
            "type": "scattergl"
           }
          ],
          "scattermapbox": [
           {
            "marker": {
             "colorbar": {
              "outlinewidth": 0,
              "ticks": ""
             }
            },
            "type": "scattermapbox"
           }
          ],
          "scatterpolar": [
           {
            "marker": {
             "colorbar": {
              "outlinewidth": 0,
              "ticks": ""
             }
            },
            "type": "scatterpolar"
           }
          ],
          "scatterpolargl": [
           {
            "marker": {
             "colorbar": {
              "outlinewidth": 0,
              "ticks": ""
             }
            },
            "type": "scatterpolargl"
           }
          ],
          "scatterternary": [
           {
            "marker": {
             "colorbar": {
              "outlinewidth": 0,
              "ticks": ""
             }
            },
            "type": "scatterternary"
           }
          ],
          "surface": [
           {
            "colorbar": {
             "outlinewidth": 0,
             "ticks": ""
            },
            "colorscale": [
             [
              0,
              "#0d0887"
             ],
             [
              0.1111111111111111,
              "#46039f"
             ],
             [
              0.2222222222222222,
              "#7201a8"
             ],
             [
              0.3333333333333333,
              "#9c179e"
             ],
             [
              0.4444444444444444,
              "#bd3786"
             ],
             [
              0.5555555555555556,
              "#d8576b"
             ],
             [
              0.6666666666666666,
              "#ed7953"
             ],
             [
              0.7777777777777778,
              "#fb9f3a"
             ],
             [
              0.8888888888888888,
              "#fdca26"
             ],
             [
              1,
              "#f0f921"
             ]
            ],
            "type": "surface"
           }
          ],
          "table": [
           {
            "cells": {
             "fill": {
              "color": "#EBF0F8"
             },
             "line": {
              "color": "white"
             }
            },
            "header": {
             "fill": {
              "color": "#C8D4E3"
             },
             "line": {
              "color": "white"
             }
            },
            "type": "table"
           }
          ]
         },
         "layout": {
          "annotationdefaults": {
           "arrowcolor": "#2a3f5f",
           "arrowhead": 0,
           "arrowwidth": 1
          },
          "autotypenumbers": "strict",
          "coloraxis": {
           "colorbar": {
            "outlinewidth": 0,
            "ticks": ""
           }
          },
          "colorscale": {
           "diverging": [
            [
             0,
             "#8e0152"
            ],
            [
             0.1,
             "#c51b7d"
            ],
            [
             0.2,
             "#de77ae"
            ],
            [
             0.3,
             "#f1b6da"
            ],
            [
             0.4,
             "#fde0ef"
            ],
            [
             0.5,
             "#f7f7f7"
            ],
            [
             0.6,
             "#e6f5d0"
            ],
            [
             0.7,
             "#b8e186"
            ],
            [
             0.8,
             "#7fbc41"
            ],
            [
             0.9,
             "#4d9221"
            ],
            [
             1,
             "#276419"
            ]
           ],
           "sequential": [
            [
             0,
             "#0d0887"
            ],
            [
             0.1111111111111111,
             "#46039f"
            ],
            [
             0.2222222222222222,
             "#7201a8"
            ],
            [
             0.3333333333333333,
             "#9c179e"
            ],
            [
             0.4444444444444444,
             "#bd3786"
            ],
            [
             0.5555555555555556,
             "#d8576b"
            ],
            [
             0.6666666666666666,
             "#ed7953"
            ],
            [
             0.7777777777777778,
             "#fb9f3a"
            ],
            [
             0.8888888888888888,
             "#fdca26"
            ],
            [
             1,
             "#f0f921"
            ]
           ],
           "sequentialminus": [
            [
             0,
             "#0d0887"
            ],
            [
             0.1111111111111111,
             "#46039f"
            ],
            [
             0.2222222222222222,
             "#7201a8"
            ],
            [
             0.3333333333333333,
             "#9c179e"
            ],
            [
             0.4444444444444444,
             "#bd3786"
            ],
            [
             0.5555555555555556,
             "#d8576b"
            ],
            [
             0.6666666666666666,
             "#ed7953"
            ],
            [
             0.7777777777777778,
             "#fb9f3a"
            ],
            [
             0.8888888888888888,
             "#fdca26"
            ],
            [
             1,
             "#f0f921"
            ]
           ]
          },
          "colorway": [
           "#636efa",
           "#EF553B",
           "#00cc96",
           "#ab63fa",
           "#FFA15A",
           "#19d3f3",
           "#FF6692",
           "#B6E880",
           "#FF97FF",
           "#FECB52"
          ],
          "font": {
           "color": "#2a3f5f"
          },
          "geo": {
           "bgcolor": "white",
           "lakecolor": "white",
           "landcolor": "#E5ECF6",
           "showlakes": true,
           "showland": true,
           "subunitcolor": "white"
          },
          "hoverlabel": {
           "align": "left"
          },
          "hovermode": "closest",
          "mapbox": {
           "style": "light"
          },
          "paper_bgcolor": "white",
          "plot_bgcolor": "#E5ECF6",
          "polar": {
           "angularaxis": {
            "gridcolor": "white",
            "linecolor": "white",
            "ticks": ""
           },
           "bgcolor": "#E5ECF6",
           "radialaxis": {
            "gridcolor": "white",
            "linecolor": "white",
            "ticks": ""
           }
          },
          "scene": {
           "xaxis": {
            "backgroundcolor": "#E5ECF6",
            "gridcolor": "white",
            "gridwidth": 2,
            "linecolor": "white",
            "showbackground": true,
            "ticks": "",
            "zerolinecolor": "white"
           },
           "yaxis": {
            "backgroundcolor": "#E5ECF6",
            "gridcolor": "white",
            "gridwidth": 2,
            "linecolor": "white",
            "showbackground": true,
            "ticks": "",
            "zerolinecolor": "white"
           },
           "zaxis": {
            "backgroundcolor": "#E5ECF6",
            "gridcolor": "white",
            "gridwidth": 2,
            "linecolor": "white",
            "showbackground": true,
            "ticks": "",
            "zerolinecolor": "white"
           }
          },
          "shapedefaults": {
           "line": {
            "color": "#2a3f5f"
           }
          },
          "ternary": {
           "aaxis": {
            "gridcolor": "white",
            "linecolor": "white",
            "ticks": ""
           },
           "baxis": {
            "gridcolor": "white",
            "linecolor": "white",
            "ticks": ""
           },
           "bgcolor": "#E5ECF6",
           "caxis": {
            "gridcolor": "white",
            "linecolor": "white",
            "ticks": ""
           }
          },
          "title": {
           "x": 0.05
          },
          "xaxis": {
           "automargin": true,
           "gridcolor": "white",
           "linecolor": "white",
           "ticks": "",
           "title": {
            "standoff": 15
           },
           "zerolinecolor": "white",
           "zerolinewidth": 2
          },
          "yaxis": {
           "automargin": true,
           "gridcolor": "white",
           "linecolor": "white",
           "ticks": "",
           "title": {
            "standoff": 15
           },
           "zerolinecolor": "white",
           "zerolinewidth": 2
          }
         }
        },
        "title": {
         "font": {
          "size": 20
         },
         "text": "4 Countries with Most COVID Cases on Mar 17, 2021",
         "x": 0.5,
         "xanchor": "center"
        },
        "xaxis": {
         "tickangle": -90
        },
        "yaxis": {
         "title": {
          "text": "Percentage"
         },
         "type": "log"
        }
       }
      },
      "text/html": [
       "<div>                            <div id=\"e14343a0-f1dd-4885-ac7c-fe033effc42c\" class=\"plotly-graph-div\" style=\"height:525px; width:100%;\"></div>            <script type=\"text/javascript\">                require([\"plotly\"], function(Plotly) {                    window.PLOTLYENV=window.PLOTLYENV || {};                                    if (document.getElementById(\"e14343a0-f1dd-4885-ac7c-fe033effc42c\")) {                    Plotly.newPlot(                        \"e14343a0-f1dd-4885-ac7c-fe033effc42c\",                        [{\"name\": \"USA\", \"type\": \"bar\", \"x\": [\"Total Cases\", \"New Cases\", \"Total Deaths\", \"New Deaths\", \"Total Recovered\", \"New Recovered\", \"Active Cases\", \"Population\", \"Continent\"], \"y\": [30294798, 62794.0, 550649, 1288.0, 22447275, 88740.0, 7296874.0, 332378543, \"North America\"]}, {\"name\": \"Brazil\", \"type\": \"bar\", \"x\": [\"Total Cases\", \"New Cases\", \"Total Deaths\", \"New Deaths\", \"Total Recovered\", \"New Recovered\", \"Active Cases\", \"Population\", \"Continent\"], \"y\": [11700431, 90830.0, 285136, 2736.0, 10287057, 82516.0, 1128238.0, 213629898, \"South America\"]}, {\"name\": \"India\", \"type\": \"bar\", \"x\": [\"Total Cases\", \"New Cases\", \"Total Deaths\", \"New Deaths\", \"Total Recovered\", \"New Recovered\", \"Active Cases\", \"Population\", \"Continent\"], \"y\": [11474302, 35838.0, 159250, 171.0, 11061170, 17793.0, 253882.0, 1389604984, \"Asia\"]}, {\"name\": \"Russia\", \"type\": \"bar\", \"x\": [\"Total Cases\", \"New Cases\", \"Total Deaths\", \"New Deaths\", \"Total Recovered\", \"New Recovered\", \"Active Cases\", \"Population\", \"Continent\"], \"y\": [4418436, 8998.0, 93364, 427.0, 4024975, 10755.0, 300097.0, 145978921, \"Europe\"]}],                        {\"template\": {\"data\": {\"bar\": [{\"error_x\": {\"color\": \"#2a3f5f\"}, \"error_y\": {\"color\": \"#2a3f5f\"}, \"marker\": {\"line\": {\"color\": \"#E5ECF6\", \"width\": 0.5}}, \"type\": \"bar\"}], \"barpolar\": [{\"marker\": {\"line\": {\"color\": \"#E5ECF6\", \"width\": 0.5}}, \"type\": \"barpolar\"}], \"carpet\": [{\"aaxis\": {\"endlinecolor\": \"#2a3f5f\", \"gridcolor\": \"white\", \"linecolor\": \"white\", \"minorgridcolor\": \"white\", \"startlinecolor\": \"#2a3f5f\"}, \"baxis\": {\"endlinecolor\": \"#2a3f5f\", \"gridcolor\": \"white\", \"linecolor\": \"white\", \"minorgridcolor\": \"white\", \"startlinecolor\": \"#2a3f5f\"}, \"type\": \"carpet\"}], \"choropleth\": [{\"colorbar\": {\"outlinewidth\": 0, \"ticks\": \"\"}, \"type\": \"choropleth\"}], \"contour\": [{\"colorbar\": {\"outlinewidth\": 0, \"ticks\": \"\"}, \"colorscale\": [[0.0, \"#0d0887\"], [0.1111111111111111, \"#46039f\"], [0.2222222222222222, \"#7201a8\"], [0.3333333333333333, \"#9c179e\"], [0.4444444444444444, \"#bd3786\"], [0.5555555555555556, \"#d8576b\"], [0.6666666666666666, \"#ed7953\"], [0.7777777777777778, \"#fb9f3a\"], [0.8888888888888888, \"#fdca26\"], [1.0, \"#f0f921\"]], \"type\": \"contour\"}], \"contourcarpet\": [{\"colorbar\": {\"outlinewidth\": 0, \"ticks\": \"\"}, \"type\": \"contourcarpet\"}], \"heatmap\": [{\"colorbar\": {\"outlinewidth\": 0, \"ticks\": \"\"}, \"colorscale\": [[0.0, \"#0d0887\"], [0.1111111111111111, \"#46039f\"], [0.2222222222222222, \"#7201a8\"], [0.3333333333333333, \"#9c179e\"], [0.4444444444444444, \"#bd3786\"], [0.5555555555555556, \"#d8576b\"], [0.6666666666666666, \"#ed7953\"], [0.7777777777777778, \"#fb9f3a\"], [0.8888888888888888, \"#fdca26\"], [1.0, \"#f0f921\"]], \"type\": \"heatmap\"}], \"heatmapgl\": [{\"colorbar\": {\"outlinewidth\": 0, \"ticks\": \"\"}, \"colorscale\": [[0.0, \"#0d0887\"], [0.1111111111111111, \"#46039f\"], [0.2222222222222222, \"#7201a8\"], [0.3333333333333333, \"#9c179e\"], [0.4444444444444444, \"#bd3786\"], [0.5555555555555556, \"#d8576b\"], [0.6666666666666666, \"#ed7953\"], [0.7777777777777778, \"#fb9f3a\"], [0.8888888888888888, \"#fdca26\"], [1.0, \"#f0f921\"]], \"type\": \"heatmapgl\"}], \"histogram\": [{\"marker\": {\"colorbar\": {\"outlinewidth\": 0, \"ticks\": \"\"}}, \"type\": \"histogram\"}], \"histogram2d\": [{\"colorbar\": {\"outlinewidth\": 0, \"ticks\": \"\"}, \"colorscale\": [[0.0, \"#0d0887\"], [0.1111111111111111, \"#46039f\"], [0.2222222222222222, \"#7201a8\"], [0.3333333333333333, \"#9c179e\"], [0.4444444444444444, \"#bd3786\"], [0.5555555555555556, \"#d8576b\"], [0.6666666666666666, \"#ed7953\"], [0.7777777777777778, \"#fb9f3a\"], [0.8888888888888888, \"#fdca26\"], [1.0, \"#f0f921\"]], \"type\": \"histogram2d\"}], \"histogram2dcontour\": [{\"colorbar\": {\"outlinewidth\": 0, \"ticks\": \"\"}, \"colorscale\": [[0.0, \"#0d0887\"], [0.1111111111111111, \"#46039f\"], [0.2222222222222222, \"#7201a8\"], [0.3333333333333333, \"#9c179e\"], [0.4444444444444444, \"#bd3786\"], [0.5555555555555556, \"#d8576b\"], [0.6666666666666666, \"#ed7953\"], [0.7777777777777778, \"#fb9f3a\"], [0.8888888888888888, \"#fdca26\"], [1.0, \"#f0f921\"]], \"type\": \"histogram2dcontour\"}], \"mesh3d\": [{\"colorbar\": {\"outlinewidth\": 0, \"ticks\": \"\"}, \"type\": \"mesh3d\"}], \"parcoords\": [{\"line\": {\"colorbar\": {\"outlinewidth\": 0, \"ticks\": \"\"}}, \"type\": \"parcoords\"}], \"pie\": [{\"automargin\": true, \"type\": \"pie\"}], \"scatter\": [{\"marker\": {\"colorbar\": {\"outlinewidth\": 0, \"ticks\": \"\"}}, \"type\": \"scatter\"}], \"scatter3d\": [{\"line\": {\"colorbar\": {\"outlinewidth\": 0, \"ticks\": \"\"}}, \"marker\": {\"colorbar\": {\"outlinewidth\": 0, \"ticks\": \"\"}}, \"type\": \"scatter3d\"}], \"scattercarpet\": [{\"marker\": {\"colorbar\": {\"outlinewidth\": 0, \"ticks\": \"\"}}, \"type\": \"scattercarpet\"}], \"scattergeo\": [{\"marker\": {\"colorbar\": {\"outlinewidth\": 0, \"ticks\": \"\"}}, \"type\": \"scattergeo\"}], \"scattergl\": [{\"marker\": {\"colorbar\": {\"outlinewidth\": 0, \"ticks\": \"\"}}, \"type\": \"scattergl\"}], \"scattermapbox\": [{\"marker\": {\"colorbar\": {\"outlinewidth\": 0, \"ticks\": \"\"}}, \"type\": \"scattermapbox\"}], \"scatterpolar\": [{\"marker\": {\"colorbar\": {\"outlinewidth\": 0, \"ticks\": \"\"}}, \"type\": \"scatterpolar\"}], \"scatterpolargl\": [{\"marker\": {\"colorbar\": {\"outlinewidth\": 0, \"ticks\": \"\"}}, \"type\": \"scatterpolargl\"}], \"scatterternary\": [{\"marker\": {\"colorbar\": {\"outlinewidth\": 0, \"ticks\": \"\"}}, \"type\": \"scatterternary\"}], \"surface\": [{\"colorbar\": {\"outlinewidth\": 0, \"ticks\": \"\"}, \"colorscale\": [[0.0, \"#0d0887\"], [0.1111111111111111, \"#46039f\"], [0.2222222222222222, \"#7201a8\"], [0.3333333333333333, \"#9c179e\"], [0.4444444444444444, \"#bd3786\"], [0.5555555555555556, \"#d8576b\"], [0.6666666666666666, \"#ed7953\"], [0.7777777777777778, \"#fb9f3a\"], [0.8888888888888888, \"#fdca26\"], [1.0, \"#f0f921\"]], \"type\": \"surface\"}], \"table\": [{\"cells\": {\"fill\": {\"color\": \"#EBF0F8\"}, \"line\": {\"color\": \"white\"}}, \"header\": {\"fill\": {\"color\": \"#C8D4E3\"}, \"line\": {\"color\": \"white\"}}, \"type\": \"table\"}]}, \"layout\": {\"annotationdefaults\": {\"arrowcolor\": \"#2a3f5f\", \"arrowhead\": 0, \"arrowwidth\": 1}, \"autotypenumbers\": \"strict\", \"coloraxis\": {\"colorbar\": {\"outlinewidth\": 0, \"ticks\": \"\"}}, \"colorscale\": {\"diverging\": [[0, \"#8e0152\"], [0.1, \"#c51b7d\"], [0.2, \"#de77ae\"], [0.3, \"#f1b6da\"], [0.4, \"#fde0ef\"], [0.5, \"#f7f7f7\"], [0.6, \"#e6f5d0\"], [0.7, \"#b8e186\"], [0.8, \"#7fbc41\"], [0.9, \"#4d9221\"], [1, \"#276419\"]], \"sequential\": [[0.0, \"#0d0887\"], [0.1111111111111111, \"#46039f\"], [0.2222222222222222, \"#7201a8\"], [0.3333333333333333, \"#9c179e\"], [0.4444444444444444, \"#bd3786\"], [0.5555555555555556, \"#d8576b\"], [0.6666666666666666, \"#ed7953\"], [0.7777777777777778, \"#fb9f3a\"], [0.8888888888888888, \"#fdca26\"], [1.0, \"#f0f921\"]], \"sequentialminus\": [[0.0, \"#0d0887\"], [0.1111111111111111, \"#46039f\"], [0.2222222222222222, \"#7201a8\"], [0.3333333333333333, \"#9c179e\"], [0.4444444444444444, \"#bd3786\"], [0.5555555555555556, \"#d8576b\"], [0.6666666666666666, \"#ed7953\"], [0.7777777777777778, \"#fb9f3a\"], [0.8888888888888888, \"#fdca26\"], [1.0, \"#f0f921\"]]}, \"colorway\": [\"#636efa\", \"#EF553B\", \"#00cc96\", \"#ab63fa\", \"#FFA15A\", \"#19d3f3\", \"#FF6692\", \"#B6E880\", \"#FF97FF\", \"#FECB52\"], \"font\": {\"color\": \"#2a3f5f\"}, \"geo\": {\"bgcolor\": \"white\", \"lakecolor\": \"white\", \"landcolor\": \"#E5ECF6\", \"showlakes\": true, \"showland\": true, \"subunitcolor\": \"white\"}, \"hoverlabel\": {\"align\": \"left\"}, \"hovermode\": \"closest\", \"mapbox\": {\"style\": \"light\"}, \"paper_bgcolor\": \"white\", \"plot_bgcolor\": \"#E5ECF6\", \"polar\": {\"angularaxis\": {\"gridcolor\": \"white\", \"linecolor\": \"white\", \"ticks\": \"\"}, \"bgcolor\": \"#E5ECF6\", \"radialaxis\": {\"gridcolor\": \"white\", \"linecolor\": \"white\", \"ticks\": \"\"}}, \"scene\": {\"xaxis\": {\"backgroundcolor\": \"#E5ECF6\", \"gridcolor\": \"white\", \"gridwidth\": 2, \"linecolor\": \"white\", \"showbackground\": true, \"ticks\": \"\", \"zerolinecolor\": \"white\"}, \"yaxis\": {\"backgroundcolor\": \"#E5ECF6\", \"gridcolor\": \"white\", \"gridwidth\": 2, \"linecolor\": \"white\", \"showbackground\": true, \"ticks\": \"\", \"zerolinecolor\": \"white\"}, \"zaxis\": {\"backgroundcolor\": \"#E5ECF6\", \"gridcolor\": \"white\", \"gridwidth\": 2, \"linecolor\": \"white\", \"showbackground\": true, \"ticks\": \"\", \"zerolinecolor\": \"white\"}}, \"shapedefaults\": {\"line\": {\"color\": \"#2a3f5f\"}}, \"ternary\": {\"aaxis\": {\"gridcolor\": \"white\", \"linecolor\": \"white\", \"ticks\": \"\"}, \"baxis\": {\"gridcolor\": \"white\", \"linecolor\": \"white\", \"ticks\": \"\"}, \"bgcolor\": \"#E5ECF6\", \"caxis\": {\"gridcolor\": \"white\", \"linecolor\": \"white\", \"ticks\": \"\"}}, \"title\": {\"x\": 0.05}, \"xaxis\": {\"automargin\": true, \"gridcolor\": \"white\", \"linecolor\": \"white\", \"ticks\": \"\", \"title\": {\"standoff\": 15}, \"zerolinecolor\": \"white\", \"zerolinewidth\": 2}, \"yaxis\": {\"automargin\": true, \"gridcolor\": \"white\", \"linecolor\": \"white\", \"ticks\": \"\", \"title\": {\"standoff\": 15}, \"zerolinecolor\": \"white\", \"zerolinewidth\": 2}}}, \"title\": {\"font\": {\"size\": 20}, \"text\": \"4 Countries with Most COVID Cases on Mar 17, 2021\", \"x\": 0.5, \"xanchor\": \"center\"}, \"xaxis\": {\"tickangle\": -90}, \"yaxis\": {\"title\": {\"text\": \"Percentage\"}, \"type\": \"log\"}},                        {\"responsive\": true}                    ).then(function(){\n",
       "                            \n",
       "var gd = document.getElementById('e14343a0-f1dd-4885-ac7c-fe033effc42c');\n",
       "var x = new MutationObserver(function (mutations, observer) {{\n",
       "        var display = window.getComputedStyle(gd).display;\n",
       "        if (!display || display === 'none') {{\n",
       "            console.log([gd, 'removed!']);\n",
       "            Plotly.purge(gd);\n",
       "            observer.disconnect();\n",
       "        }}\n",
       "}});\n",
       "\n",
       "// Listen for the removal of the full notebook cells\n",
       "var notebookContainer = gd.closest('#notebook-container');\n",
       "if (notebookContainer) {{\n",
       "    x.observe(notebookContainer, {childList: true});\n",
       "}}\n",
       "\n",
       "// Listen for the clearing of the current output cell\n",
       "var outputEl = gd.closest('.output');\n",
       "if (outputEl) {{\n",
       "    x.observe(outputEl, {childList: true});\n",
       "}}\n",
       "\n",
       "                        })                };                });            </script>        </div>"
      ]
     },
     "metadata": {},
     "output_type": "display_data"
    }
   ],
   "source": [
    "country_l = country_df.columns[1:14]\n",
    "\n",
    "fig = go.Figure()\n",
    "c = 0\n",
    "for i in country_df.index:\n",
    "    if c<4:\n",
    "        fig.add_trace(go.Bar(name=country_df['Country'][i], x=country_l, y=country_df.loc[i][1:14]))\n",
    "    else:\n",
    "        break\n",
    "    c += 1\n",
    "    \n",
    "fig.update_layout(title={'text': '4 Countries with Most COVID Cases on %s' % yesterday_str, 'x': 0.5,\n",
    "                         'xanchor': 'center', 'font': {'size': 20}}, yaxis_title=\"Percentage\", yaxis_type=\"log\", xaxis_tickangle=-90)\n",
    "fig.show()"
   ]
  },
  {
   "cell_type": "code",
   "execution_count": 18,
   "id": "spiritual-canyon",
   "metadata": {},
   "outputs": [
    {
     "data": {
      "application/vnd.plotly.v1+json": {
       "config": {
        "plotlyServerURL": "https://plot.ly"
       },
       "data": [
        {
         "name": "USA",
         "type": "bar",
         "y": [
          30294798
         ]
        },
        {
         "name": "Brazil",
         "type": "bar",
         "y": [
          11700431
         ]
        },
        {
         "name": "India",
         "type": "bar",
         "y": [
          11474302
         ]
        },
        {
         "name": "Russia",
         "type": "bar",
         "y": [
          4418436
         ]
        },
        {
         "name": "UK",
         "type": "bar",
         "y": [
          4274579
         ]
        },
        {
         "name": "France",
         "type": "bar",
         "y": [
          4146609
         ]
        },
        {
         "name": "Italy",
         "type": "bar",
         "y": [
          3281810
         ]
        },
        {
         "name": "Spain",
         "type": "bar",
         "y": [
          3206116
         ]
        },
        {
         "name": "Turkey",
         "type": "bar",
         "y": [
          2930554
         ]
        },
        {
         "name": "Germany",
         "type": "bar",
         "y": [
          2610769
         ]
        },
        {
         "name": "Colombia",
         "type": "bar",
         "y": [
          2314154
         ]
        },
        {
         "name": "Argentina",
         "type": "bar",
         "y": [
          2218425
         ]
        },
        {
         "name": "Mexico",
         "type": "bar",
         "y": [
          2169007
         ]
        },
        {
         "name": "Poland",
         "type": "bar",
         "y": [
          1956974
         ]
        },
        {
         "name": "Iran",
         "type": "bar",
         "y": [
          1771115
         ]
        },
        {
         "name": "South Africa",
         "type": "bar",
         "y": [
          1532497
         ]
        },
        {
         "name": "Ukraine",
         "type": "bar",
         "y": [
          1489023
         ]
        },
        {
         "name": "Indonesia",
         "type": "bar",
         "y": [
          1437283
         ]
        },
        {
         "name": "Peru",
         "type": "bar",
         "y": [
          1435598
         ]
        },
        {
         "name": "Czechia",
         "type": "bar",
         "y": [
          1426991
         ]
        },
        {
         "name": "Netherlands",
         "type": "bar",
         "y": [
          1173487
         ]
        },
        {
         "name": "Canada",
         "type": "bar",
         "y": [
          919239
         ]
        },
        {
         "name": "Chile",
         "type": "bar",
         "y": [
          905212
         ]
        },
        {
         "name": "Romania",
         "type": "bar",
         "y": [
          874985
         ]
        },
        {
         "name": "Israel",
         "type": "bar",
         "y": [
          824178
         ]
        },
        {
         "name": "Portugal",
         "type": "bar",
         "y": [
          815570
         ]
        },
        {
         "name": "Belgium",
         "type": "bar",
         "y": [
          813026
         ]
        },
        {
         "name": "Iraq",
         "type": "bar",
         "y": [
          774015
         ]
        },
        {
         "name": "Sweden",
         "type": "bar",
         "y": [
          732070
         ]
        },
        {
         "name": "Philippines",
         "type": "bar",
         "y": [
          635698
         ]
        },
        {
         "name": "Pakistan",
         "type": "bar",
         "y": [
          612315
         ]
        },
        {
         "name": "Switzerland",
         "type": "bar",
         "y": [
          577111
         ]
        },
        {
         "name": "Bangladesh",
         "type": "bar",
         "y": [
          562752
         ]
        },
        {
         "name": "Hungary",
         "type": "bar",
         "y": [
          532578
         ]
        },
        {
         "name": "Serbia",
         "type": "bar",
         "y": [
          531558
         ]
        },
        {
         "name": "Jordan",
         "type": "bar",
         "y": [
          504915
         ]
        },
        {
         "name": "Austria",
         "type": "bar",
         "y": [
          501224
         ]
        },
        {
         "name": "Morocco",
         "type": "bar",
         "y": [
          490088
         ]
        },
        {
         "name": "Japan",
         "type": "bar",
         "y": [
          449713
         ]
        },
        {
         "name": "UAE",
         "type": "bar",
         "y": [
          432364
         ]
        },
        {
         "name": "Lebanon",
         "type": "bar",
         "y": [
          426977
         ]
        },
        {
         "name": "Saudi Arabia",
         "type": "bar",
         "y": [
          383499
         ]
        },
        {
         "name": "Panama",
         "type": "bar",
         "y": [
          349020
         ]
        },
        {
         "name": "Slovakia",
         "type": "bar",
         "y": [
          342430
         ]
        },
        {
         "name": "Malaysia",
         "type": "bar",
         "y": [
          327253
         ]
        },
        {
         "name": "Ecuador",
         "type": "bar",
         "y": [
          305598
         ]
        },
        {
         "name": "Belarus",
         "type": "bar",
         "y": [
          305270
         ]
        },
        {
         "name": "Bulgaria",
         "type": "bar",
         "y": [
          291769
         ]
        },
        {
         "name": "Georgia",
         "type": "bar",
         "y": [
          276067
         ]
        },
        {
         "name": "Nepal",
         "type": "bar",
         "y": [
          275518
         ]
        },
        {
         "name": "Bolivia",
         "type": "bar",
         "y": [
          260988
         ]
        },
        {
         "name": "Croatia",
         "type": "bar",
         "y": [
          253310
         ]
        },
        {
         "name": "Dominican Republic",
         "type": "bar",
         "y": [
          247364
         ]
        },
        {
         "name": "Tunisia",
         "type": "bar",
         "y": [
          243439
         ]
        },
        {
         "name": "Azerbaijan",
         "type": "bar",
         "y": [
          242491
         ]
        },
        {
         "name": "Ireland",
         "type": "bar",
         "y": [
          228215
         ]
        },
        {
         "name": "Greece",
         "type": "bar",
         "y": [
          227247
         ]
        },
        {
         "name": "Kazakhstan",
         "type": "bar",
         "y": [
          226767
         ]
        },
        {
         "name": "Denmark",
         "type": "bar",
         "y": [
          222629
         ]
        },
        {
         "name": "Palestine",
         "type": "bar",
         "y": [
          215984
         ]
        },
        {
         "name": "Kuwait",
         "type": "bar",
         "y": [
          213673
         ]
        },
        {
         "name": "Costa Rica",
         "type": "bar",
         "y": [
          210447
         ]
        },
        {
         "name": "Moldova",
         "type": "bar",
         "y": [
          208928
         ]
        },
        {
         "name": "Lithuania",
         "type": "bar",
         "y": [
          206889
         ]
        },
        {
         "name": "Slovenia",
         "type": "bar",
         "y": [
          202573
         ]
        },
        {
         "name": "Egypt",
         "type": "bar",
         "y": [
          192840
         ]
        },
        {
         "name": "Paraguay",
         "type": "bar",
         "y": [
          185888
         ]
        },
        {
         "name": "Guatemala",
         "type": "bar",
         "y": [
          184934
         ]
        },
        {
         "name": "Armenia",
         "type": "bar",
         "y": [
          180141
         ]
        },
        {
         "name": "Ethiopia",
         "type": "bar",
         "y": [
          179812
         ]
        },
        {
         "name": "Honduras",
         "type": "bar",
         "y": [
          179515
         ]
        },
        {
         "name": "Qatar",
         "type": "bar",
         "y": [
          171701
         ]
        },
        {
         "name": "Nigeria",
         "type": "bar",
         "y": [
          161261
         ]
        },
        {
         "name": "Oman",
         "type": "bar",
         "y": [
          148558
         ]
        },
        {
         "name": "Libya",
         "type": "bar",
         "y": [
          148175
         ]
        },
        {
         "name": "Bosnia and Herzegovina",
         "type": "bar",
         "y": [
          148163
         ]
        },
        {
         "name": "Venezuela",
         "type": "bar",
         "y": [
          147577
         ]
        },
        {
         "name": "Myanmar",
         "type": "bar",
         "y": [
          142190
         ]
        },
        {
         "name": "Bahrain",
         "type": "bar",
         "y": [
          133137
         ]
        },
        {
         "name": "Albania",
         "type": "bar",
         "y": [
          118938
         ]
        },
        {
         "name": "Kenya",
         "type": "bar",
         "y": [
          116310
         ]
        },
        {
         "name": "Algeria",
         "type": "bar",
         "y": [
          115688
         ]
        },
        {
         "name": "North Macedonia",
         "type": "bar",
         "y": [
          115222
         ]
        },
        {
         "name": "S. Korea",
         "type": "bar",
         "y": [
          96849
         ]
        },
        {
         "name": "Latvia",
         "type": "bar",
         "y": [
          95420
         ]
        },
        {
         "name": "Estonia",
         "type": "bar",
         "y": [
          89331
         ]
        },
        {
         "name": "Sri Lanka",
         "type": "bar",
         "y": [
          88862
         ]
        },
        {
         "name": "Ghana",
         "type": "bar",
         "y": [
          88421
         ]
        },
        {
         "name": "Kyrgyzstan",
         "type": "bar",
         "y": [
          87045
         ]
        },
        {
         "name": "Zambia",
         "type": "bar",
         "y": [
          85502
         ]
        },
        {
         "name": "Montenegro",
         "type": "bar",
         "y": [
          85253
         ]
        },
        {
         "name": "Norway",
         "type": "bar",
         "y": [
          83519
         ]
        },
        {
         "name": "Uzbekistan",
         "type": "bar",
         "y": [
          80858
         ]
        },
        {
         "name": "Uruguay",
         "type": "bar",
         "y": [
          75138
         ]
        },
        {
         "name": "Finland",
         "type": "bar",
         "y": [
          68693
         ]
        },
        {
         "name": "Mozambique",
         "type": "bar",
         "y": [
          65197
         ]
        },
        {
         "name": "Cuba",
         "type": "bar",
         "y": [
          63725
         ]
        },
        {
         "name": "El Salvador",
         "type": "bar",
         "y": [
          62531
         ]
        },
        {
         "name": "Singapore",
         "type": "bar",
         "y": [
          60137
         ]
        },
        {
         "name": "Luxembourg",
         "type": "bar",
         "y": [
          58408
         ]
        },
        {
         "name": "Afghanistan",
         "type": "bar",
         "y": [
          56044
         ]
        },
        {
         "name": "Namibia",
         "type": "bar",
         "y": [
          41546
         ]
        },
        {
         "name": "Cyprus",
         "type": "bar",
         "y": [
          40726
         ]
        },
        {
         "name": "Cameroon",
         "type": "bar",
         "y": [
          40622
         ]
        },
        {
         "name": "Uganda",
         "type": "bar",
         "y": [
          40607
         ]
        },
        {
         "name": "Ivory Coast",
         "type": "bar",
         "y": [
          38282
         ]
        },
        {
         "name": "Senegal",
         "type": "bar",
         "y": [
          37254
         ]
        },
        {
         "name": "Zimbabwe",
         "type": "bar",
         "y": [
          36552
         ]
        },
        {
         "name": "Botswana",
         "type": "bar",
         "y": [
          34999
         ]
        },
        {
         "name": "Malawi",
         "type": "bar",
         "y": [
          32970
         ]
        },
        {
         "name": "Jamaica",
         "type": "bar",
         "y": [
          32728
         ]
        },
        {
         "name": "Australia",
         "type": "bar",
         "y": [
          29154
         ]
        },
        {
         "name": "Sudan",
         "type": "bar",
         "y": [
          29135
         ]
        },
        {
         "name": "Thailand",
         "type": "bar",
         "y": [
          27402
         ]
        },
        {
         "name": "Malta",
         "type": "bar",
         "y": [
          27272
         ]
        },
        {
         "name": "DRC",
         "type": "bar",
         "y": [
          27252
         ]
        },
        {
         "name": "Maldives",
         "type": "bar",
         "y": [
          21961
         ]
        },
        {
         "name": "Madagascar",
         "type": "bar",
         "y": [
          21826
         ]
        },
        {
         "name": "Angola",
         "type": "bar",
         "y": [
          21489
         ]
        },
        {
         "name": "Rwanda",
         "type": "bar",
         "y": [
          20480
         ]
        },
        {
         "name": "Mayotte",
         "type": "bar",
         "y": [
          18922
         ]
        },
        {
         "name": "French Polynesia",
         "type": "bar",
         "y": [
          18566
         ]
        },
        {
         "name": "Guinea",
         "type": "bar",
         "y": [
          18285
         ]
        },
        {
         "name": "Mauritania",
         "type": "bar",
         "y": [
          17521
         ]
        },
        {
         "name": "Gabon",
         "type": "bar",
         "y": [
          17297
         ]
        },
        {
         "name": "Eswatini",
         "type": "bar",
         "y": [
          17257
         ]
        },
        {
         "name": "Syria",
         "type": "bar",
         "y": [
          16776
         ]
        },
        {
         "name": "French Guiana",
         "type": "bar",
         "y": [
          16764
         ]
        },
        {
         "name": "Cabo Verde",
         "type": "bar",
         "y": [
          16250
         ]
        },
        {
         "name": "Réunion",
         "type": "bar",
         "y": [
          13801
         ]
        },
        {
         "name": "Haiti",
         "type": "bar",
         "y": [
          12686
         ]
        },
        {
         "name": "Burkina Faso",
         "type": "bar",
         "y": [
          12399
         ]
        },
        {
         "name": "Belize",
         "type": "bar",
         "y": [
          12396
         ]
        },
        {
         "name": "Andorra",
         "type": "bar",
         "y": [
          11360
         ]
        },
        {
         "name": "Hong Kong",
         "type": "bar",
         "y": [
          11341
         ]
        },
        {
         "name": "Guadeloupe",
         "type": "bar",
         "y": [
          10976
         ]
        },
        {
         "name": "Lesotho",
         "type": "bar",
         "y": [
          10530
         ]
        },
        {
         "name": "South Sudan",
         "type": "bar",
         "y": [
          9694
         ]
        },
        {
         "name": "Somalia",
         "type": "bar",
         "y": [
          9600
         ]
        },
        {
         "name": "Congo",
         "type": "bar",
         "y": [
          9329
         ]
        },
        {
         "name": "Guyana",
         "type": "bar",
         "y": [
          9322
         ]
        },
        {
         "name": "Mali",
         "type": "bar",
         "y": [
          9066
         ]
        },
        {
         "name": "Suriname",
         "type": "bar",
         "y": [
          9042
         ]
        },
        {
         "name": "Bahamas",
         "type": "bar",
         "y": [
          8800
         ]
        },
        {
         "name": "Aruba",
         "type": "bar",
         "y": [
          8551
         ]
        },
        {
         "name": "Togo",
         "type": "bar",
         "y": [
          8472
         ]
        },
        {
         "name": "Trinidad and Tobago",
         "type": "bar",
         "y": [
          7807
         ]
        },
        {
         "name": "Martinique",
         "type": "bar",
         "y": [
          7309
         ]
        },
        {
         "name": "Equatorial Guinea",
         "type": "bar",
         "y": [
          6603
         ]
        },
        {
         "name": "Nicaragua",
         "type": "bar",
         "y": [
          6582
         ]
        },
        {
         "name": "Benin",
         "type": "bar",
         "y": [
          6501
         ]
        },
        {
         "name": "Djibouti",
         "type": "bar",
         "y": [
          6385
         ]
        },
        {
         "name": "Iceland",
         "type": "bar",
         "y": [
          6089
         ]
        },
        {
         "name": "Curaçao",
         "type": "bar",
         "y": [
          5380
         ]
        },
        {
         "name": "Gambia",
         "type": "bar",
         "y": [
          5085
         ]
        },
        {
         "name": "CAR",
         "type": "bar",
         "y": [
          5064
         ]
        },
        {
         "name": "Niger",
         "type": "bar",
         "y": [
          4904
         ]
        },
        {
         "name": "Chad",
         "type": "bar",
         "y": [
          4357
         ]
        },
        {
         "name": "Mongolia",
         "type": "bar",
         "y": [
          4340
         ]
        },
        {
         "name": "Gibraltar",
         "type": "bar",
         "y": [
          4270
         ]
        },
        {
         "name": "San Marino",
         "type": "bar",
         "y": [
          4249
         ]
        },
        {
         "name": "Saint Lucia",
         "type": "bar",
         "y": [
          4083
         ]
        },
        {
         "name": "Channel Islands",
         "type": "bar",
         "y": [
          4045
         ]
        },
        {
         "name": "Sierra Leone",
         "type": "bar",
         "y": [
          3942
         ]
        },
        {
         "name": "Comoros",
         "type": "bar",
         "y": [
          3652
         ]
        },
        {
         "name": "Guinea-Bissau",
         "type": "bar",
         "y": [
          3488
         ]
        },
        {
         "name": "Seychelles",
         "type": "bar",
         "y": [
          3486
         ]
        },
        {
         "name": "Barbados",
         "type": "bar",
         "y": [
          3471
         ]
        },
        {
         "name": "Eritrea",
         "type": "bar",
         "y": [
          3078
         ]
        },
        {
         "name": "Yemen",
         "type": "bar",
         "y": [
          3037
         ]
        },
        {
         "name": "Liechtenstein",
         "type": "bar",
         "y": [
          2616
         ]
        },
        {
         "name": "Vietnam",
         "type": "bar",
         "y": [
          2567
         ]
        },
        {
         "name": "Burundi",
         "type": "bar",
         "y": [
          2461
         ]
        },
        {
         "name": "New Zealand",
         "type": "bar",
         "y": [
          2434
         ]
        },
        {
         "name": "Papua New Guinea",
         "type": "bar",
         "y": [
          2351
         ]
        },
        {
         "name": "Turks and Caicos",
         "type": "bar",
         "y": [
          2253
         ]
        },
        {
         "name": "Monaco",
         "type": "bar",
         "y": [
          2141
         ]
        },
        {
         "name": "Sao Tome and Principe",
         "type": "bar",
         "y": [
          2107
         ]
        },
        {
         "name": "Sint Maarten",
         "type": "bar",
         "y": [
          2093
         ]
        },
        {
         "name": "Liberia",
         "type": "bar",
         "y": [
          2042
         ]
        },
        {
         "name": "St. Vincent Grenadines",
         "type": "bar",
         "y": [
          1681
         ]
        },
        {
         "name": "Saint Martin",
         "type": "bar",
         "y": [
          1602
         ]
        },
        {
         "name": "Cambodia",
         "type": "bar",
         "y": [
          1505
         ]
        },
        {
         "name": "Isle of Man",
         "type": "bar",
         "y": [
          1383
         ]
        },
        {
         "name": "Antigua and Barbuda",
         "type": "bar",
         "y": [
          992
         ]
        },
        {
         "name": "Taiwan",
         "type": "bar",
         "y": [
          990
         ]
        },
        {
         "name": "Caribbean Netherlands",
         "type": "bar",
         "y": [
          905
         ]
        },
        {
         "name": "Bhutan",
         "type": "bar",
         "y": [
          868
         ]
        },
        {
         "name": "Mauritius",
         "type": "bar",
         "y": [
          762
         ]
        },
        {
         "name": "Bermuda",
         "type": "bar",
         "y": [
          740
         ]
        },
        {
         "name": "St. Barth",
         "type": "bar",
         "y": [
          712
         ]
        },
        {
         "name": "Faeroe Islands",
         "type": "bar",
         "y": [
          661
         ]
        },
        {
         "name": "Tanzania",
         "type": "bar",
         "y": [
          509
         ]
        },
        {
         "name": "Cayman Islands",
         "type": "bar",
         "y": [
          474
         ]
        },
        {
         "name": "Wallis and Futuna",
         "type": "bar",
         "y": [
          261
         ]
        },
        {
         "name": "Timor-Leste",
         "type": "bar",
         "y": [
          216
         ]
        },
        {
         "name": "Brunei ",
         "type": "bar",
         "y": [
          203
         ]
        },
        {
         "name": "Dominica",
         "type": "bar",
         "y": [
          156
         ]
        },
        {
         "name": "Grenada",
         "type": "bar",
         "y": [
          154
         ]
        },
        {
         "name": "British Virgin Islands",
         "type": "bar",
         "y": [
          153
         ]
        },
        {
         "name": "New Caledonia",
         "type": "bar",
         "y": [
          95
         ]
        },
        {
         "name": "Fiji",
         "type": "bar",
         "y": [
          66
         ]
        },
        {
         "name": "Laos",
         "type": "bar",
         "y": [
          49
         ]
        },
        {
         "name": "Macao",
         "type": "bar",
         "y": [
          48
         ]
        },
        {
         "name": "Saint Kitts and Nevis",
         "type": "bar",
         "y": [
          43
         ]
        },
        {
         "name": "Vatican City",
         "type": "bar",
         "y": [
          27
         ]
        },
        {
         "name": "Anguilla",
         "type": "bar",
         "y": [
          21
         ]
        },
        {
         "name": "Solomon Islands",
         "type": "bar",
         "y": [
          18
         ]
        },
        {
         "name": "Western Sahara",
         "type": "bar",
         "y": [
          10
         ]
        },
        {
         "name": "Samoa",
         "type": "bar",
         "y": [
          3
         ]
        },
        {
         "name": "Vanuatu",
         "type": "bar",
         "y": [
          3
         ]
        }
       ],
       "layout": {
        "barmode": "stack",
        "height": 1200,
        "template": {
         "data": {
          "bar": [
           {
            "error_x": {
             "color": "#2a3f5f"
            },
            "error_y": {
             "color": "#2a3f5f"
            },
            "marker": {
             "line": {
              "color": "#E5ECF6",
              "width": 0.5
             }
            },
            "type": "bar"
           }
          ],
          "barpolar": [
           {
            "marker": {
             "line": {
              "color": "#E5ECF6",
              "width": 0.5
             }
            },
            "type": "barpolar"
           }
          ],
          "carpet": [
           {
            "aaxis": {
             "endlinecolor": "#2a3f5f",
             "gridcolor": "white",
             "linecolor": "white",
             "minorgridcolor": "white",
             "startlinecolor": "#2a3f5f"
            },
            "baxis": {
             "endlinecolor": "#2a3f5f",
             "gridcolor": "white",
             "linecolor": "white",
             "minorgridcolor": "white",
             "startlinecolor": "#2a3f5f"
            },
            "type": "carpet"
           }
          ],
          "choropleth": [
           {
            "colorbar": {
             "outlinewidth": 0,
             "ticks": ""
            },
            "type": "choropleth"
           }
          ],
          "contour": [
           {
            "colorbar": {
             "outlinewidth": 0,
             "ticks": ""
            },
            "colorscale": [
             [
              0,
              "#0d0887"
             ],
             [
              0.1111111111111111,
              "#46039f"
             ],
             [
              0.2222222222222222,
              "#7201a8"
             ],
             [
              0.3333333333333333,
              "#9c179e"
             ],
             [
              0.4444444444444444,
              "#bd3786"
             ],
             [
              0.5555555555555556,
              "#d8576b"
             ],
             [
              0.6666666666666666,
              "#ed7953"
             ],
             [
              0.7777777777777778,
              "#fb9f3a"
             ],
             [
              0.8888888888888888,
              "#fdca26"
             ],
             [
              1,
              "#f0f921"
             ]
            ],
            "type": "contour"
           }
          ],
          "contourcarpet": [
           {
            "colorbar": {
             "outlinewidth": 0,
             "ticks": ""
            },
            "type": "contourcarpet"
           }
          ],
          "heatmap": [
           {
            "colorbar": {
             "outlinewidth": 0,
             "ticks": ""
            },
            "colorscale": [
             [
              0,
              "#0d0887"
             ],
             [
              0.1111111111111111,
              "#46039f"
             ],
             [
              0.2222222222222222,
              "#7201a8"
             ],
             [
              0.3333333333333333,
              "#9c179e"
             ],
             [
              0.4444444444444444,
              "#bd3786"
             ],
             [
              0.5555555555555556,
              "#d8576b"
             ],
             [
              0.6666666666666666,
              "#ed7953"
             ],
             [
              0.7777777777777778,
              "#fb9f3a"
             ],
             [
              0.8888888888888888,
              "#fdca26"
             ],
             [
              1,
              "#f0f921"
             ]
            ],
            "type": "heatmap"
           }
          ],
          "heatmapgl": [
           {
            "colorbar": {
             "outlinewidth": 0,
             "ticks": ""
            },
            "colorscale": [
             [
              0,
              "#0d0887"
             ],
             [
              0.1111111111111111,
              "#46039f"
             ],
             [
              0.2222222222222222,
              "#7201a8"
             ],
             [
              0.3333333333333333,
              "#9c179e"
             ],
             [
              0.4444444444444444,
              "#bd3786"
             ],
             [
              0.5555555555555556,
              "#d8576b"
             ],
             [
              0.6666666666666666,
              "#ed7953"
             ],
             [
              0.7777777777777778,
              "#fb9f3a"
             ],
             [
              0.8888888888888888,
              "#fdca26"
             ],
             [
              1,
              "#f0f921"
             ]
            ],
            "type": "heatmapgl"
           }
          ],
          "histogram": [
           {
            "marker": {
             "colorbar": {
              "outlinewidth": 0,
              "ticks": ""
             }
            },
            "type": "histogram"
           }
          ],
          "histogram2d": [
           {
            "colorbar": {
             "outlinewidth": 0,
             "ticks": ""
            },
            "colorscale": [
             [
              0,
              "#0d0887"
             ],
             [
              0.1111111111111111,
              "#46039f"
             ],
             [
              0.2222222222222222,
              "#7201a8"
             ],
             [
              0.3333333333333333,
              "#9c179e"
             ],
             [
              0.4444444444444444,
              "#bd3786"
             ],
             [
              0.5555555555555556,
              "#d8576b"
             ],
             [
              0.6666666666666666,
              "#ed7953"
             ],
             [
              0.7777777777777778,
              "#fb9f3a"
             ],
             [
              0.8888888888888888,
              "#fdca26"
             ],
             [
              1,
              "#f0f921"
             ]
            ],
            "type": "histogram2d"
           }
          ],
          "histogram2dcontour": [
           {
            "colorbar": {
             "outlinewidth": 0,
             "ticks": ""
            },
            "colorscale": [
             [
              0,
              "#0d0887"
             ],
             [
              0.1111111111111111,
              "#46039f"
             ],
             [
              0.2222222222222222,
              "#7201a8"
             ],
             [
              0.3333333333333333,
              "#9c179e"
             ],
             [
              0.4444444444444444,
              "#bd3786"
             ],
             [
              0.5555555555555556,
              "#d8576b"
             ],
             [
              0.6666666666666666,
              "#ed7953"
             ],
             [
              0.7777777777777778,
              "#fb9f3a"
             ],
             [
              0.8888888888888888,
              "#fdca26"
             ],
             [
              1,
              "#f0f921"
             ]
            ],
            "type": "histogram2dcontour"
           }
          ],
          "mesh3d": [
           {
            "colorbar": {
             "outlinewidth": 0,
             "ticks": ""
            },
            "type": "mesh3d"
           }
          ],
          "parcoords": [
           {
            "line": {
             "colorbar": {
              "outlinewidth": 0,
              "ticks": ""
             }
            },
            "type": "parcoords"
           }
          ],
          "pie": [
           {
            "automargin": true,
            "type": "pie"
           }
          ],
          "scatter": [
           {
            "marker": {
             "colorbar": {
              "outlinewidth": 0,
              "ticks": ""
             }
            },
            "type": "scatter"
           }
          ],
          "scatter3d": [
           {
            "line": {
             "colorbar": {
              "outlinewidth": 0,
              "ticks": ""
             }
            },
            "marker": {
             "colorbar": {
              "outlinewidth": 0,
              "ticks": ""
             }
            },
            "type": "scatter3d"
           }
          ],
          "scattercarpet": [
           {
            "marker": {
             "colorbar": {
              "outlinewidth": 0,
              "ticks": ""
             }
            },
            "type": "scattercarpet"
           }
          ],
          "scattergeo": [
           {
            "marker": {
             "colorbar": {
              "outlinewidth": 0,
              "ticks": ""
             }
            },
            "type": "scattergeo"
           }
          ],
          "scattergl": [
           {
            "marker": {
             "colorbar": {
              "outlinewidth": 0,
              "ticks": ""
             }
            },
            "type": "scattergl"
           }
          ],
          "scattermapbox": [
           {
            "marker": {
             "colorbar": {
              "outlinewidth": 0,
              "ticks": ""
             }
            },
            "type": "scattermapbox"
           }
          ],
          "scatterpolar": [
           {
            "marker": {
             "colorbar": {
              "outlinewidth": 0,
              "ticks": ""
             }
            },
            "type": "scatterpolar"
           }
          ],
          "scatterpolargl": [
           {
            "marker": {
             "colorbar": {
              "outlinewidth": 0,
              "ticks": ""
             }
            },
            "type": "scatterpolargl"
           }
          ],
          "scatterternary": [
           {
            "marker": {
             "colorbar": {
              "outlinewidth": 0,
              "ticks": ""
             }
            },
            "type": "scatterternary"
           }
          ],
          "surface": [
           {
            "colorbar": {
             "outlinewidth": 0,
             "ticks": ""
            },
            "colorscale": [
             [
              0,
              "#0d0887"
             ],
             [
              0.1111111111111111,
              "#46039f"
             ],
             [
              0.2222222222222222,
              "#7201a8"
             ],
             [
              0.3333333333333333,
              "#9c179e"
             ],
             [
              0.4444444444444444,
              "#bd3786"
             ],
             [
              0.5555555555555556,
              "#d8576b"
             ],
             [
              0.6666666666666666,
              "#ed7953"
             ],
             [
              0.7777777777777778,
              "#fb9f3a"
             ],
             [
              0.8888888888888888,
              "#fdca26"
             ],
             [
              1,
              "#f0f921"
             ]
            ],
            "type": "surface"
           }
          ],
          "table": [
           {
            "cells": {
             "fill": {
              "color": "#EBF0F8"
             },
             "line": {
              "color": "white"
             }
            },
            "header": {
             "fill": {
              "color": "#C8D4E3"
             },
             "line": {
              "color": "white"
             }
            },
            "type": "table"
           }
          ]
         },
         "layout": {
          "annotationdefaults": {
           "arrowcolor": "#2a3f5f",
           "arrowhead": 0,
           "arrowwidth": 1
          },
          "autotypenumbers": "strict",
          "coloraxis": {
           "colorbar": {
            "outlinewidth": 0,
            "ticks": ""
           }
          },
          "colorscale": {
           "diverging": [
            [
             0,
             "#8e0152"
            ],
            [
             0.1,
             "#c51b7d"
            ],
            [
             0.2,
             "#de77ae"
            ],
            [
             0.3,
             "#f1b6da"
            ],
            [
             0.4,
             "#fde0ef"
            ],
            [
             0.5,
             "#f7f7f7"
            ],
            [
             0.6,
             "#e6f5d0"
            ],
            [
             0.7,
             "#b8e186"
            ],
            [
             0.8,
             "#7fbc41"
            ],
            [
             0.9,
             "#4d9221"
            ],
            [
             1,
             "#276419"
            ]
           ],
           "sequential": [
            [
             0,
             "#0d0887"
            ],
            [
             0.1111111111111111,
             "#46039f"
            ],
            [
             0.2222222222222222,
             "#7201a8"
            ],
            [
             0.3333333333333333,
             "#9c179e"
            ],
            [
             0.4444444444444444,
             "#bd3786"
            ],
            [
             0.5555555555555556,
             "#d8576b"
            ],
            [
             0.6666666666666666,
             "#ed7953"
            ],
            [
             0.7777777777777778,
             "#fb9f3a"
            ],
            [
             0.8888888888888888,
             "#fdca26"
            ],
            [
             1,
             "#f0f921"
            ]
           ],
           "sequentialminus": [
            [
             0,
             "#0d0887"
            ],
            [
             0.1111111111111111,
             "#46039f"
            ],
            [
             0.2222222222222222,
             "#7201a8"
            ],
            [
             0.3333333333333333,
             "#9c179e"
            ],
            [
             0.4444444444444444,
             "#bd3786"
            ],
            [
             0.5555555555555556,
             "#d8576b"
            ],
            [
             0.6666666666666666,
             "#ed7953"
            ],
            [
             0.7777777777777778,
             "#fb9f3a"
            ],
            [
             0.8888888888888888,
             "#fdca26"
            ],
            [
             1,
             "#f0f921"
            ]
           ]
          },
          "colorway": [
           "#636efa",
           "#EF553B",
           "#00cc96",
           "#ab63fa",
           "#FFA15A",
           "#19d3f3",
           "#FF6692",
           "#B6E880",
           "#FF97FF",
           "#FECB52"
          ],
          "font": {
           "color": "#2a3f5f"
          },
          "geo": {
           "bgcolor": "white",
           "lakecolor": "white",
           "landcolor": "#E5ECF6",
           "showlakes": true,
           "showland": true,
           "subunitcolor": "white"
          },
          "hoverlabel": {
           "align": "left"
          },
          "hovermode": "closest",
          "mapbox": {
           "style": "light"
          },
          "paper_bgcolor": "white",
          "plot_bgcolor": "#E5ECF6",
          "polar": {
           "angularaxis": {
            "gridcolor": "white",
            "linecolor": "white",
            "ticks": ""
           },
           "bgcolor": "#E5ECF6",
           "radialaxis": {
            "gridcolor": "white",
            "linecolor": "white",
            "ticks": ""
           }
          },
          "scene": {
           "xaxis": {
            "backgroundcolor": "#E5ECF6",
            "gridcolor": "white",
            "gridwidth": 2,
            "linecolor": "white",
            "showbackground": true,
            "ticks": "",
            "zerolinecolor": "white"
           },
           "yaxis": {
            "backgroundcolor": "#E5ECF6",
            "gridcolor": "white",
            "gridwidth": 2,
            "linecolor": "white",
            "showbackground": true,
            "ticks": "",
            "zerolinecolor": "white"
           },
           "zaxis": {
            "backgroundcolor": "#E5ECF6",
            "gridcolor": "white",
            "gridwidth": 2,
            "linecolor": "white",
            "showbackground": true,
            "ticks": "",
            "zerolinecolor": "white"
           }
          },
          "shapedefaults": {
           "line": {
            "color": "#2a3f5f"
           }
          },
          "ternary": {
           "aaxis": {
            "gridcolor": "white",
            "linecolor": "white",
            "ticks": ""
           },
           "baxis": {
            "gridcolor": "white",
            "linecolor": "white",
            "ticks": ""
           },
           "bgcolor": "#E5ECF6",
           "caxis": {
            "gridcolor": "white",
            "linecolor": "white",
            "ticks": ""
           }
          },
          "title": {
           "x": 0.05
          },
          "xaxis": {
           "automargin": true,
           "gridcolor": "white",
           "linecolor": "white",
           "ticks": "",
           "title": {
            "standoff": 15
           },
           "zerolinecolor": "white",
           "zerolinewidth": 2
          },
          "yaxis": {
           "automargin": true,
           "gridcolor": "white",
           "linecolor": "white",
           "ticks": "",
           "title": {
            "standoff": 15
           },
           "zerolinecolor": "white",
           "zerolinewidth": 2
          }
         }
        },
        "title": {
         "font": {
          "size": 20
         },
         "text": "Stacked Bar Chart of All Countries COVID-19 Cases on Mar 17, 2021",
         "x": 0.5,
         "xanchor": "center"
        }
       }
      },
      "text/html": [
       "<div>                            <div id=\"0fe0ef41-7760-46f7-9101-3d315d4d43a1\" class=\"plotly-graph-div\" style=\"height:1200px; width:100%;\"></div>            <script type=\"text/javascript\">                require([\"plotly\"], function(Plotly) {                    window.PLOTLYENV=window.PLOTLYENV || {};                                    if (document.getElementById(\"0fe0ef41-7760-46f7-9101-3d315d4d43a1\")) {                    Plotly.newPlot(                        \"0fe0ef41-7760-46f7-9101-3d315d4d43a1\",                        [{\"name\": \"USA\", \"type\": \"bar\", \"y\": [30294798]}, {\"name\": \"Brazil\", \"type\": \"bar\", \"y\": [11700431]}, {\"name\": \"India\", \"type\": \"bar\", \"y\": [11474302]}, {\"name\": \"Russia\", \"type\": \"bar\", \"y\": [4418436]}, {\"name\": \"UK\", \"type\": \"bar\", \"y\": [4274579]}, {\"name\": \"France\", \"type\": \"bar\", \"y\": [4146609]}, {\"name\": \"Italy\", \"type\": \"bar\", \"y\": [3281810]}, {\"name\": \"Spain\", \"type\": \"bar\", \"y\": [3206116]}, {\"name\": \"Turkey\", \"type\": \"bar\", \"y\": [2930554]}, {\"name\": \"Germany\", \"type\": \"bar\", \"y\": [2610769]}, {\"name\": \"Colombia\", \"type\": \"bar\", \"y\": [2314154]}, {\"name\": \"Argentina\", \"type\": \"bar\", \"y\": [2218425]}, {\"name\": \"Mexico\", \"type\": \"bar\", \"y\": [2169007]}, {\"name\": \"Poland\", \"type\": \"bar\", \"y\": [1956974]}, {\"name\": \"Iran\", \"type\": \"bar\", \"y\": [1771115]}, {\"name\": \"South Africa\", \"type\": \"bar\", \"y\": [1532497]}, {\"name\": \"Ukraine\", \"type\": \"bar\", \"y\": [1489023]}, {\"name\": \"Indonesia\", \"type\": \"bar\", \"y\": [1437283]}, {\"name\": \"Peru\", \"type\": \"bar\", \"y\": [1435598]}, {\"name\": \"Czechia\", \"type\": \"bar\", \"y\": [1426991]}, {\"name\": \"Netherlands\", \"type\": \"bar\", \"y\": [1173487]}, {\"name\": \"Canada\", \"type\": \"bar\", \"y\": [919239]}, {\"name\": \"Chile\", \"type\": \"bar\", \"y\": [905212]}, {\"name\": \"Romania\", \"type\": \"bar\", \"y\": [874985]}, {\"name\": \"Israel\", \"type\": \"bar\", \"y\": [824178]}, {\"name\": \"Portugal\", \"type\": \"bar\", \"y\": [815570]}, {\"name\": \"Belgium\", \"type\": \"bar\", \"y\": [813026]}, {\"name\": \"Iraq\", \"type\": \"bar\", \"y\": [774015]}, {\"name\": \"Sweden\", \"type\": \"bar\", \"y\": [732070]}, {\"name\": \"Philippines\", \"type\": \"bar\", \"y\": [635698]}, {\"name\": \"Pakistan\", \"type\": \"bar\", \"y\": [612315]}, {\"name\": \"Switzerland\", \"type\": \"bar\", \"y\": [577111]}, {\"name\": \"Bangladesh\", \"type\": \"bar\", \"y\": [562752]}, {\"name\": \"Hungary\", \"type\": \"bar\", \"y\": [532578]}, {\"name\": \"Serbia\", \"type\": \"bar\", \"y\": [531558]}, {\"name\": \"Jordan\", \"type\": \"bar\", \"y\": [504915]}, {\"name\": \"Austria\", \"type\": \"bar\", \"y\": [501224]}, {\"name\": \"Morocco\", \"type\": \"bar\", \"y\": [490088]}, {\"name\": \"Japan\", \"type\": \"bar\", \"y\": [449713]}, {\"name\": \"UAE\", \"type\": \"bar\", \"y\": [432364]}, {\"name\": \"Lebanon\", \"type\": \"bar\", \"y\": [426977]}, {\"name\": \"Saudi Arabia\", \"type\": \"bar\", \"y\": [383499]}, {\"name\": \"Panama\", \"type\": \"bar\", \"y\": [349020]}, {\"name\": \"Slovakia\", \"type\": \"bar\", \"y\": [342430]}, {\"name\": \"Malaysia\", \"type\": \"bar\", \"y\": [327253]}, {\"name\": \"Ecuador\", \"type\": \"bar\", \"y\": [305598]}, {\"name\": \"Belarus\", \"type\": \"bar\", \"y\": [305270]}, {\"name\": \"Bulgaria\", \"type\": \"bar\", \"y\": [291769]}, {\"name\": \"Georgia\", \"type\": \"bar\", \"y\": [276067]}, {\"name\": \"Nepal\", \"type\": \"bar\", \"y\": [275518]}, {\"name\": \"Bolivia\", \"type\": \"bar\", \"y\": [260988]}, {\"name\": \"Croatia\", \"type\": \"bar\", \"y\": [253310]}, {\"name\": \"Dominican Republic\", \"type\": \"bar\", \"y\": [247364]}, {\"name\": \"Tunisia\", \"type\": \"bar\", \"y\": [243439]}, {\"name\": \"Azerbaijan\", \"type\": \"bar\", \"y\": [242491]}, {\"name\": \"Ireland\", \"type\": \"bar\", \"y\": [228215]}, {\"name\": \"Greece\", \"type\": \"bar\", \"y\": [227247]}, {\"name\": \"Kazakhstan\", \"type\": \"bar\", \"y\": [226767]}, {\"name\": \"Denmark\", \"type\": \"bar\", \"y\": [222629]}, {\"name\": \"Palestine\", \"type\": \"bar\", \"y\": [215984]}, {\"name\": \"Kuwait\", \"type\": \"bar\", \"y\": [213673]}, {\"name\": \"Costa Rica\", \"type\": \"bar\", \"y\": [210447]}, {\"name\": \"Moldova\", \"type\": \"bar\", \"y\": [208928]}, {\"name\": \"Lithuania\", \"type\": \"bar\", \"y\": [206889]}, {\"name\": \"Slovenia\", \"type\": \"bar\", \"y\": [202573]}, {\"name\": \"Egypt\", \"type\": \"bar\", \"y\": [192840]}, {\"name\": \"Paraguay\", \"type\": \"bar\", \"y\": [185888]}, {\"name\": \"Guatemala\", \"type\": \"bar\", \"y\": [184934]}, {\"name\": \"Armenia\", \"type\": \"bar\", \"y\": [180141]}, {\"name\": \"Ethiopia\", \"type\": \"bar\", \"y\": [179812]}, {\"name\": \"Honduras\", \"type\": \"bar\", \"y\": [179515]}, {\"name\": \"Qatar\", \"type\": \"bar\", \"y\": [171701]}, {\"name\": \"Nigeria\", \"type\": \"bar\", \"y\": [161261]}, {\"name\": \"Oman\", \"type\": \"bar\", \"y\": [148558]}, {\"name\": \"Libya\", \"type\": \"bar\", \"y\": [148175]}, {\"name\": \"Bosnia and Herzegovina\", \"type\": \"bar\", \"y\": [148163]}, {\"name\": \"Venezuela\", \"type\": \"bar\", \"y\": [147577]}, {\"name\": \"Myanmar\", \"type\": \"bar\", \"y\": [142190]}, {\"name\": \"Bahrain\", \"type\": \"bar\", \"y\": [133137]}, {\"name\": \"Albania\", \"type\": \"bar\", \"y\": [118938]}, {\"name\": \"Kenya\", \"type\": \"bar\", \"y\": [116310]}, {\"name\": \"Algeria\", \"type\": \"bar\", \"y\": [115688]}, {\"name\": \"North Macedonia\", \"type\": \"bar\", \"y\": [115222]}, {\"name\": \"S. Korea\", \"type\": \"bar\", \"y\": [96849]}, {\"name\": \"Latvia\", \"type\": \"bar\", \"y\": [95420]}, {\"name\": \"Estonia\", \"type\": \"bar\", \"y\": [89331]}, {\"name\": \"Sri Lanka\", \"type\": \"bar\", \"y\": [88862]}, {\"name\": \"Ghana\", \"type\": \"bar\", \"y\": [88421]}, {\"name\": \"Kyrgyzstan\", \"type\": \"bar\", \"y\": [87045]}, {\"name\": \"Zambia\", \"type\": \"bar\", \"y\": [85502]}, {\"name\": \"Montenegro\", \"type\": \"bar\", \"y\": [85253]}, {\"name\": \"Norway\", \"type\": \"bar\", \"y\": [83519]}, {\"name\": \"Uzbekistan\", \"type\": \"bar\", \"y\": [80858]}, {\"name\": \"Uruguay\", \"type\": \"bar\", \"y\": [75138]}, {\"name\": \"Finland\", \"type\": \"bar\", \"y\": [68693]}, {\"name\": \"Mozambique\", \"type\": \"bar\", \"y\": [65197]}, {\"name\": \"Cuba\", \"type\": \"bar\", \"y\": [63725]}, {\"name\": \"El Salvador\", \"type\": \"bar\", \"y\": [62531]}, {\"name\": \"Singapore\", \"type\": \"bar\", \"y\": [60137]}, {\"name\": \"Luxembourg\", \"type\": \"bar\", \"y\": [58408]}, {\"name\": \"Afghanistan\", \"type\": \"bar\", \"y\": [56044]}, {\"name\": \"Namibia\", \"type\": \"bar\", \"y\": [41546]}, {\"name\": \"Cyprus\", \"type\": \"bar\", \"y\": [40726]}, {\"name\": \"Cameroon\", \"type\": \"bar\", \"y\": [40622]}, {\"name\": \"Uganda\", \"type\": \"bar\", \"y\": [40607]}, {\"name\": \"Ivory Coast\", \"type\": \"bar\", \"y\": [38282]}, {\"name\": \"Senegal\", \"type\": \"bar\", \"y\": [37254]}, {\"name\": \"Zimbabwe\", \"type\": \"bar\", \"y\": [36552]}, {\"name\": \"Botswana\", \"type\": \"bar\", \"y\": [34999]}, {\"name\": \"Malawi\", \"type\": \"bar\", \"y\": [32970]}, {\"name\": \"Jamaica\", \"type\": \"bar\", \"y\": [32728]}, {\"name\": \"Australia\", \"type\": \"bar\", \"y\": [29154]}, {\"name\": \"Sudan\", \"type\": \"bar\", \"y\": [29135]}, {\"name\": \"Thailand\", \"type\": \"bar\", \"y\": [27402]}, {\"name\": \"Malta\", \"type\": \"bar\", \"y\": [27272]}, {\"name\": \"DRC\", \"type\": \"bar\", \"y\": [27252]}, {\"name\": \"Maldives\", \"type\": \"bar\", \"y\": [21961]}, {\"name\": \"Madagascar\", \"type\": \"bar\", \"y\": [21826]}, {\"name\": \"Angola\", \"type\": \"bar\", \"y\": [21489]}, {\"name\": \"Rwanda\", \"type\": \"bar\", \"y\": [20480]}, {\"name\": \"Mayotte\", \"type\": \"bar\", \"y\": [18922]}, {\"name\": \"French Polynesia\", \"type\": \"bar\", \"y\": [18566]}, {\"name\": \"Guinea\", \"type\": \"bar\", \"y\": [18285]}, {\"name\": \"Mauritania\", \"type\": \"bar\", \"y\": [17521]}, {\"name\": \"Gabon\", \"type\": \"bar\", \"y\": [17297]}, {\"name\": \"Eswatini\", \"type\": \"bar\", \"y\": [17257]}, {\"name\": \"Syria\", \"type\": \"bar\", \"y\": [16776]}, {\"name\": \"French Guiana\", \"type\": \"bar\", \"y\": [16764]}, {\"name\": \"Cabo Verde\", \"type\": \"bar\", \"y\": [16250]}, {\"name\": \"R\\u00e9union\", \"type\": \"bar\", \"y\": [13801]}, {\"name\": \"Haiti\", \"type\": \"bar\", \"y\": [12686]}, {\"name\": \"Burkina Faso\", \"type\": \"bar\", \"y\": [12399]}, {\"name\": \"Belize\", \"type\": \"bar\", \"y\": [12396]}, {\"name\": \"Andorra\", \"type\": \"bar\", \"y\": [11360]}, {\"name\": \"Hong Kong\", \"type\": \"bar\", \"y\": [11341]}, {\"name\": \"Guadeloupe\", \"type\": \"bar\", \"y\": [10976]}, {\"name\": \"Lesotho\", \"type\": \"bar\", \"y\": [10530]}, {\"name\": \"South Sudan\", \"type\": \"bar\", \"y\": [9694]}, {\"name\": \"Somalia\", \"type\": \"bar\", \"y\": [9600]}, {\"name\": \"Congo\", \"type\": \"bar\", \"y\": [9329]}, {\"name\": \"Guyana\", \"type\": \"bar\", \"y\": [9322]}, {\"name\": \"Mali\", \"type\": \"bar\", \"y\": [9066]}, {\"name\": \"Suriname\", \"type\": \"bar\", \"y\": [9042]}, {\"name\": \"Bahamas\", \"type\": \"bar\", \"y\": [8800]}, {\"name\": \"Aruba\", \"type\": \"bar\", \"y\": [8551]}, {\"name\": \"Togo\", \"type\": \"bar\", \"y\": [8472]}, {\"name\": \"Trinidad and Tobago\", \"type\": \"bar\", \"y\": [7807]}, {\"name\": \"Martinique\", \"type\": \"bar\", \"y\": [7309]}, {\"name\": \"Equatorial Guinea\", \"type\": \"bar\", \"y\": [6603]}, {\"name\": \"Nicaragua\", \"type\": \"bar\", \"y\": [6582]}, {\"name\": \"Benin\", \"type\": \"bar\", \"y\": [6501]}, {\"name\": \"Djibouti\", \"type\": \"bar\", \"y\": [6385]}, {\"name\": \"Iceland\", \"type\": \"bar\", \"y\": [6089]}, {\"name\": \"Cura\\u00e7ao\", \"type\": \"bar\", \"y\": [5380]}, {\"name\": \"Gambia\", \"type\": \"bar\", \"y\": [5085]}, {\"name\": \"CAR\", \"type\": \"bar\", \"y\": [5064]}, {\"name\": \"Niger\", \"type\": \"bar\", \"y\": [4904]}, {\"name\": \"Chad\", \"type\": \"bar\", \"y\": [4357]}, {\"name\": \"Mongolia\", \"type\": \"bar\", \"y\": [4340]}, {\"name\": \"Gibraltar\", \"type\": \"bar\", \"y\": [4270]}, {\"name\": \"San Marino\", \"type\": \"bar\", \"y\": [4249]}, {\"name\": \"Saint Lucia\", \"type\": \"bar\", \"y\": [4083]}, {\"name\": \"Channel Islands\", \"type\": \"bar\", \"y\": [4045]}, {\"name\": \"Sierra Leone\", \"type\": \"bar\", \"y\": [3942]}, {\"name\": \"Comoros\", \"type\": \"bar\", \"y\": [3652]}, {\"name\": \"Guinea-Bissau\", \"type\": \"bar\", \"y\": [3488]}, {\"name\": \"Seychelles\", \"type\": \"bar\", \"y\": [3486]}, {\"name\": \"Barbados\", \"type\": \"bar\", \"y\": [3471]}, {\"name\": \"Eritrea\", \"type\": \"bar\", \"y\": [3078]}, {\"name\": \"Yemen\", \"type\": \"bar\", \"y\": [3037]}, {\"name\": \"Liechtenstein\", \"type\": \"bar\", \"y\": [2616]}, {\"name\": \"Vietnam\", \"type\": \"bar\", \"y\": [2567]}, {\"name\": \"Burundi\", \"type\": \"bar\", \"y\": [2461]}, {\"name\": \"New Zealand\", \"type\": \"bar\", \"y\": [2434]}, {\"name\": \"Papua New Guinea\", \"type\": \"bar\", \"y\": [2351]}, {\"name\": \"Turks and Caicos\", \"type\": \"bar\", \"y\": [2253]}, {\"name\": \"Monaco\", \"type\": \"bar\", \"y\": [2141]}, {\"name\": \"Sao Tome and Principe\", \"type\": \"bar\", \"y\": [2107]}, {\"name\": \"Sint Maarten\", \"type\": \"bar\", \"y\": [2093]}, {\"name\": \"Liberia\", \"type\": \"bar\", \"y\": [2042]}, {\"name\": \"St. Vincent Grenadines\", \"type\": \"bar\", \"y\": [1681]}, {\"name\": \"Saint Martin\", \"type\": \"bar\", \"y\": [1602]}, {\"name\": \"Cambodia\", \"type\": \"bar\", \"y\": [1505]}, {\"name\": \"Isle of Man\", \"type\": \"bar\", \"y\": [1383]}, {\"name\": \"Antigua and Barbuda\", \"type\": \"bar\", \"y\": [992]}, {\"name\": \"Taiwan\", \"type\": \"bar\", \"y\": [990]}, {\"name\": \"Caribbean Netherlands\", \"type\": \"bar\", \"y\": [905]}, {\"name\": \"Bhutan\", \"type\": \"bar\", \"y\": [868]}, {\"name\": \"Mauritius\", \"type\": \"bar\", \"y\": [762]}, {\"name\": \"Bermuda\", \"type\": \"bar\", \"y\": [740]}, {\"name\": \"St. Barth\", \"type\": \"bar\", \"y\": [712]}, {\"name\": \"Faeroe Islands\", \"type\": \"bar\", \"y\": [661]}, {\"name\": \"Tanzania\", \"type\": \"bar\", \"y\": [509]}, {\"name\": \"Cayman Islands\", \"type\": \"bar\", \"y\": [474]}, {\"name\": \"Wallis and Futuna\", \"type\": \"bar\", \"y\": [261]}, {\"name\": \"Timor-Leste\", \"type\": \"bar\", \"y\": [216]}, {\"name\": \"Brunei \", \"type\": \"bar\", \"y\": [203]}, {\"name\": \"Dominica\", \"type\": \"bar\", \"y\": [156]}, {\"name\": \"Grenada\", \"type\": \"bar\", \"y\": [154]}, {\"name\": \"British Virgin Islands\", \"type\": \"bar\", \"y\": [153]}, {\"name\": \"New Caledonia\", \"type\": \"bar\", \"y\": [95]}, {\"name\": \"Fiji\", \"type\": \"bar\", \"y\": [66]}, {\"name\": \"Laos\", \"type\": \"bar\", \"y\": [49]}, {\"name\": \"Macao\", \"type\": \"bar\", \"y\": [48]}, {\"name\": \"Saint Kitts and Nevis\", \"type\": \"bar\", \"y\": [43]}, {\"name\": \"Vatican City\", \"type\": \"bar\", \"y\": [27]}, {\"name\": \"Anguilla\", \"type\": \"bar\", \"y\": [21]}, {\"name\": \"Solomon Islands\", \"type\": \"bar\", \"y\": [18]}, {\"name\": \"Western Sahara\", \"type\": \"bar\", \"y\": [10]}, {\"name\": \"Samoa\", \"type\": \"bar\", \"y\": [3]}, {\"name\": \"Vanuatu\", \"type\": \"bar\", \"y\": [3]}],                        {\"barmode\": \"stack\", \"height\": 1200, \"template\": {\"data\": {\"bar\": [{\"error_x\": {\"color\": \"#2a3f5f\"}, \"error_y\": {\"color\": \"#2a3f5f\"}, \"marker\": {\"line\": {\"color\": \"#E5ECF6\", \"width\": 0.5}}, \"type\": \"bar\"}], \"barpolar\": [{\"marker\": {\"line\": {\"color\": \"#E5ECF6\", \"width\": 0.5}}, \"type\": \"barpolar\"}], \"carpet\": [{\"aaxis\": {\"endlinecolor\": \"#2a3f5f\", \"gridcolor\": \"white\", \"linecolor\": \"white\", \"minorgridcolor\": \"white\", \"startlinecolor\": \"#2a3f5f\"}, \"baxis\": {\"endlinecolor\": \"#2a3f5f\", \"gridcolor\": \"white\", \"linecolor\": \"white\", \"minorgridcolor\": \"white\", \"startlinecolor\": \"#2a3f5f\"}, \"type\": \"carpet\"}], \"choropleth\": [{\"colorbar\": {\"outlinewidth\": 0, \"ticks\": \"\"}, \"type\": \"choropleth\"}], \"contour\": [{\"colorbar\": {\"outlinewidth\": 0, \"ticks\": \"\"}, \"colorscale\": [[0.0, \"#0d0887\"], [0.1111111111111111, \"#46039f\"], [0.2222222222222222, \"#7201a8\"], [0.3333333333333333, \"#9c179e\"], [0.4444444444444444, \"#bd3786\"], [0.5555555555555556, \"#d8576b\"], [0.6666666666666666, \"#ed7953\"], [0.7777777777777778, \"#fb9f3a\"], [0.8888888888888888, \"#fdca26\"], [1.0, \"#f0f921\"]], \"type\": \"contour\"}], \"contourcarpet\": [{\"colorbar\": {\"outlinewidth\": 0, \"ticks\": \"\"}, \"type\": \"contourcarpet\"}], \"heatmap\": [{\"colorbar\": {\"outlinewidth\": 0, \"ticks\": \"\"}, \"colorscale\": [[0.0, \"#0d0887\"], [0.1111111111111111, \"#46039f\"], [0.2222222222222222, \"#7201a8\"], [0.3333333333333333, \"#9c179e\"], [0.4444444444444444, \"#bd3786\"], [0.5555555555555556, \"#d8576b\"], [0.6666666666666666, \"#ed7953\"], [0.7777777777777778, \"#fb9f3a\"], [0.8888888888888888, \"#fdca26\"], [1.0, \"#f0f921\"]], \"type\": \"heatmap\"}], \"heatmapgl\": [{\"colorbar\": {\"outlinewidth\": 0, \"ticks\": \"\"}, \"colorscale\": [[0.0, \"#0d0887\"], [0.1111111111111111, \"#46039f\"], [0.2222222222222222, \"#7201a8\"], [0.3333333333333333, \"#9c179e\"], [0.4444444444444444, \"#bd3786\"], [0.5555555555555556, \"#d8576b\"], [0.6666666666666666, \"#ed7953\"], [0.7777777777777778, \"#fb9f3a\"], [0.8888888888888888, \"#fdca26\"], [1.0, \"#f0f921\"]], \"type\": \"heatmapgl\"}], \"histogram\": [{\"marker\": {\"colorbar\": {\"outlinewidth\": 0, \"ticks\": \"\"}}, \"type\": \"histogram\"}], \"histogram2d\": [{\"colorbar\": {\"outlinewidth\": 0, \"ticks\": \"\"}, \"colorscale\": [[0.0, \"#0d0887\"], [0.1111111111111111, \"#46039f\"], [0.2222222222222222, \"#7201a8\"], [0.3333333333333333, \"#9c179e\"], [0.4444444444444444, \"#bd3786\"], [0.5555555555555556, \"#d8576b\"], [0.6666666666666666, \"#ed7953\"], [0.7777777777777778, \"#fb9f3a\"], [0.8888888888888888, \"#fdca26\"], [1.0, \"#f0f921\"]], \"type\": \"histogram2d\"}], \"histogram2dcontour\": [{\"colorbar\": {\"outlinewidth\": 0, \"ticks\": \"\"}, \"colorscale\": [[0.0, \"#0d0887\"], [0.1111111111111111, \"#46039f\"], [0.2222222222222222, \"#7201a8\"], [0.3333333333333333, \"#9c179e\"], [0.4444444444444444, \"#bd3786\"], [0.5555555555555556, \"#d8576b\"], [0.6666666666666666, \"#ed7953\"], [0.7777777777777778, \"#fb9f3a\"], [0.8888888888888888, \"#fdca26\"], [1.0, \"#f0f921\"]], \"type\": \"histogram2dcontour\"}], \"mesh3d\": [{\"colorbar\": {\"outlinewidth\": 0, \"ticks\": \"\"}, \"type\": \"mesh3d\"}], \"parcoords\": [{\"line\": {\"colorbar\": {\"outlinewidth\": 0, \"ticks\": \"\"}}, \"type\": \"parcoords\"}], \"pie\": [{\"automargin\": true, \"type\": \"pie\"}], \"scatter\": [{\"marker\": {\"colorbar\": {\"outlinewidth\": 0, \"ticks\": \"\"}}, \"type\": \"scatter\"}], \"scatter3d\": [{\"line\": {\"colorbar\": {\"outlinewidth\": 0, \"ticks\": \"\"}}, \"marker\": {\"colorbar\": {\"outlinewidth\": 0, \"ticks\": \"\"}}, \"type\": \"scatter3d\"}], \"scattercarpet\": [{\"marker\": {\"colorbar\": {\"outlinewidth\": 0, \"ticks\": \"\"}}, \"type\": \"scattercarpet\"}], \"scattergeo\": [{\"marker\": {\"colorbar\": {\"outlinewidth\": 0, \"ticks\": \"\"}}, \"type\": \"scattergeo\"}], \"scattergl\": [{\"marker\": {\"colorbar\": {\"outlinewidth\": 0, \"ticks\": \"\"}}, \"type\": \"scattergl\"}], \"scattermapbox\": [{\"marker\": {\"colorbar\": {\"outlinewidth\": 0, \"ticks\": \"\"}}, \"type\": \"scattermapbox\"}], \"scatterpolar\": [{\"marker\": {\"colorbar\": {\"outlinewidth\": 0, \"ticks\": \"\"}}, \"type\": \"scatterpolar\"}], \"scatterpolargl\": [{\"marker\": {\"colorbar\": {\"outlinewidth\": 0, \"ticks\": \"\"}}, \"type\": \"scatterpolargl\"}], \"scatterternary\": [{\"marker\": {\"colorbar\": {\"outlinewidth\": 0, \"ticks\": \"\"}}, \"type\": \"scatterternary\"}], \"surface\": [{\"colorbar\": {\"outlinewidth\": 0, \"ticks\": \"\"}, \"colorscale\": [[0.0, \"#0d0887\"], [0.1111111111111111, \"#46039f\"], [0.2222222222222222, \"#7201a8\"], [0.3333333333333333, \"#9c179e\"], [0.4444444444444444, \"#bd3786\"], [0.5555555555555556, \"#d8576b\"], [0.6666666666666666, \"#ed7953\"], [0.7777777777777778, \"#fb9f3a\"], [0.8888888888888888, \"#fdca26\"], [1.0, \"#f0f921\"]], \"type\": \"surface\"}], \"table\": [{\"cells\": {\"fill\": {\"color\": \"#EBF0F8\"}, \"line\": {\"color\": \"white\"}}, \"header\": {\"fill\": {\"color\": \"#C8D4E3\"}, \"line\": {\"color\": \"white\"}}, \"type\": \"table\"}]}, \"layout\": {\"annotationdefaults\": {\"arrowcolor\": \"#2a3f5f\", \"arrowhead\": 0, \"arrowwidth\": 1}, \"autotypenumbers\": \"strict\", \"coloraxis\": {\"colorbar\": {\"outlinewidth\": 0, \"ticks\": \"\"}}, \"colorscale\": {\"diverging\": [[0, \"#8e0152\"], [0.1, \"#c51b7d\"], [0.2, \"#de77ae\"], [0.3, \"#f1b6da\"], [0.4, \"#fde0ef\"], [0.5, \"#f7f7f7\"], [0.6, \"#e6f5d0\"], [0.7, \"#b8e186\"], [0.8, \"#7fbc41\"], [0.9, \"#4d9221\"], [1, \"#276419\"]], \"sequential\": [[0.0, \"#0d0887\"], [0.1111111111111111, \"#46039f\"], [0.2222222222222222, \"#7201a8\"], [0.3333333333333333, \"#9c179e\"], [0.4444444444444444, \"#bd3786\"], [0.5555555555555556, \"#d8576b\"], [0.6666666666666666, \"#ed7953\"], [0.7777777777777778, \"#fb9f3a\"], [0.8888888888888888, \"#fdca26\"], [1.0, \"#f0f921\"]], \"sequentialminus\": [[0.0, \"#0d0887\"], [0.1111111111111111, \"#46039f\"], [0.2222222222222222, \"#7201a8\"], [0.3333333333333333, \"#9c179e\"], [0.4444444444444444, \"#bd3786\"], [0.5555555555555556, \"#d8576b\"], [0.6666666666666666, \"#ed7953\"], [0.7777777777777778, \"#fb9f3a\"], [0.8888888888888888, \"#fdca26\"], [1.0, \"#f0f921\"]]}, \"colorway\": [\"#636efa\", \"#EF553B\", \"#00cc96\", \"#ab63fa\", \"#FFA15A\", \"#19d3f3\", \"#FF6692\", \"#B6E880\", \"#FF97FF\", \"#FECB52\"], \"font\": {\"color\": \"#2a3f5f\"}, \"geo\": {\"bgcolor\": \"white\", \"lakecolor\": \"white\", \"landcolor\": \"#E5ECF6\", \"showlakes\": true, \"showland\": true, \"subunitcolor\": \"white\"}, \"hoverlabel\": {\"align\": \"left\"}, \"hovermode\": \"closest\", \"mapbox\": {\"style\": \"light\"}, \"paper_bgcolor\": \"white\", \"plot_bgcolor\": \"#E5ECF6\", \"polar\": {\"angularaxis\": {\"gridcolor\": \"white\", \"linecolor\": \"white\", \"ticks\": \"\"}, \"bgcolor\": \"#E5ECF6\", \"radialaxis\": {\"gridcolor\": \"white\", \"linecolor\": \"white\", \"ticks\": \"\"}}, \"scene\": {\"xaxis\": {\"backgroundcolor\": \"#E5ECF6\", \"gridcolor\": \"white\", \"gridwidth\": 2, \"linecolor\": \"white\", \"showbackground\": true, \"ticks\": \"\", \"zerolinecolor\": \"white\"}, \"yaxis\": {\"backgroundcolor\": \"#E5ECF6\", \"gridcolor\": \"white\", \"gridwidth\": 2, \"linecolor\": \"white\", \"showbackground\": true, \"ticks\": \"\", \"zerolinecolor\": \"white\"}, \"zaxis\": {\"backgroundcolor\": \"#E5ECF6\", \"gridcolor\": \"white\", \"gridwidth\": 2, \"linecolor\": \"white\", \"showbackground\": true, \"ticks\": \"\", \"zerolinecolor\": \"white\"}}, \"shapedefaults\": {\"line\": {\"color\": \"#2a3f5f\"}}, \"ternary\": {\"aaxis\": {\"gridcolor\": \"white\", \"linecolor\": \"white\", \"ticks\": \"\"}, \"baxis\": {\"gridcolor\": \"white\", \"linecolor\": \"white\", \"ticks\": \"\"}, \"bgcolor\": \"#E5ECF6\", \"caxis\": {\"gridcolor\": \"white\", \"linecolor\": \"white\", \"ticks\": \"\"}}, \"title\": {\"x\": 0.05}, \"xaxis\": {\"automargin\": true, \"gridcolor\": \"white\", \"linecolor\": \"white\", \"ticks\": \"\", \"title\": {\"standoff\": 15}, \"zerolinecolor\": \"white\", \"zerolinewidth\": 2}, \"yaxis\": {\"automargin\": true, \"gridcolor\": \"white\", \"linecolor\": \"white\", \"ticks\": \"\", \"title\": {\"standoff\": 15}, \"zerolinecolor\": \"white\", \"zerolinewidth\": 2}}}, \"title\": {\"font\": {\"size\": 20}, \"text\": \"Stacked Bar Chart of All Countries COVID-19 Cases on Mar 17, 2021\", \"x\": 0.5, \"xanchor\": \"center\"}},                        {\"responsive\": true}                    ).then(function(){\n",
       "                            \n",
       "var gd = document.getElementById('0fe0ef41-7760-46f7-9101-3d315d4d43a1');\n",
       "var x = new MutationObserver(function (mutations, observer) {{\n",
       "        var display = window.getComputedStyle(gd).display;\n",
       "        if (!display || display === 'none') {{\n",
       "            console.log([gd, 'removed!']);\n",
       "            Plotly.purge(gd);\n",
       "            observer.disconnect();\n",
       "        }}\n",
       "}});\n",
       "\n",
       "// Listen for the removal of the full notebook cells\n",
       "var notebookContainer = gd.closest('#notebook-container');\n",
       "if (notebookContainer) {{\n",
       "    x.observe(notebookContainer, {childList: true});\n",
       "}}\n",
       "\n",
       "// Listen for the clearing of the current output cell\n",
       "var outputEl = gd.closest('.output');\n",
       "if (outputEl) {{\n",
       "    x.observe(outputEl, {childList: true});\n",
       "}}\n",
       "\n",
       "                        })                };                });            </script>        </div>"
      ]
     },
     "metadata": {},
     "output_type": "display_data"
    }
   ],
   "source": [
    "bar_list = []\n",
    "for i in country_df.index:\n",
    "    bar_list.append(go.Bar(name=country_df['Country'][i], y=[country_df['Total Cases'][i]]))\n",
    "    \n",
    "fig = go.Figure(data=bar_list)\n",
    "fig.update_layout(title={'text': 'Stacked Bar Chart of All Countries COVID-19 Cases on %s' % yesterday_str, 'x': 0.5,\n",
    "                         'xanchor': 'center', 'font': {'size': 20}}, barmode='stack', height=1200)\n",
    "fig.show()"
   ]
  },
  {
   "cell_type": "code",
   "execution_count": null,
   "id": "respiratory-lafayette",
   "metadata": {},
   "outputs": [],
   "source": []
  }
 ],
 "metadata": {
  "kernelspec": {
   "display_name": "conda_python3",
   "language": "python",
   "name": "conda_python3"
  },
  "language_info": {
   "codemirror_mode": {
    "name": "ipython",
    "version": 3
   },
   "file_extension": ".py",
   "mimetype": "text/x-python",
   "name": "python",
   "nbconvert_exporter": "python",
   "pygments_lexer": "ipython3",
   "version": "3.6.13"
  }
 },
 "nbformat": 4,
 "nbformat_minor": 5
}
